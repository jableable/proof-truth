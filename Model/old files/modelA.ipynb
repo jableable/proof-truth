{
 "cells": [
  {
   "cell_type": "code",
   "execution_count": 1,
   "metadata": {},
   "outputs": [],
   "source": [
    "#from our_dataset import ProofDataset\n",
    "from our_dataset_with_labels import ProofDatasetWithLabels\n",
    "from statement_embedding import emb_to_stmt, num_to_label"
   ]
  },
  {
   "cell_type": "code",
   "execution_count": 2,
   "metadata": {},
   "outputs": [],
   "source": [
    "# WARNING!!!!\n",
    "# running ProofDataset(root=\"data/\", file_limit=None) currently has a high initial cost\n",
    "# it requires ~63 GB of space, and it took my computer about 2 hours to run\n",
    "# however, after an initial run, the dataset doesn't need to be created again\n",
    "# secondary runs merely verify that all files are in place; this takes my computer about 15s\n",
    "# WARNING!!!!\n",
    "\n",
    "# to avoid previous warning, use file_limit=8000 to only load and verify the first 8000 graphs (<4GB)\n",
    "\n",
    "pf_data = ProofDatasetWithLabels(root=\"data/\",file_limit=100)"
   ]
  },
  {
   "cell_type": "code",
   "execution_count": 3,
   "metadata": {},
   "outputs": [
    {
     "name": "stdout",
     "output_type": "stream",
     "text": [
      "Number of graphs: 100\n"
     ]
    }
   ],
   "source": [
    "# number of graphs equal to file_limit (42494 if file_limit=None)\n",
    "print(f'Number of graphs: {len(pf_data)}')"
   ]
  },
  {
   "cell_type": "code",
   "execution_count": 3,
   "metadata": {},
   "outputs": [
    {
     "name": "stdout",
     "output_type": "stream",
     "text": [
      "tensor([[1., 2., 0., 3.],\n",
      "        [3., 3., 4., 4.]])\n"
     ]
    }
   ],
   "source": [
    "print(pf_data.get(2).edge_index)"
   ]
  },
  {
   "cell_type": "code",
   "execution_count": 5,
   "metadata": {},
   "outputs": [
    {
     "ename": "IndexError",
     "evalue": "index 3 is out of bounds for dimension 0 with size 0",
     "output_type": "error",
     "traceback": [
      "\u001b[1;31m---------------------------------------------------------------------------\u001b[0m",
      "\u001b[1;31mIndexError\u001b[0m                                Traceback (most recent call last)",
      "Cell \u001b[1;32mIn[5], line 4\u001b[0m\n\u001b[0;32m      1\u001b[0m \u001b[38;5;66;03m# from graph 2, i.e. mp2, get the features of the third node\u001b[39;00m\n\u001b[0;32m      2\u001b[0m \u001b[38;5;66;03m# first number corresponds to label, subsequent numbers correspond to theorem statement\u001b[39;00m\n\u001b[0;32m      3\u001b[0m \u001b[38;5;66;03m# trailing zeros are removed from shown output with [:6]\u001b[39;00m\n\u001b[1;32m----> 4\u001b[0m \u001b[38;5;28mprint\u001b[39m(\u001b[38;5;124m\"\u001b[39m\u001b[38;5;124mfeature vector for mp2 is:\u001b[39m\u001b[38;5;124m\"\u001b[39m, \u001b[43mpf_data\u001b[49m\u001b[38;5;241;43m.\u001b[39;49m\u001b[43mget\u001b[49m\u001b[43m(\u001b[49m\u001b[38;5;241;43m2\u001b[39;49m\u001b[43m)\u001b[49m\u001b[38;5;241;43m.\u001b[39;49m\u001b[43mx\u001b[49m\u001b[43m[\u001b[49m\u001b[38;5;241;43m3\u001b[39;49m\u001b[43m]\u001b[49m\u001b[38;5;241m.\u001b[39mto(\u001b[38;5;28mint\u001b[39m)\u001b[38;5;241m.\u001b[39mtolist()[:\u001b[38;5;241m6\u001b[39m])\n\u001b[0;32m      6\u001b[0m \u001b[38;5;66;03m# one node's features are in a vector of length 11548 (11547 is longest statement length of all proof steps)\u001b[39;00m\n\u001b[0;32m      7\u001b[0m \u001b[38;5;28mprint\u001b[39m(\u001b[38;5;124m\"\u001b[39m\u001b[38;5;124m# features for each node is:\u001b[39m\u001b[38;5;124m\"\u001b[39m, pf_data\u001b[38;5;241m.\u001b[39mget(\u001b[38;5;241m2\u001b[39m)\u001b[38;5;241m.\u001b[39mnum_features)\n",
      "\u001b[1;31mIndexError\u001b[0m: index 3 is out of bounds for dimension 0 with size 0"
     ]
    }
   ],
   "source": [
    "# from graph 2, i.e. mp2, get the features of the third node\n",
    "# first number corresponds to label, subsequent numbers correspond to theorem statement\n",
    "# trailing zeros are removed from shown output with [:6]\n",
    "print(\"feature vector for mp2 is:\", pf_data.get(2).x[3].to(int).tolist()[:6])\n",
    "\n",
    "# one node's features are in a vector of length 11548 (11547 is longest statement length of all proof steps)\n",
    "print(\"# features for each node is:\", pf_data.get(2).num_features)\n",
    "\n",
    "# convert embedding of mp2 statement back to readable statement\n",
    "print(\"statement is:\",emb_to_stmt(pf_data.get(2).x[3].tolist()))\n",
    "\n",
    "# get label of statement used\n",
    "print(\"label is:\", num_to_label(pf_data.get(2).x[3].tolist()[0]))\n",
    "\n",
    "# check graph is directed\n",
    "print(\"graph is directed:\", pf_data.get(2).is_directed())"
   ]
  },
  {
   "cell_type": "code",
   "execution_count": 21,
   "metadata": {},
   "outputs": [
    {
     "name": "stdout",
     "output_type": "stream",
     "text": [
      "feature vector for mp2 is: [857.0, 1284.0, 705.0, 1181.0, 289.0]\n",
      "# features for each node is: 11547\n",
      "statement is: ( ps -> ch )\n",
      "label is: ax-mp\n",
      "graph is directed: True\n"
     ]
    }
   ],
   "source": [
    "# below code is analogue of previous code, but now for labeled\n",
    "\n",
    "# from graph 2, i.e. mp2, get the features of the third node\n",
    "# first number corresponds to label, subsequent numbers correspond to theorem statement\n",
    "# trailing zeros are removed from shown output with [:5]\n",
    "print(\"feature vector for mp2 is:\", pf_data.get(2).x[3][:5].tolist())\n",
    "\n",
    "# one node's features are in a vector of length 11548 (11547 is longest statement length of all proof steps)\n",
    "print(\"# features for each node is:\", pf_data.get(2).num_features)\n",
    "\n",
    "# convert embedding of mp2 statement back to readable statement\n",
    "# must prepend pf_data.get(2).x[3].tolist() with garbage # (0 here) due to how emb_to_stmt works\n",
    "stmt_list = pf_data.get(2).x[3].tolist()\n",
    "stmt_list.insert(0,0)\n",
    "print(\"statement is:\",emb_to_stmt(stmt_list))\n",
    "\n",
    "# get label of statement used\n",
    "print(\"label is:\", num_to_label(pf_data.get(2).y[3].to(int).item()))\n",
    "\n",
    "# check graph is directed\n",
    "print(\"graph is directed:\", pf_data.get(2).is_directed())"
   ]
  }
 ],
 "metadata": {
  "kernelspec": {
   "display_name": "pytorch",
   "language": "python",
   "name": "python3"
  },
  "language_info": {
   "codemirror_mode": {
    "name": "ipython",
    "version": 3
   },
   "file_extension": ".py",
   "mimetype": "text/x-python",
   "name": "python",
   "nbconvert_exporter": "python",
   "pygments_lexer": "ipython3",
   "version": "3.11.9"
  }
 },
 "nbformat": 4,
 "nbformat_minor": 2
}
