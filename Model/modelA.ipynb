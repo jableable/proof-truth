{
 "cells": [
  {
   "cell_type": "code",
   "execution_count": 9,
   "metadata": {},
   "outputs": [],
   "source": [
    "#from our_dataset import ProofDataset\n",
    "from our_dataset import ProofDataset\n",
    "from statement_embedding import emb_to_stmt, num_to_label"
   ]
  },
  {
   "cell_type": "code",
   "execution_count": 10,
   "metadata": {},
   "outputs": [],
   "source": [
    "# WARNING!!!!\n",
    "# running ProofDataset(root=\"data/\", file_limit=None) currently has a high initial cost\n",
    "# it requires ~63 GB of space, and it took my computer about 2 hours to run\n",
    "# however, after an initial run, the dataset doesn't need to be created again\n",
    "# secondary runs merely verify that all files are in place; this takes my computer about 15s\n",
    "# WARNING!!!!\n",
    "\n",
    "# to avoid previous warning, use file_limit=8000 to only load and verify the first 8000 graphs (<4GB)\n",
    "\n",
    "pf_data = ProofDataset(root=\"data/\",file_limit=100)"
   ]
  },
  {
   "cell_type": "code",
   "execution_count": 11,
   "metadata": {},
   "outputs": [
    {
     "name": "stdout",
     "output_type": "stream",
     "text": [
      "Number of graphs: 100\n"
     ]
    }
   ],
   "source": [
    "# number of graphs equal to file_limit (42494 if file_limit=None)\n",
    "print(f'Number of graphs: {len(pf_data)}')"
   ]
  },
  {
   "cell_type": "code",
   "execution_count": 12,
   "metadata": {},
   "outputs": [
    {
     "name": "stdout",
     "output_type": "stream",
     "text": [
      "tensor([[1., 2., 0., 3.],\n",
      "        [3., 3., 4., 4.]])\n"
     ]
    }
   ],
   "source": [
    "print(pf_data.get(2).edge_index)"
   ]
  },
  {
   "cell_type": "code",
   "execution_count": 13,
   "metadata": {},
   "outputs": [
    {
     "name": "stdout",
     "output_type": "stream",
     "text": [
      "feature vector for mp2 is: [5, 857, 1284, 705, 1181, 289]\n",
      "# features for each node is: 11548\n",
      "statement is: ( ps -> ch )\n",
      "label is: ax-mp\n",
      "graph is directed: True\n"
     ]
    }
   ],
   "source": [
    "# from graph 2, i.e. mp2, get the features of the third node\n",
    "# first number corresponds to label, subsequent numbers correspond to theorem statement\n",
    "# trailing zeros are removed from shown output with [:6]\n",
    "print(\"feature vector for mp2 is:\", pf_data.get(2).x[3].to(int).tolist()[:6])\n",
    "\n",
    "# one node's features are in a vector of length 11548 (11547 is longest statement length of all proof steps)\n",
    "print(\"# features for each node is:\", pf_data.get(2).num_features)\n",
    "\n",
    "# convert embedding of mp2 statement back to readable statement\n",
    "print(\"statement is:\",emb_to_stmt(pf_data.get(2).x[3].tolist()))\n",
    "\n",
    "# get label of statement used\n",
    "print(\"label is:\", num_to_label(pf_data.get(2).x[3].tolist()[0]))\n",
    "\n",
    "# check graph is directed\n",
    "print(\"graph is directed:\", pf_data.get(2).is_directed())"
   ]
  }
 ],
 "metadata": {
  "kernelspec": {
   "display_name": "pytorch",
   "language": "python",
   "name": "python3"
  },
  "language_info": {
   "codemirror_mode": {
    "name": "ipython",
    "version": 3
   },
   "file_extension": ".py",
   "mimetype": "text/x-python",
   "name": "python",
   "nbconvert_exporter": "python",
   "pygments_lexer": "ipython3",
   "version": "3.11.9"
  }
 },
 "nbformat": 4,
 "nbformat_minor": 2
}
