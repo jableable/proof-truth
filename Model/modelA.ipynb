{
 "cells": [
  {
   "cell_type": "code",
   "execution_count": 1,
   "metadata": {},
   "outputs": [],
   "source": [
    "from our_dataset import ProofDataset\n",
    "from statement_embedding import emb_to_stmt, num_to_label"
   ]
  },
  {
   "cell_type": "code",
   "execution_count": 2,
   "metadata": {},
   "outputs": [],
   "source": [
    "# WARNING!!!!\n",
    "# running ProofDataset(root=\"data/\") currently has a high initial cost\n",
    "# it requires ~63 GB of space, and it took my computer about 2 hours to run\n",
    "# however, after an initial run, the dataset doesn't need to be created again\n",
    "# secondary runs merely verify that all files are in place; this takes my computer about 15s\n",
    "# WARNING!!!!\n",
    "\n",
    "pf_data = ProofDataset(root=\"data/\")"
   ]
  },
  {
   "cell_type": "code",
   "execution_count": 3,
   "metadata": {},
   "outputs": [
    {
     "name": "stdout",
     "output_type": "stream",
     "text": [
      "Number of graphs: 42494\n"
     ]
    }
   ],
   "source": [
    "# number of graphs should be 42494\n",
    "print(f'Number of graphs: {len(pf_data)}')"
   ]
  },
  {
   "cell_type": "code",
   "execution_count": 4,
   "metadata": {},
   "outputs": [
    {
     "data": {
      "text/plain": [
       "5.0"
      ]
     },
     "execution_count": 4,
     "metadata": {},
     "output_type": "execute_result"
    }
   ],
   "source": [
    "pf_data.get(2).x[3].tolist()[0]"
   ]
  },
  {
   "cell_type": "code",
   "execution_count": 5,
   "metadata": {},
   "outputs": [
    {
     "name": "stdout",
     "output_type": "stream",
     "text": [
      "tensor([   5.,  857., 1284.,  ...,    0.,    0.,    0.])\n",
      "11548\n",
      "( ps -> ch )\n",
      "ax-mp\n"
     ]
    }
   ],
   "source": [
    "# from graph 2, i.e. mp2, get the features of the third node\n",
    "# first number corresponds to label, subsequent numbers correspond to theorem statement\n",
    "print(pf_data.get(2).x[3])\n",
    "\n",
    "# one node's features are in a vector of length 11548 (11547 is longest statement length of all proof steps)\n",
    "print(pf_data.get(2).num_features)\n",
    "\n",
    "# convert embedding of mp2 statement back to readable statement\n",
    "print(emb_to_stmt(pf_data.get(2).x[3].tolist()))\n",
    "\n",
    "# get label of statement used\n",
    "print(num_to_label(pf_data.get(2).x[3].tolist()[0]))"
   ]
  },
  {
   "cell_type": "code",
   "execution_count": null,
   "metadata": {},
   "outputs": [],
   "source": []
  }
 ],
 "metadata": {
  "kernelspec": {
   "display_name": "pytorch",
   "language": "python",
   "name": "python3"
  },
  "language_info": {
   "codemirror_mode": {
    "name": "ipython",
    "version": 3
   },
   "file_extension": ".py",
   "mimetype": "text/x-python",
   "name": "python",
   "nbconvert_exporter": "python",
   "pygments_lexer": "ipython3",
   "version": "3.11.9"
  }
 },
 "nbformat": 4,
 "nbformat_minor": 2
}
