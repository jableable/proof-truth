{
 "cells": [
  {
   "cell_type": "code",
   "execution_count": 17,
   "metadata": {},
   "outputs": [],
   "source": [
    "#from our_dataset import ProofDataset\n",
    "from our_dataset import ProofDataset\n",
    "from statement_embedding import emb_to_stmt, num_to_label"
   ]
  },
  {
   "cell_type": "code",
   "execution_count": 29,
   "metadata": {},
   "outputs": [
    {
     "name": "stderr",
     "output_type": "stream",
     "text": [
      "Processing...\n"
     ]
    }
   ],
   "source": [
    "# WARNING!!!!\n",
    "# running ProofDataset(root=\"data/\", file_limit=None) currently has a high initial cost\n",
    "# it requires ~63 GB of space, and it took my computer about 2 hours to run\n",
    "# however, after an initial run, the dataset doesn't need to be created again\n",
    "# secondary runs merely verify that all files are in place; this takes my computer about 15s\n",
    "# WARNING!!!!\n",
    "\n",
    "# to avoid previous warning, use file_limit=8000 to only load and verify the first 8000 graphs (<4GB)\n",
    "\n",
    "pf_data = ProofDataset(root=\"data/\",file_limit=100)"
   ]
  },
  {
   "cell_type": "code",
   "execution_count": 26,
   "metadata": {},
   "outputs": [
    {
     "name": "stdout",
     "output_type": "stream",
     "text": [
      "Number of graphs: 100\n"
     ]
    }
   ],
   "source": [
    "# number of graphs equal to file_limit (42494 if file_limit=None)\n",
    "print(f'Number of graphs: {len(pf_data)}')"
   ]
  },
  {
   "cell_type": "code",
   "execution_count": 27,
   "metadata": {},
   "outputs": [
    {
     "name": "stdout",
     "output_type": "stream",
     "text": [
      "tensor([[1., 2., 0., 3.],\n",
      "        [3., 3., 4., 4.]])\n"
     ]
    }
   ],
   "source": [
    "print(pf_data.get(2).edge_index)"
   ]
  },
  {
   "cell_type": "code",
   "execution_count": 28,
   "metadata": {},
   "outputs": [
    {
     "ename": "TypeError",
     "evalue": "'int' object is not subscriptable",
     "output_type": "error",
     "traceback": [
      "\u001b[1;31m---------------------------------------------------------------------------\u001b[0m",
      "\u001b[1;31mTypeError\u001b[0m                                 Traceback (most recent call last)",
      "Cell \u001b[1;32mIn[28], line 4\u001b[0m\n\u001b[0;32m      1\u001b[0m \u001b[38;5;66;03m# from graph 2, i.e. mp2, get the features of the third node\u001b[39;00m\n\u001b[0;32m      2\u001b[0m \u001b[38;5;66;03m# first number corresponds to label, subsequent numbers correspond to theorem statement\u001b[39;00m\n\u001b[0;32m      3\u001b[0m \u001b[38;5;66;03m# trailing zeros are removed from shown output with [:6]\u001b[39;00m\n\u001b[1;32m----> 4\u001b[0m \u001b[38;5;28mprint\u001b[39m(\u001b[38;5;124m\"\u001b[39m\u001b[38;5;124mfeature vector for mp2 is:\u001b[39m\u001b[38;5;124m\"\u001b[39m, \u001b[43mpf_data\u001b[49m\u001b[38;5;241;43m.\u001b[39;49m\u001b[43mget\u001b[49m\u001b[43m(\u001b[49m\u001b[38;5;241;43m2\u001b[39;49m\u001b[43m)\u001b[49m\u001b[38;5;241;43m.\u001b[39;49m\u001b[43mx\u001b[49m\u001b[43m[\u001b[49m\u001b[38;5;241;43m3\u001b[39;49m\u001b[43m]\u001b[49m\u001b[38;5;241;43m.\u001b[39;49m\u001b[43mto\u001b[49m\u001b[43m(\u001b[49m\u001b[38;5;28;43mint\u001b[39;49m\u001b[43m)\u001b[49m\u001b[38;5;241;43m.\u001b[39;49m\u001b[43mtolist\u001b[49m\u001b[43m(\u001b[49m\u001b[43m)\u001b[49m\u001b[43m[\u001b[49m\u001b[43m:\u001b[49m\u001b[38;5;241;43m6\u001b[39;49m\u001b[43m]\u001b[49m)\n\u001b[0;32m      6\u001b[0m \u001b[38;5;66;03m# one node's features are in a vector of length 11548 (11547 is longest statement length of all proof steps)\u001b[39;00m\n\u001b[0;32m      7\u001b[0m \u001b[38;5;28mprint\u001b[39m(\u001b[38;5;124m\"\u001b[39m\u001b[38;5;124m# features for each node is:\u001b[39m\u001b[38;5;124m\"\u001b[39m, pf_data\u001b[38;5;241m.\u001b[39mget(\u001b[38;5;241m2\u001b[39m)\u001b[38;5;241m.\u001b[39mnum_features)\n",
      "\u001b[1;31mTypeError\u001b[0m: 'int' object is not subscriptable"
     ]
    }
   ],
   "source": [
    "# from graph 2, i.e. mp2, get the features of the third node\n",
    "# first number corresponds to label, subsequent numbers correspond to theorem statement\n",
    "# trailing zeros are removed from shown output with [:6]\n",
    "print(\"feature vector for mp2 is:\", pf_data.get(2).x[3].to(int).tolist()[:6])\n",
    "\n",
    "# one node's features are in a vector of length 11548 (11547 is longest statement length of all proof steps)\n",
    "print(\"# features for each node is:\", pf_data.get(2).num_features)\n",
    "\n",
    "# convert embedding of mp2 statement back to readable statement\n",
    "print(\"statement is:\",emb_to_stmt(pf_data.get(2).x[3].tolist()))\n",
    "\n",
    "# get label of statement used\n",
    "print(\"label is:\", num_to_label(pf_data.get(2).x[3].tolist()[0]))\n",
    "\n",
    "# check graph is directed\n",
    "print(\"graph is directed:\", pf_data.get(2).is_directed())"
   ]
  },
  {
   "cell_type": "code",
   "execution_count": 10,
   "metadata": {},
   "outputs": [
    {
     "name": "stdout",
     "output_type": "stream",
     "text": [
      "[8545, 12750, 15456, 17670, 19861, 21995, 23501, 24665, 26475, 29361, 31355, 34228, 36197, 38369, 40147, 41781]\n"
     ]
    }
   ],
   "source": [
    "# Getting the Size of a File in Python Using Different Units\n",
    "import os\n",
    "\n",
    "# gets the filesize of a file\n",
    "def get_size(file_path, unit='bytes'):\n",
    "    file_size = os.path.getsize(file_path)\n",
    "    exponents_map = {'bytes': 0, 'kb': 1, 'mb': 2, 'gb': 3}\n",
    "    if unit not in exponents_map:\n",
    "        raise ValueError(\"Must select from \\\n",
    "        ['bytes', 'kb', 'mb', 'gb']\")\n",
    "    else:\n",
    "        size = file_size / 1024 ** exponents_map[unit]\n",
    "        return round(size, 3)\n",
    "\n",
    "# initialize list which will contain where graphs should break\n",
    "# breaks are chosen so that each collection is <4GB \n",
    "graph_cuts = []\n",
    "\n",
    "running_file_size = 0\n",
    "for j in range(len(pf_data)):\n",
    "    file_path = './data/processed/data_'+str(j)+'.pt'\n",
    "    file_size = get_size(file_path, 'mb')\n",
    "    running_file_size += file_size\n",
    "    if running_file_size >= 3900:\n",
    "        graph_cuts.append(j)\n",
    "        running_file_size = 0\n",
    "\n",
    "\n",
    "\n",
    "print(graph_cuts)\n",
    "\n",
    "# Returns: 104.062"
   ]
  }
 ],
 "metadata": {
  "kernelspec": {
   "display_name": "pytorch",
   "language": "python",
   "name": "python3"
  },
  "language_info": {
   "codemirror_mode": {
    "name": "ipython",
    "version": 3
   },
   "file_extension": ".py",
   "mimetype": "text/x-python",
   "name": "python",
   "nbconvert_exporter": "python",
   "pygments_lexer": "ipython3",
   "version": "3.11.9"
  }
 },
 "nbformat": 4,
 "nbformat_minor": 2
}
