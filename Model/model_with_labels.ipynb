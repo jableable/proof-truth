{
 "cells": [
  {
   "cell_type": "code",
   "execution_count": 1,
   "metadata": {},
   "outputs": [],
   "source": [
    "#from our_dataset import ProofDataset\n",
    "from our_dataset_with_labels import ProofDatasetWithLabels\n",
    "from statement_embedding import emb_to_stmt, num_to_label"
   ]
  },
  {
   "cell_type": "code",
   "execution_count": 2,
   "metadata": {},
   "outputs": [],
   "source": [
    "# WARNING!!!!\n",
    "# running ProofDataset(root=\"data/\", file_limit=None) currently has a high initial cost\n",
    "# it requires ~63 GB of space, and it took my computer about 2 hours to run\n",
    "# however, after an initial run, the dataset doesn't need to be created again\n",
    "# secondary runs merely verify that all files are in place; this takes my computer about 15s\n",
    "# WARNING!!!!\n",
    "\n",
    "# to avoid previous warning, use file_limit=8000 to only load and verify the first 8000 graphs (<4GB)\n",
    "\n",
    "pf_data = ProofDatasetWithLabels(root=\"data/\",file_limit=100)"
   ]
  },
  {
   "cell_type": "code",
   "execution_count": 21,
   "metadata": {},
   "outputs": [
    {
     "name": "stdout",
     "output_type": "stream",
     "text": [
      "feature vector for mp2 is: [857.0, 1284.0, 705.0, 1181.0, 289.0]\n",
      "# features for each node is: 11547\n",
      "statement is: ( ps -> ch )\n",
      "label is: ax-mp\n",
      "graph is directed: True\n"
     ]
    }
   ],
   "source": [
    "# from graph 2, i.e. mp2, get the features of the third node\n",
    "# first number corresponds to label, subsequent numbers correspond to theorem statement\n",
    "# trailing zeros are removed from shown output with [:5]\n",
    "print(\"feature vector for mp2 is:\", pf_data.get(2).x[3][:5].tolist())\n",
    "\n",
    "# one node's features are in a vector of length 11548 (11547 is longest statement length of all proof steps)\n",
    "print(\"# features for each node is:\", pf_data.get(2).num_features)\n",
    "\n",
    "# convert embedding of mp2 statement back to readable statement\n",
    "# must prepend pf_data.get(2).x[3].tolist() with garbage # (0 here) due to how emb_to_stmt works\n",
    "stmt_list = pf_data.get(2).x[3].tolist()\n",
    "stmt_list.insert(0,0)\n",
    "print(\"statement is:\",emb_to_stmt(stmt_list))\n",
    "\n",
    "# get label of statement used\n",
    "print(\"label is:\", num_to_label(pf_data.get(2).y[3].to(int).item()))\n",
    "\n",
    "# check graph is directed\n",
    "print(\"graph is directed:\", pf_data.get(2).is_directed())"
   ]
  }
 ],
 "metadata": {
  "kernelspec": {
   "display_name": "pytorch",
   "language": "python",
   "name": "python3"
  },
  "language_info": {
   "codemirror_mode": {
    "name": "ipython",
    "version": 3
   },
   "file_extension": ".py",
   "mimetype": "text/x-python",
   "name": "python",
   "nbconvert_exporter": "python",
   "pygments_lexer": "ipython3",
   "version": "3.11.9"
  }
 },
 "nbformat": 4,
 "nbformat_minor": 2
}
