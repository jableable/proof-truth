{
 "cells": [
  {
   "cell_type": "markdown",
   "metadata": {},
   "source": [
    "## 1. About the Dataset <a class=\"anchor\" id=\"section1\"></a>\n",
    "- **Source**: The dataset used for experiments is the heterogeneous rating graph, assembled by GroupLens Research from the [*MovieLens*](https://movielens.org).\n",
    "- **Description**: The dataset contains two types of nodes: \"user\" and \"movie\". A user node is linked to a movie node if he has rated the movie. The link is then labeled with the rating he gave.\n",
    "- **Task**: Predict the rating that users are likely to give to a movie.\n"
   ]
  },
  {
   "cell_type": "code",
   "execution_count": 1,
   "metadata": {},
   "outputs": [],
   "source": [
    "import pandas as pd, numpy as np\n",
    "from itertools import product\n",
    "import io, os, json\n",
    "\n",
    "import time\n",
    "\n",
    "from sklearn.metrics import mean_squared_error\n",
    "\n",
    "import plotly.io as pio\n",
    "import plotly.express as px\n",
    "import plotly.graph_objects as go\n",
    "from plotly.subplots import make_subplots\n",
    "pio.templates.default = \"plotly_white\"\n",
    "\n",
    "import torch\n",
    "import torch.nn.functional as F\n",
    "import torch_geometric.transforms as T\n",
    "from torch_geometric.datasets import MovieLens\n",
    "from torch_geometric.nn import to_hetero\n",
    "from torch_geometric.nn import HeteroConv, GCNConv, SAGEConv, GATConv, Linear\n",
    "\n",
    "%matplotlib inline"
   ]
  },
  {
   "cell_type": "code",
   "execution_count": 2,
   "metadata": {},
   "outputs": [
    {
     "name": "stderr",
     "output_type": "stream",
     "text": [
      "Processing...\n",
      "c:\\Users\\Jared\\anaconda3\\envs\\pytorch\\Lib\\site-packages\\huggingface_hub\\file_download.py:1132: FutureWarning: `resume_download` is deprecated and will be removed in version 1.0.0. Downloads always resume when possible. If you want to force a new download, use `force_download=True`.\n",
      "  warnings.warn(\n"
     ]
    },
    {
     "data": {
      "application/vnd.jupyter.widget-view+json": {
       "model_id": "f9a795cae33747d39e0b82a4862e31e5",
       "version_major": 2,
       "version_minor": 0
      },
      "text/plain": [
       "Batches:   0%|          | 0/305 [00:00<?, ?it/s]"
      ]
     },
     "metadata": {},
     "output_type": "display_data"
    },
    {
     "name": "stderr",
     "output_type": "stream",
     "text": [
      "Done!\n"
     ]
    }
   ],
   "source": [
    "# Load dataset\n",
    "dataset = MovieLens(root=os.path.join(os.getcwd(),'movielens'), force_reload=True)\n",
    "data = dataset[0]"
   ]
  },
  {
   "cell_type": "code",
   "execution_count": 3,
   "metadata": {},
   "outputs": [
    {
     "data": {
      "text/plain": [
       "HeteroData(\n",
       "  movie={ x=[9742, 404] },\n",
       "  user={ num_nodes=610 },\n",
       "  (user, rates, movie)={\n",
       "    edge_index=[2, 100836],\n",
       "    edge_label=[100836],\n",
       "    time=[100836],\n",
       "  }\n",
       ")"
      ]
     },
     "execution_count": 3,
     "metadata": {},
     "output_type": "execute_result"
    }
   ],
   "source": [
    "data"
   ]
  },
  {
   "cell_type": "code",
   "execution_count": 4,
   "metadata": {},
   "outputs": [
    {
     "name": "stdout",
     "output_type": "stream",
     "text": [
      "Node types: ['movie', 'user']\n",
      "Edge types: [('user', 'rates', 'movie')]\n"
     ]
    }
   ],
   "source": [
    "node_types, edge_types = data.metadata()\n",
    "print('Node types:', node_types)\n",
    "print('Edge types:',edge_types)"
   ]
  },
  {
   "cell_type": "code",
   "execution_count": 5,
   "metadata": {},
   "outputs": [
    {
     "name": "stdout",
     "output_type": "stream",
     "text": [
      "Isolated nodes? True\n",
      "Self loops? False\n",
      "Undirected graph?  False\n"
     ]
    }
   ],
   "source": [
    "print('Isolated nodes?', data.has_isolated_nodes())\n",
    "print('Self loops?', data.has_self_loops())\n",
    "print('Undirected graph? ', data.is_undirected())"
   ]
  },
  {
   "cell_type": "code",
   "execution_count": 6,
   "metadata": {},
   "outputs": [],
   "source": [
    "# We have an unbalanced dataset with many labels for rating 3 and 4, and very\n",
    "# few for 0 and 1. Therefore we use a weighted MSE loss.\n",
    "\n",
    "counts = torch.bincount(data['user', 'movie'].edge_label)\n",
    "weight = counts.max() / counts"
   ]
  },
  {
   "cell_type": "code",
   "execution_count": 7,
   "metadata": {},
   "outputs": [
    {
     "data": {
      "application/vnd.plotly.v1+json": {
       "config": {
        "plotlyServerURL": "https://plot.ly"
       },
       "data": [
        {
         "line": {
          "color": "coral"
         },
         "name": "nb rows",
         "type": "scatter",
         "x": [
          0,
          1,
          2,
          3,
          4,
          5
         ],
         "y": [
          1370,
          4602,
          13101,
          33183,
          35369,
          13211
         ]
        },
        {
         "line": {
          "color": "royalblue"
         },
         "name": "weights",
         "type": "scatter",
         "x": [
          0,
          1,
          2,
          3,
          4,
          5
         ],
         "xaxis": "x",
         "y": [
          25.816787719726562,
          7.685571670532227,
          2.6997175216674805,
          1.065877079963684,
          1,
          2.677238702774048
         ],
         "yaxis": "y2"
        }
       ],
       "layout": {
        "template": {
         "data": {
          "bar": [
           {
            "error_x": {
             "color": "#2a3f5f"
            },
            "error_y": {
             "color": "#2a3f5f"
            },
            "marker": {
             "line": {
              "color": "white",
              "width": 0.5
             },
             "pattern": {
              "fillmode": "overlay",
              "size": 10,
              "solidity": 0.2
             }
            },
            "type": "bar"
           }
          ],
          "barpolar": [
           {
            "marker": {
             "line": {
              "color": "white",
              "width": 0.5
             },
             "pattern": {
              "fillmode": "overlay",
              "size": 10,
              "solidity": 0.2
             }
            },
            "type": "barpolar"
           }
          ],
          "carpet": [
           {
            "aaxis": {
             "endlinecolor": "#2a3f5f",
             "gridcolor": "#C8D4E3",
             "linecolor": "#C8D4E3",
             "minorgridcolor": "#C8D4E3",
             "startlinecolor": "#2a3f5f"
            },
            "baxis": {
             "endlinecolor": "#2a3f5f",
             "gridcolor": "#C8D4E3",
             "linecolor": "#C8D4E3",
             "minorgridcolor": "#C8D4E3",
             "startlinecolor": "#2a3f5f"
            },
            "type": "carpet"
           }
          ],
          "choropleth": [
           {
            "colorbar": {
             "outlinewidth": 0,
             "ticks": ""
            },
            "type": "choropleth"
           }
          ],
          "contour": [
           {
            "colorbar": {
             "outlinewidth": 0,
             "ticks": ""
            },
            "colorscale": [
             [
              0,
              "#0d0887"
             ],
             [
              0.1111111111111111,
              "#46039f"
             ],
             [
              0.2222222222222222,
              "#7201a8"
             ],
             [
              0.3333333333333333,
              "#9c179e"
             ],
             [
              0.4444444444444444,
              "#bd3786"
             ],
             [
              0.5555555555555556,
              "#d8576b"
             ],
             [
              0.6666666666666666,
              "#ed7953"
             ],
             [
              0.7777777777777778,
              "#fb9f3a"
             ],
             [
              0.8888888888888888,
              "#fdca26"
             ],
             [
              1,
              "#f0f921"
             ]
            ],
            "type": "contour"
           }
          ],
          "contourcarpet": [
           {
            "colorbar": {
             "outlinewidth": 0,
             "ticks": ""
            },
            "type": "contourcarpet"
           }
          ],
          "heatmap": [
           {
            "colorbar": {
             "outlinewidth": 0,
             "ticks": ""
            },
            "colorscale": [
             [
              0,
              "#0d0887"
             ],
             [
              0.1111111111111111,
              "#46039f"
             ],
             [
              0.2222222222222222,
              "#7201a8"
             ],
             [
              0.3333333333333333,
              "#9c179e"
             ],
             [
              0.4444444444444444,
              "#bd3786"
             ],
             [
              0.5555555555555556,
              "#d8576b"
             ],
             [
              0.6666666666666666,
              "#ed7953"
             ],
             [
              0.7777777777777778,
              "#fb9f3a"
             ],
             [
              0.8888888888888888,
              "#fdca26"
             ],
             [
              1,
              "#f0f921"
             ]
            ],
            "type": "heatmap"
           }
          ],
          "heatmapgl": [
           {
            "colorbar": {
             "outlinewidth": 0,
             "ticks": ""
            },
            "colorscale": [
             [
              0,
              "#0d0887"
             ],
             [
              0.1111111111111111,
              "#46039f"
             ],
             [
              0.2222222222222222,
              "#7201a8"
             ],
             [
              0.3333333333333333,
              "#9c179e"
             ],
             [
              0.4444444444444444,
              "#bd3786"
             ],
             [
              0.5555555555555556,
              "#d8576b"
             ],
             [
              0.6666666666666666,
              "#ed7953"
             ],
             [
              0.7777777777777778,
              "#fb9f3a"
             ],
             [
              0.8888888888888888,
              "#fdca26"
             ],
             [
              1,
              "#f0f921"
             ]
            ],
            "type": "heatmapgl"
           }
          ],
          "histogram": [
           {
            "marker": {
             "pattern": {
              "fillmode": "overlay",
              "size": 10,
              "solidity": 0.2
             }
            },
            "type": "histogram"
           }
          ],
          "histogram2d": [
           {
            "colorbar": {
             "outlinewidth": 0,
             "ticks": ""
            },
            "colorscale": [
             [
              0,
              "#0d0887"
             ],
             [
              0.1111111111111111,
              "#46039f"
             ],
             [
              0.2222222222222222,
              "#7201a8"
             ],
             [
              0.3333333333333333,
              "#9c179e"
             ],
             [
              0.4444444444444444,
              "#bd3786"
             ],
             [
              0.5555555555555556,
              "#d8576b"
             ],
             [
              0.6666666666666666,
              "#ed7953"
             ],
             [
              0.7777777777777778,
              "#fb9f3a"
             ],
             [
              0.8888888888888888,
              "#fdca26"
             ],
             [
              1,
              "#f0f921"
             ]
            ],
            "type": "histogram2d"
           }
          ],
          "histogram2dcontour": [
           {
            "colorbar": {
             "outlinewidth": 0,
             "ticks": ""
            },
            "colorscale": [
             [
              0,
              "#0d0887"
             ],
             [
              0.1111111111111111,
              "#46039f"
             ],
             [
              0.2222222222222222,
              "#7201a8"
             ],
             [
              0.3333333333333333,
              "#9c179e"
             ],
             [
              0.4444444444444444,
              "#bd3786"
             ],
             [
              0.5555555555555556,
              "#d8576b"
             ],
             [
              0.6666666666666666,
              "#ed7953"
             ],
             [
              0.7777777777777778,
              "#fb9f3a"
             ],
             [
              0.8888888888888888,
              "#fdca26"
             ],
             [
              1,
              "#f0f921"
             ]
            ],
            "type": "histogram2dcontour"
           }
          ],
          "mesh3d": [
           {
            "colorbar": {
             "outlinewidth": 0,
             "ticks": ""
            },
            "type": "mesh3d"
           }
          ],
          "parcoords": [
           {
            "line": {
             "colorbar": {
              "outlinewidth": 0,
              "ticks": ""
             }
            },
            "type": "parcoords"
           }
          ],
          "pie": [
           {
            "automargin": true,
            "type": "pie"
           }
          ],
          "scatter": [
           {
            "fillpattern": {
             "fillmode": "overlay",
             "size": 10,
             "solidity": 0.2
            },
            "type": "scatter"
           }
          ],
          "scatter3d": [
           {
            "line": {
             "colorbar": {
              "outlinewidth": 0,
              "ticks": ""
             }
            },
            "marker": {
             "colorbar": {
              "outlinewidth": 0,
              "ticks": ""
             }
            },
            "type": "scatter3d"
           }
          ],
          "scattercarpet": [
           {
            "marker": {
             "colorbar": {
              "outlinewidth": 0,
              "ticks": ""
             }
            },
            "type": "scattercarpet"
           }
          ],
          "scattergeo": [
           {
            "marker": {
             "colorbar": {
              "outlinewidth": 0,
              "ticks": ""
             }
            },
            "type": "scattergeo"
           }
          ],
          "scattergl": [
           {
            "marker": {
             "colorbar": {
              "outlinewidth": 0,
              "ticks": ""
             }
            },
            "type": "scattergl"
           }
          ],
          "scattermapbox": [
           {
            "marker": {
             "colorbar": {
              "outlinewidth": 0,
              "ticks": ""
             }
            },
            "type": "scattermapbox"
           }
          ],
          "scatterpolar": [
           {
            "marker": {
             "colorbar": {
              "outlinewidth": 0,
              "ticks": ""
             }
            },
            "type": "scatterpolar"
           }
          ],
          "scatterpolargl": [
           {
            "marker": {
             "colorbar": {
              "outlinewidth": 0,
              "ticks": ""
             }
            },
            "type": "scatterpolargl"
           }
          ],
          "scatterternary": [
           {
            "marker": {
             "colorbar": {
              "outlinewidth": 0,
              "ticks": ""
             }
            },
            "type": "scatterternary"
           }
          ],
          "surface": [
           {
            "colorbar": {
             "outlinewidth": 0,
             "ticks": ""
            },
            "colorscale": [
             [
              0,
              "#0d0887"
             ],
             [
              0.1111111111111111,
              "#46039f"
             ],
             [
              0.2222222222222222,
              "#7201a8"
             ],
             [
              0.3333333333333333,
              "#9c179e"
             ],
             [
              0.4444444444444444,
              "#bd3786"
             ],
             [
              0.5555555555555556,
              "#d8576b"
             ],
             [
              0.6666666666666666,
              "#ed7953"
             ],
             [
              0.7777777777777778,
              "#fb9f3a"
             ],
             [
              0.8888888888888888,
              "#fdca26"
             ],
             [
              1,
              "#f0f921"
             ]
            ],
            "type": "surface"
           }
          ],
          "table": [
           {
            "cells": {
             "fill": {
              "color": "#EBF0F8"
             },
             "line": {
              "color": "white"
             }
            },
            "header": {
             "fill": {
              "color": "#C8D4E3"
             },
             "line": {
              "color": "white"
             }
            },
            "type": "table"
           }
          ]
         },
         "layout": {
          "annotationdefaults": {
           "arrowcolor": "#2a3f5f",
           "arrowhead": 0,
           "arrowwidth": 1
          },
          "autotypenumbers": "strict",
          "coloraxis": {
           "colorbar": {
            "outlinewidth": 0,
            "ticks": ""
           }
          },
          "colorscale": {
           "diverging": [
            [
             0,
             "#8e0152"
            ],
            [
             0.1,
             "#c51b7d"
            ],
            [
             0.2,
             "#de77ae"
            ],
            [
             0.3,
             "#f1b6da"
            ],
            [
             0.4,
             "#fde0ef"
            ],
            [
             0.5,
             "#f7f7f7"
            ],
            [
             0.6,
             "#e6f5d0"
            ],
            [
             0.7,
             "#b8e186"
            ],
            [
             0.8,
             "#7fbc41"
            ],
            [
             0.9,
             "#4d9221"
            ],
            [
             1,
             "#276419"
            ]
           ],
           "sequential": [
            [
             0,
             "#0d0887"
            ],
            [
             0.1111111111111111,
             "#46039f"
            ],
            [
             0.2222222222222222,
             "#7201a8"
            ],
            [
             0.3333333333333333,
             "#9c179e"
            ],
            [
             0.4444444444444444,
             "#bd3786"
            ],
            [
             0.5555555555555556,
             "#d8576b"
            ],
            [
             0.6666666666666666,
             "#ed7953"
            ],
            [
             0.7777777777777778,
             "#fb9f3a"
            ],
            [
             0.8888888888888888,
             "#fdca26"
            ],
            [
             1,
             "#f0f921"
            ]
           ],
           "sequentialminus": [
            [
             0,
             "#0d0887"
            ],
            [
             0.1111111111111111,
             "#46039f"
            ],
            [
             0.2222222222222222,
             "#7201a8"
            ],
            [
             0.3333333333333333,
             "#9c179e"
            ],
            [
             0.4444444444444444,
             "#bd3786"
            ],
            [
             0.5555555555555556,
             "#d8576b"
            ],
            [
             0.6666666666666666,
             "#ed7953"
            ],
            [
             0.7777777777777778,
             "#fb9f3a"
            ],
            [
             0.8888888888888888,
             "#fdca26"
            ],
            [
             1,
             "#f0f921"
            ]
           ]
          },
          "colorway": [
           "#636efa",
           "#EF553B",
           "#00cc96",
           "#ab63fa",
           "#FFA15A",
           "#19d3f3",
           "#FF6692",
           "#B6E880",
           "#FF97FF",
           "#FECB52"
          ],
          "font": {
           "color": "#2a3f5f"
          },
          "geo": {
           "bgcolor": "white",
           "lakecolor": "white",
           "landcolor": "white",
           "showlakes": true,
           "showland": true,
           "subunitcolor": "#C8D4E3"
          },
          "hoverlabel": {
           "align": "left"
          },
          "hovermode": "closest",
          "mapbox": {
           "style": "light"
          },
          "paper_bgcolor": "white",
          "plot_bgcolor": "white",
          "polar": {
           "angularaxis": {
            "gridcolor": "#EBF0F8",
            "linecolor": "#EBF0F8",
            "ticks": ""
           },
           "bgcolor": "white",
           "radialaxis": {
            "gridcolor": "#EBF0F8",
            "linecolor": "#EBF0F8",
            "ticks": ""
           }
          },
          "scene": {
           "xaxis": {
            "backgroundcolor": "white",
            "gridcolor": "#DFE8F3",
            "gridwidth": 2,
            "linecolor": "#EBF0F8",
            "showbackground": true,
            "ticks": "",
            "zerolinecolor": "#EBF0F8"
           },
           "yaxis": {
            "backgroundcolor": "white",
            "gridcolor": "#DFE8F3",
            "gridwidth": 2,
            "linecolor": "#EBF0F8",
            "showbackground": true,
            "ticks": "",
            "zerolinecolor": "#EBF0F8"
           },
           "zaxis": {
            "backgroundcolor": "white",
            "gridcolor": "#DFE8F3",
            "gridwidth": 2,
            "linecolor": "#EBF0F8",
            "showbackground": true,
            "ticks": "",
            "zerolinecolor": "#EBF0F8"
           }
          },
          "shapedefaults": {
           "line": {
            "color": "#2a3f5f"
           }
          },
          "ternary": {
           "aaxis": {
            "gridcolor": "#DFE8F3",
            "linecolor": "#A2B1C6",
            "ticks": ""
           },
           "baxis": {
            "gridcolor": "#DFE8F3",
            "linecolor": "#A2B1C6",
            "ticks": ""
           },
           "bgcolor": "white",
           "caxis": {
            "gridcolor": "#DFE8F3",
            "linecolor": "#A2B1C6",
            "ticks": ""
           }
          },
          "title": {
           "x": 0.05
          },
          "xaxis": {
           "automargin": true,
           "gridcolor": "#EBF0F8",
           "linecolor": "#EBF0F8",
           "ticks": "",
           "title": {
            "standoff": 15
           },
           "zerolinecolor": "#EBF0F8",
           "zerolinewidth": 2
          },
          "yaxis": {
           "automargin": true,
           "gridcolor": "#EBF0F8",
           "linecolor": "#EBF0F8",
           "ticks": "",
           "title": {
            "standoff": 15
           },
           "zerolinecolor": "#EBF0F8",
           "zerolinewidth": 2
          }
         }
        },
        "xaxis": {
         "anchor": "y",
         "domain": [
          0,
          0.94
         ],
         "title": {
          "text": "Rating"
         }
        },
        "yaxis": {
         "anchor": "x",
         "domain": [
          0,
          1
         ],
         "title": {
          "text": "# rows"
         }
        },
        "yaxis2": {
         "anchor": "x",
         "overlaying": "y",
         "side": "right",
         "title": {
          "text": "weights"
         }
        }
       }
      }
     },
     "metadata": {},
     "output_type": "display_data"
    }
   ],
   "source": [
    "data_dict = {'ratings': (counts, '# rows','coral'), 'weights': (weight, 'weights','royalblue')}\n",
    "\n",
    "fig = make_subplots(specs=[[{\"secondary_y\": True}]])\n",
    "\n",
    "fig.add_trace(\n",
    "    go.Scatter(x=np.arange(6), y=counts.detach().cpu().numpy(),\n",
    "               name = 'nb rows', line_color= 'coral'))\n",
    "fig.add_trace(\n",
    "    go.Scatter(x=np.arange(6), y=weight.detach().cpu().numpy(),\n",
    "               name = 'weights', line_color= 'royalblue'),  secondary_y=True)\n",
    "\n",
    "\n",
    "fig.update_yaxes(title_text=\"# rows\", secondary_y=False)\n",
    "fig.update_yaxes(title_text=\"weights\", secondary_y=True)\n",
    "fig.update_xaxes(title_text=\"Rating\")\n",
    "fig"
   ]
  },
  {
   "cell_type": "markdown",
   "metadata": {},
   "source": [
    "## 2. Graph-Based Modeling  <a class=\"anchor\" id=\"section2\"></a>\n",
    "\n",
    "The objective of this section is to train graph-based models to predict the rating a user is likely to give to a movie.  For each model, it tests and evaluates different hyperparameters."
   ]
  },
  {
   "cell_type": "markdown",
   "metadata": {},
   "source": [
    "### 2.1. Training a first model <a class=\"anchor\" id=\"section21\"></a>"
   ]
  },
  {
   "cell_type": "code",
   "execution_count": 8,
   "metadata": {},
   "outputs": [],
   "source": [
    "# Add user node features for message passing:\n",
    "data['user'].x = torch.eye(data['user'].num_nodes)"
   ]
  },
  {
   "cell_type": "code",
   "execution_count": 9,
   "metadata": {},
   "outputs": [],
   "source": [
    "# Add a reverse ('movie', 'rev_rates', 'user') relation for message passing:\n",
    "data = T.ToUndirected()(data)\n",
    "del data['movie', 'rev_rates', 'user'].edge_label  # Remove \"reverse\" label."
   ]
  },
  {
   "cell_type": "code",
   "execution_count": 10,
   "metadata": {},
   "outputs": [],
   "source": [
    "# Perform a link-level split into training, validation, and test edges:\n",
    "train_data, val_data, test_data = T.RandomLinkSplit(\n",
    "    num_val=0.2,\n",
    "    num_test=0.1,\n",
    "    neg_sampling_ratio=0.0,\n",
    "    edge_types=[('user', 'rates', 'movie')],\n",
    "    rev_edge_types=[('movie', 'rev_rates', 'user')],\n",
    ")(data)"
   ]
  },
  {
   "cell_type": "code",
   "execution_count": 11,
   "metadata": {},
   "outputs": [],
   "source": [
    "def weighted_mse_loss(pred, target, weight=None):\n",
    "    weight = 1. if weight is None else weight[target].to(pred.dtype)\n",
    "    return (weight * (pred - target.to(pred.dtype)).pow(2)).mean()"
   ]
  },
  {
   "cell_type": "code",
   "execution_count": 27,
   "metadata": {},
   "outputs": [],
   "source": [
    "class GNNEncoder(torch.nn.Module):\n",
    "    def __init__(self, hidden_channels, out_channels, conv):\n",
    "        super().__init__()\n",
    "        if conv.__name__ == \"GATConv\":\n",
    "            self.conv1 = conv((-1, -1), hidden_channels, add_self_loops=False)\n",
    "        else: \n",
    "            self.conv1 = conv((-1, -1), hidden_channels)\n",
    "\n",
    "        if conv.__name__ == \"GATConv\":\n",
    "            self.conv2 = conv((-1, -1), out_channels, add_self_loops=False)\n",
    "        else: \n",
    "            self.conv2 = conv((-1, -1), out_channels)\n",
    "\n",
    "    def forward(self, x, edge_index):\n",
    "        x = self.conv1(x, edge_index).relu()\n",
    "        x = self.conv2(x, edge_index)\n",
    "        return x\n",
    "\n",
    "class EdgeDecoder(torch.nn.Module):\n",
    "    def __init__(self, hidden_channels):\n",
    "        super().__init__()\n",
    "        self.lin1 = Linear(2 * hidden_channels, hidden_channels)\n",
    "        self.lin2 = Linear(hidden_channels, 1)\n",
    "\n",
    "    def forward(self, z_dict, edge_label_index):\n",
    "        row, col = edge_label_index\n",
    "        z = torch.cat([z_dict['user'][row], z_dict['movie'][col]], dim=-1)\n",
    "        z = self.lin1(z).relu()\n",
    "        z = self.lin2(z)\n",
    "        return z.view(-1)\n",
    "\n",
    "class Model(torch.nn.Module):\n",
    "    def __init__(self, hidden_channels,  conv=SAGEConv):\n",
    "        super().__init__()\n",
    "        self.encoder = GNNEncoder(hidden_channels, hidden_channels, conv)\n",
    "        self.encoder = to_hetero(self.encoder, data.metadata(), aggr='sum')\n",
    "        self.decoder = EdgeDecoder(hidden_channels)\n",
    "\n",
    "    def forward(self, x_dict, edge_index_dict, edge_label_index):\n",
    "        z_dict = self.encoder(x_dict, edge_index_dict)\n",
    "        return self.decoder(z_dict, edge_label_index)"
   ]
  },
  {
   "cell_type": "code",
   "execution_count": 28,
   "metadata": {},
   "outputs": [],
   "source": [
    "def train(train_data, model, optimizer, loss=weighted_mse_loss):\n",
    "    model.train()\n",
    "    optimizer.zero_grad()\n",
    "    pred = model(train_data.x_dict, train_data.edge_index_dict,\n",
    "                 train_data['user', 'movie'].edge_label_index)\n",
    "    target = train_data['user', 'movie'].edge_label\n",
    "    loss = weighted_mse_loss(pred, target, weight)\n",
    "    loss.backward()\n",
    "    optimizer.step()\n",
    "    return float(loss.sqrt())\n",
    "\n",
    "@torch.no_grad()\n",
    "def test(data, model, metric=F.mse_loss):\n",
    "    model.eval()\n",
    "    pred = model(data.x_dict, data.edge_index_dict,\n",
    "                 data['user', 'movie'].edge_label_index)\n",
    "    pred = pred.clamp(min=0, max=5)\n",
    "    target = data['user', 'movie'].edge_label.float()\n",
    "    rmse = F.mse_loss(pred, target).sqrt()\n",
    "    return float(rmse)\n",
    "\n",
    "def train_test(model, model_params, learning_rate=0.01, e_patience = 10, min_acc= 0.05, n_epochs=500):\n",
    "    t0 = time.time()\n",
    "    model = model(**model_params)\n",
    "\n",
    "    # Due to lazy initialization, we need to run one model step so the number\n",
    "    # of parameters can be inferred:\n",
    "    with torch.no_grad():\n",
    "        model.encoder(train_data.x_dict, train_data.edge_index_dict)\n",
    "\n",
    "    optimizer = torch.optim.Adam(model.parameters(), lr=learning_rate)\n",
    "\n",
    "    k=0\n",
    "    loss, train_rmse, val_rmse, test_rmse = [], [], [], []\n",
    "    train_wrmse, val_wrmse, test_wrmse = [], [], []\n",
    "    for epoch in range(n_epochs):\n",
    "        loss += [train(train_data, model, optimizer, loss=weighted_mse_loss)]\n",
    "        \n",
    "        train_wrmse += [test(train_data, model, metric=weighted_mse_loss)]\n",
    "        train_rmse += [test(train_data, model, metric=F.mse_loss)]\n",
    "        \n",
    "        val_wrmse += [test(val_data, model, metric=weighted_mse_loss)]\n",
    "        val_rmse += [test(val_data, model, metric=F.mse_loss)]\n",
    "        \n",
    "        test_wrmse += [test(test_data, model, metric=weighted_mse_loss)]\n",
    "        test_rmse += [test(test_data, model, metric=F.mse_loss)]\n",
    "\n",
    "        if epoch+1 %10==0:\n",
    "            print(f'Epoch: {epoch+1:03d}, Loss: {loss[-1]:.4f}, Train: {train_rmse[-1]:.4f}, '\n",
    "                  f'Val: {val_rmse[-1]:.4f}, Test: {test_rmse[-1]:.4f}')\n",
    "\n",
    "        results = pd.DataFrame({\n",
    "            'loss': loss,\n",
    "            'train_rmse': train_rmse, 'val_rmse': val_rmse, 'test_rmse': test_rmse,\n",
    "            'train_wrmse': train_rmse, 'val_wrmse': val_rmse, 'test_wrmse': test_rmse,\n",
    "            'time':(time.time()-t0)/60\n",
    "        })\n",
    "\n",
    "        # enable early stopping\n",
    "        if (epoch > 1) and abs(loss[-1]/loss[-2]-1) < min_acc :\n",
    "            k += 1\n",
    "        if k> e_patience:\n",
    "            print('Early stopping')\n",
    "            break\n",
    "\n",
    "    return results\n",
    "\n",
    "def visualize_loss(results, metric='rmse'):\n",
    "    fig = go.Figure()\n",
    "\n",
    "    fig.add_trace(go.Scatter(x=results.index, y=results['train_'+metric], name = 'train_'+metric))\n",
    "    fig.add_trace(go.Scatter(x=results.index, y=results['val_'+metric], name = 'val_'+metric))\n",
    "    fig.add_trace(go.Scatter(x=results.index, y=results['test_'+metric], name = 'test_'+metric))\n",
    "    fig.add_trace(go.Scatter(x=results.index, y=results['loss'], name = 'loss'))\n",
    "\n",
    "    fig.update_yaxes(title_text=metric.upper())\n",
    "    fig.update_xaxes(title_text=\"Epoch\")\n",
    "\n",
    "    return fig"
   ]
  },
  {
   "cell_type": "code",
   "execution_count": 29,
   "metadata": {},
   "outputs": [],
   "source": [
    "N_EPOCHS = 500\n",
    "E_PATIENCE = 50\n",
    "LEARNING_RATE = 0.01"
   ]
  },
  {
   "cell_type": "code",
   "execution_count": 16,
   "metadata": {},
   "outputs": [
    {
     "name": "stdout",
     "output_type": "stream",
     "text": [
      "made it here\n",
      "Early stopping\n"
     ]
    }
   ],
   "source": [
    "model_params = {\"hidden_channels\":32, 'conv':SAGEConv}\n",
    "\n",
    "results = train_test(\n",
    "    Model, model_params, learning_rate=LEARNING_RATE, e_patience = E_PATIENCE, n_epochs=N_EPOCHS)"
   ]
  },
  {
   "cell_type": "code",
   "execution_count": 20,
   "metadata": {},
   "outputs": [
    {
     "data": {
      "application/vnd.plotly.v1+json": {
       "config": {
        "plotlyServerURL": "https://plot.ly"
       },
       "data": [
        {
         "name": "train_wrmse",
         "type": "scatter",
         "x": [
          0,
          1,
          2,
          3,
          4,
          5,
          6,
          7,
          8,
          9,
          10,
          11,
          12,
          13,
          14,
          15,
          16,
          17,
          18,
          19,
          20,
          21,
          22,
          23,
          24,
          25,
          26,
          27,
          28,
          29,
          30,
          31,
          32,
          33,
          34,
          35,
          36,
          37,
          38,
          39,
          40,
          41,
          42,
          43,
          44,
          45,
          46,
          47,
          48,
          49,
          50,
          51,
          52,
          53,
          54,
          55,
          56,
          57,
          58,
          59,
          60,
          61,
          62
         ],
         "y": [
          3.5248148441314697,
          3.337153434753418,
          2.9344139099121094,
          2.233124256134033,
          1.2450969219207764,
          1.3162930011749268,
          1.1228694915771484,
          1.2029485702514648,
          1.617932915687561,
          1.9498034715652466,
          2.110320806503296,
          2.1268038749694824,
          2.029168128967285,
          1.837889552116394,
          1.5782229900360107,
          1.305314064025879,
          1.1144191026687622,
          1.0514392852783203,
          1.0455139875411987,
          1.076501488685608,
          1.1856682300567627,
          1.348480463027954,
          1.499061942100525,
          1.594653606414795,
          1.6211436986923218,
          1.5801408290863037,
          1.482521891593933,
          1.3493722677230835,
          1.2140430212020874,
          1.101736307144165,
          1.066469669342041,
          1.06174635887146,
          1.0939468145370483,
          1.1607986688613892,
          1.2443207502365112,
          1.3157880306243896,
          1.3523979187011719,
          1.3446052074432373,
          1.2960593700408936,
          1.2220147848129272,
          1.1463342905044556,
          1.0920273065567017,
          1.0690621137619019,
          1.075482726097107,
          1.1071327924728394,
          1.1559637784957886,
          1.2049205303192139,
          1.2343145608901978,
          1.2338496446609497,
          1.2075443267822266,
          1.1716711521148682,
          1.1460318565368652,
          1.1402838230133057,
          1.1533269882202148,
          1.1812412738800049,
          1.2162531614303589,
          1.2442541122436523,
          1.253675937652588,
          1.2430551052093506,
          1.2211332321166992,
          1.2003802061080933,
          1.1888540983200073,
          1.1884673833847046
         ]
        },
        {
         "name": "val_wrmse",
         "type": "scatter",
         "x": [
          0,
          1,
          2,
          3,
          4,
          5,
          6,
          7,
          8,
          9,
          10,
          11,
          12,
          13,
          14,
          15,
          16,
          17,
          18,
          19,
          20,
          21,
          22,
          23,
          24,
          25,
          26,
          27,
          28,
          29,
          30,
          31,
          32,
          33,
          34,
          35,
          36,
          37,
          38,
          39,
          40,
          41,
          42,
          43,
          44,
          45,
          46,
          47,
          48,
          49,
          50,
          51,
          52,
          53,
          54,
          55,
          56,
          57,
          58,
          59,
          60,
          61,
          62
         ],
         "y": [
          3.5138514041900635,
          3.327976942062378,
          2.928570508956909,
          2.2330753803253174,
          1.2507606744766235,
          1.3052687644958496,
          1.1197309494018555,
          1.2084192037582397,
          1.6218492984771729,
          1.9509556293487549,
          2.110034942626953,
          2.126339912414551,
          2.0295324325561523,
          1.8399051427841187,
          1.5824309587478638,
          1.311444878578186,
          1.1206731796264648,
          1.0562764406204224,
          1.0503549575805664,
          1.0828642845153809,
          1.1926677227020264,
          1.3546491861343384,
          1.5039905309677124,
          1.5986840724945068,
          1.6248613595962524,
          1.5841412544250488,
          1.487296462059021,
          1.355178713798523,
          1.2207313776016235,
          1.1095075607299805,
          1.0733354091644287,
          1.0684819221496582,
          1.100565791130066,
          1.1669657230377197,
          1.2496917247772217,
          1.3203233480453491,
          1.3563308715820312,
          1.3482604026794434,
          1.299707293510437,
          1.2257463932037354,
          1.149992823600769,
          1.0952942371368408,
          1.0717155933380127,
          1.0774803161621094,
          1.1084449291229248,
          1.1565072536468506,
          1.2046418190002441,
          1.2332954406738281,
          1.232199788093567,
          1.2053418159484863,
          1.168932557106018,
          1.1427597999572754,
          1.136597752571106,
          1.1493805646896362,
          1.1771849393844604,
          1.2122218608856201,
          1.2403455972671509,
          1.2499666213989258,
          1.2396020889282227,
          1.21797513961792,
          1.1975696086883545,
          1.1865112781524658,
          1.1866936683654785
         ]
        },
        {
         "name": "test_wrmse",
         "type": "scatter",
         "x": [
          0,
          1,
          2,
          3,
          4,
          5,
          6,
          7,
          8,
          9,
          10,
          11,
          12,
          13,
          14,
          15,
          16,
          17,
          18,
          19,
          20,
          21,
          22,
          23,
          24,
          25,
          26,
          27,
          28,
          29,
          30,
          31,
          32,
          33,
          34,
          35,
          36,
          37,
          38,
          39,
          40,
          41,
          42,
          43,
          44,
          45,
          46,
          47,
          48,
          49,
          50,
          51,
          52,
          53,
          54,
          55,
          56,
          57,
          58,
          59,
          60,
          61,
          62
         ],
         "y": [
          3.5328187942504883,
          3.3462789058685303,
          2.9453110694885254,
          2.246091842651367,
          1.2499029636383057,
          1.286268711090088,
          1.1045441627502441,
          1.2071552276611328,
          1.6299679279327393,
          1.962784767150879,
          2.1232640743255615,
          2.1398403644561768,
          2.0425126552581787,
          1.8515284061431885,
          1.5914993286132812,
          1.316137671470642,
          1.1193621158599854,
          1.0504822731018066,
          1.0444461107254028,
          1.080803632736206,
          1.1959422826766968,
          1.362169623374939,
          1.5141146183013916,
          1.6101857423782349,
          1.6368850469589233,
          1.5960015058517456,
          1.4983197450637817,
          1.3646034002304077,
          1.227785348892212,
          1.1135152578353882,
          1.0760619640350342,
          1.0714073181152344,
          1.105427622795105,
          1.1744779348373413,
          1.2595499753952026,
          1.331781268119812,
          1.368621587753296,
          1.3607065677642822,
          1.3116466999053955,
          1.2365144491195679,
          1.1590466499328613,
          1.102568507194519,
          1.0779279470443726,
          1.0839327573776245,
          1.1162158250808716,
          1.165917158126831,
          1.21535062789917,
          1.2445086240768433,
          1.2430144548416138,
          1.2148702144622803,
          1.176514983177185,
          1.1482431888580322,
          1.140661597251892,
          1.1531811952590942,
          1.1816480159759521,
          1.2177214622497559,
          1.2464743852615356,
          1.2559289932250977,
          1.2445446252822876,
          1.2213835716247559,
          1.1995341777801514,
          1.1876217126846313,
          1.187772274017334
         ]
        },
        {
         "name": "loss",
         "type": "scatter",
         "x": [
          0,
          1,
          2,
          3,
          4,
          5,
          6,
          7,
          8,
          9,
          10,
          11,
          12,
          13,
          14,
          15,
          16,
          17,
          18,
          19,
          20,
          21,
          22,
          23,
          24,
          25,
          26,
          27,
          28,
          29,
          30,
          31,
          32,
          33,
          34,
          35,
          36,
          37,
          38,
          39,
          40,
          41,
          42,
          43,
          44,
          45,
          46,
          47,
          48,
          49,
          50,
          51,
          52,
          53,
          54,
          55,
          56,
          57,
          58,
          59,
          60,
          61,
          62
         ],
         "y": [
          4.617005825042725,
          4.43189001083374,
          4.166301250457764,
          3.6834235191345215,
          2.948997974395752,
          2.502933979034424,
          3.3650598526000977,
          2.9485843181610107,
          2.495192289352417,
          2.50825834274292,
          2.7024800777435303,
          2.828522205352783,
          2.840390682220459,
          2.7556354999542236,
          2.6091628074645996,
          2.4595394134521484,
          2.3925929069519043,
          2.457124948501587,
          2.561351776123047,
          2.561753988265991,
          2.4587111473083496,
          2.3627066612243652,
          2.341858386993408,
          2.3752551078796387,
          2.4120993614196777,
          2.4198405742645264,
          2.3910489082336426,
          2.3377602100372314,
          2.2858524322509766,
          2.2630858421325684,
          2.2789759635925293,
          2.290839672088623,
          2.277362823486328,
          2.236715316772461,
          2.198712110519409,
          2.1835458278656006,
          2.1845862865448,
          2.1835427284240723,
          2.167862892150879,
          2.138127565383911,
          2.106205701828003,
          2.0858445167541504,
          2.078953266143799,
          2.0715835094451904,
          2.0506837368011475,
          2.0216946601867676,
          1.9998044967651367,
          1.9896819591522217,
          1.9829537868499756,
          1.9700225591659546,
          1.9519681930541992,
          1.9387240409851074,
          1.9360008239746094,
          1.9365110397338867,
          1.9304890632629395,
          1.9213974475860596,
          1.918095350265503,
          1.9198664426803589,
          1.9193933010101318,
          1.9143036603927612,
          1.9091920852661133,
          1.9078024625778198,
          1.906975269317627
         ]
        }
       ],
       "layout": {
        "template": {
         "data": {
          "bar": [
           {
            "error_x": {
             "color": "#2a3f5f"
            },
            "error_y": {
             "color": "#2a3f5f"
            },
            "marker": {
             "line": {
              "color": "white",
              "width": 0.5
             },
             "pattern": {
              "fillmode": "overlay",
              "size": 10,
              "solidity": 0.2
             }
            },
            "type": "bar"
           }
          ],
          "barpolar": [
           {
            "marker": {
             "line": {
              "color": "white",
              "width": 0.5
             },
             "pattern": {
              "fillmode": "overlay",
              "size": 10,
              "solidity": 0.2
             }
            },
            "type": "barpolar"
           }
          ],
          "carpet": [
           {
            "aaxis": {
             "endlinecolor": "#2a3f5f",
             "gridcolor": "#C8D4E3",
             "linecolor": "#C8D4E3",
             "minorgridcolor": "#C8D4E3",
             "startlinecolor": "#2a3f5f"
            },
            "baxis": {
             "endlinecolor": "#2a3f5f",
             "gridcolor": "#C8D4E3",
             "linecolor": "#C8D4E3",
             "minorgridcolor": "#C8D4E3",
             "startlinecolor": "#2a3f5f"
            },
            "type": "carpet"
           }
          ],
          "choropleth": [
           {
            "colorbar": {
             "outlinewidth": 0,
             "ticks": ""
            },
            "type": "choropleth"
           }
          ],
          "contour": [
           {
            "colorbar": {
             "outlinewidth": 0,
             "ticks": ""
            },
            "colorscale": [
             [
              0,
              "#0d0887"
             ],
             [
              0.1111111111111111,
              "#46039f"
             ],
             [
              0.2222222222222222,
              "#7201a8"
             ],
             [
              0.3333333333333333,
              "#9c179e"
             ],
             [
              0.4444444444444444,
              "#bd3786"
             ],
             [
              0.5555555555555556,
              "#d8576b"
             ],
             [
              0.6666666666666666,
              "#ed7953"
             ],
             [
              0.7777777777777778,
              "#fb9f3a"
             ],
             [
              0.8888888888888888,
              "#fdca26"
             ],
             [
              1,
              "#f0f921"
             ]
            ],
            "type": "contour"
           }
          ],
          "contourcarpet": [
           {
            "colorbar": {
             "outlinewidth": 0,
             "ticks": ""
            },
            "type": "contourcarpet"
           }
          ],
          "heatmap": [
           {
            "colorbar": {
             "outlinewidth": 0,
             "ticks": ""
            },
            "colorscale": [
             [
              0,
              "#0d0887"
             ],
             [
              0.1111111111111111,
              "#46039f"
             ],
             [
              0.2222222222222222,
              "#7201a8"
             ],
             [
              0.3333333333333333,
              "#9c179e"
             ],
             [
              0.4444444444444444,
              "#bd3786"
             ],
             [
              0.5555555555555556,
              "#d8576b"
             ],
             [
              0.6666666666666666,
              "#ed7953"
             ],
             [
              0.7777777777777778,
              "#fb9f3a"
             ],
             [
              0.8888888888888888,
              "#fdca26"
             ],
             [
              1,
              "#f0f921"
             ]
            ],
            "type": "heatmap"
           }
          ],
          "heatmapgl": [
           {
            "colorbar": {
             "outlinewidth": 0,
             "ticks": ""
            },
            "colorscale": [
             [
              0,
              "#0d0887"
             ],
             [
              0.1111111111111111,
              "#46039f"
             ],
             [
              0.2222222222222222,
              "#7201a8"
             ],
             [
              0.3333333333333333,
              "#9c179e"
             ],
             [
              0.4444444444444444,
              "#bd3786"
             ],
             [
              0.5555555555555556,
              "#d8576b"
             ],
             [
              0.6666666666666666,
              "#ed7953"
             ],
             [
              0.7777777777777778,
              "#fb9f3a"
             ],
             [
              0.8888888888888888,
              "#fdca26"
             ],
             [
              1,
              "#f0f921"
             ]
            ],
            "type": "heatmapgl"
           }
          ],
          "histogram": [
           {
            "marker": {
             "pattern": {
              "fillmode": "overlay",
              "size": 10,
              "solidity": 0.2
             }
            },
            "type": "histogram"
           }
          ],
          "histogram2d": [
           {
            "colorbar": {
             "outlinewidth": 0,
             "ticks": ""
            },
            "colorscale": [
             [
              0,
              "#0d0887"
             ],
             [
              0.1111111111111111,
              "#46039f"
             ],
             [
              0.2222222222222222,
              "#7201a8"
             ],
             [
              0.3333333333333333,
              "#9c179e"
             ],
             [
              0.4444444444444444,
              "#bd3786"
             ],
             [
              0.5555555555555556,
              "#d8576b"
             ],
             [
              0.6666666666666666,
              "#ed7953"
             ],
             [
              0.7777777777777778,
              "#fb9f3a"
             ],
             [
              0.8888888888888888,
              "#fdca26"
             ],
             [
              1,
              "#f0f921"
             ]
            ],
            "type": "histogram2d"
           }
          ],
          "histogram2dcontour": [
           {
            "colorbar": {
             "outlinewidth": 0,
             "ticks": ""
            },
            "colorscale": [
             [
              0,
              "#0d0887"
             ],
             [
              0.1111111111111111,
              "#46039f"
             ],
             [
              0.2222222222222222,
              "#7201a8"
             ],
             [
              0.3333333333333333,
              "#9c179e"
             ],
             [
              0.4444444444444444,
              "#bd3786"
             ],
             [
              0.5555555555555556,
              "#d8576b"
             ],
             [
              0.6666666666666666,
              "#ed7953"
             ],
             [
              0.7777777777777778,
              "#fb9f3a"
             ],
             [
              0.8888888888888888,
              "#fdca26"
             ],
             [
              1,
              "#f0f921"
             ]
            ],
            "type": "histogram2dcontour"
           }
          ],
          "mesh3d": [
           {
            "colorbar": {
             "outlinewidth": 0,
             "ticks": ""
            },
            "type": "mesh3d"
           }
          ],
          "parcoords": [
           {
            "line": {
             "colorbar": {
              "outlinewidth": 0,
              "ticks": ""
             }
            },
            "type": "parcoords"
           }
          ],
          "pie": [
           {
            "automargin": true,
            "type": "pie"
           }
          ],
          "scatter": [
           {
            "fillpattern": {
             "fillmode": "overlay",
             "size": 10,
             "solidity": 0.2
            },
            "type": "scatter"
           }
          ],
          "scatter3d": [
           {
            "line": {
             "colorbar": {
              "outlinewidth": 0,
              "ticks": ""
             }
            },
            "marker": {
             "colorbar": {
              "outlinewidth": 0,
              "ticks": ""
             }
            },
            "type": "scatter3d"
           }
          ],
          "scattercarpet": [
           {
            "marker": {
             "colorbar": {
              "outlinewidth": 0,
              "ticks": ""
             }
            },
            "type": "scattercarpet"
           }
          ],
          "scattergeo": [
           {
            "marker": {
             "colorbar": {
              "outlinewidth": 0,
              "ticks": ""
             }
            },
            "type": "scattergeo"
           }
          ],
          "scattergl": [
           {
            "marker": {
             "colorbar": {
              "outlinewidth": 0,
              "ticks": ""
             }
            },
            "type": "scattergl"
           }
          ],
          "scattermapbox": [
           {
            "marker": {
             "colorbar": {
              "outlinewidth": 0,
              "ticks": ""
             }
            },
            "type": "scattermapbox"
           }
          ],
          "scatterpolar": [
           {
            "marker": {
             "colorbar": {
              "outlinewidth": 0,
              "ticks": ""
             }
            },
            "type": "scatterpolar"
           }
          ],
          "scatterpolargl": [
           {
            "marker": {
             "colorbar": {
              "outlinewidth": 0,
              "ticks": ""
             }
            },
            "type": "scatterpolargl"
           }
          ],
          "scatterternary": [
           {
            "marker": {
             "colorbar": {
              "outlinewidth": 0,
              "ticks": ""
             }
            },
            "type": "scatterternary"
           }
          ],
          "surface": [
           {
            "colorbar": {
             "outlinewidth": 0,
             "ticks": ""
            },
            "colorscale": [
             [
              0,
              "#0d0887"
             ],
             [
              0.1111111111111111,
              "#46039f"
             ],
             [
              0.2222222222222222,
              "#7201a8"
             ],
             [
              0.3333333333333333,
              "#9c179e"
             ],
             [
              0.4444444444444444,
              "#bd3786"
             ],
             [
              0.5555555555555556,
              "#d8576b"
             ],
             [
              0.6666666666666666,
              "#ed7953"
             ],
             [
              0.7777777777777778,
              "#fb9f3a"
             ],
             [
              0.8888888888888888,
              "#fdca26"
             ],
             [
              1,
              "#f0f921"
             ]
            ],
            "type": "surface"
           }
          ],
          "table": [
           {
            "cells": {
             "fill": {
              "color": "#EBF0F8"
             },
             "line": {
              "color": "white"
             }
            },
            "header": {
             "fill": {
              "color": "#C8D4E3"
             },
             "line": {
              "color": "white"
             }
            },
            "type": "table"
           }
          ]
         },
         "layout": {
          "annotationdefaults": {
           "arrowcolor": "#2a3f5f",
           "arrowhead": 0,
           "arrowwidth": 1
          },
          "autotypenumbers": "strict",
          "coloraxis": {
           "colorbar": {
            "outlinewidth": 0,
            "ticks": ""
           }
          },
          "colorscale": {
           "diverging": [
            [
             0,
             "#8e0152"
            ],
            [
             0.1,
             "#c51b7d"
            ],
            [
             0.2,
             "#de77ae"
            ],
            [
             0.3,
             "#f1b6da"
            ],
            [
             0.4,
             "#fde0ef"
            ],
            [
             0.5,
             "#f7f7f7"
            ],
            [
             0.6,
             "#e6f5d0"
            ],
            [
             0.7,
             "#b8e186"
            ],
            [
             0.8,
             "#7fbc41"
            ],
            [
             0.9,
             "#4d9221"
            ],
            [
             1,
             "#276419"
            ]
           ],
           "sequential": [
            [
             0,
             "#0d0887"
            ],
            [
             0.1111111111111111,
             "#46039f"
            ],
            [
             0.2222222222222222,
             "#7201a8"
            ],
            [
             0.3333333333333333,
             "#9c179e"
            ],
            [
             0.4444444444444444,
             "#bd3786"
            ],
            [
             0.5555555555555556,
             "#d8576b"
            ],
            [
             0.6666666666666666,
             "#ed7953"
            ],
            [
             0.7777777777777778,
             "#fb9f3a"
            ],
            [
             0.8888888888888888,
             "#fdca26"
            ],
            [
             1,
             "#f0f921"
            ]
           ],
           "sequentialminus": [
            [
             0,
             "#0d0887"
            ],
            [
             0.1111111111111111,
             "#46039f"
            ],
            [
             0.2222222222222222,
             "#7201a8"
            ],
            [
             0.3333333333333333,
             "#9c179e"
            ],
            [
             0.4444444444444444,
             "#bd3786"
            ],
            [
             0.5555555555555556,
             "#d8576b"
            ],
            [
             0.6666666666666666,
             "#ed7953"
            ],
            [
             0.7777777777777778,
             "#fb9f3a"
            ],
            [
             0.8888888888888888,
             "#fdca26"
            ],
            [
             1,
             "#f0f921"
            ]
           ]
          },
          "colorway": [
           "#636efa",
           "#EF553B",
           "#00cc96",
           "#ab63fa",
           "#FFA15A",
           "#19d3f3",
           "#FF6692",
           "#B6E880",
           "#FF97FF",
           "#FECB52"
          ],
          "font": {
           "color": "#2a3f5f"
          },
          "geo": {
           "bgcolor": "white",
           "lakecolor": "white",
           "landcolor": "white",
           "showlakes": true,
           "showland": true,
           "subunitcolor": "#C8D4E3"
          },
          "hoverlabel": {
           "align": "left"
          },
          "hovermode": "closest",
          "mapbox": {
           "style": "light"
          },
          "paper_bgcolor": "white",
          "plot_bgcolor": "white",
          "polar": {
           "angularaxis": {
            "gridcolor": "#EBF0F8",
            "linecolor": "#EBF0F8",
            "ticks": ""
           },
           "bgcolor": "white",
           "radialaxis": {
            "gridcolor": "#EBF0F8",
            "linecolor": "#EBF0F8",
            "ticks": ""
           }
          },
          "scene": {
           "xaxis": {
            "backgroundcolor": "white",
            "gridcolor": "#DFE8F3",
            "gridwidth": 2,
            "linecolor": "#EBF0F8",
            "showbackground": true,
            "ticks": "",
            "zerolinecolor": "#EBF0F8"
           },
           "yaxis": {
            "backgroundcolor": "white",
            "gridcolor": "#DFE8F3",
            "gridwidth": 2,
            "linecolor": "#EBF0F8",
            "showbackground": true,
            "ticks": "",
            "zerolinecolor": "#EBF0F8"
           },
           "zaxis": {
            "backgroundcolor": "white",
            "gridcolor": "#DFE8F3",
            "gridwidth": 2,
            "linecolor": "#EBF0F8",
            "showbackground": true,
            "ticks": "",
            "zerolinecolor": "#EBF0F8"
           }
          },
          "shapedefaults": {
           "line": {
            "color": "#2a3f5f"
           }
          },
          "ternary": {
           "aaxis": {
            "gridcolor": "#DFE8F3",
            "linecolor": "#A2B1C6",
            "ticks": ""
           },
           "baxis": {
            "gridcolor": "#DFE8F3",
            "linecolor": "#A2B1C6",
            "ticks": ""
           },
           "bgcolor": "white",
           "caxis": {
            "gridcolor": "#DFE8F3",
            "linecolor": "#A2B1C6",
            "ticks": ""
           }
          },
          "title": {
           "x": 0.05
          },
          "xaxis": {
           "automargin": true,
           "gridcolor": "#EBF0F8",
           "linecolor": "#EBF0F8",
           "ticks": "",
           "title": {
            "standoff": 15
           },
           "zerolinecolor": "#EBF0F8",
           "zerolinewidth": 2
          },
          "yaxis": {
           "automargin": true,
           "gridcolor": "#EBF0F8",
           "linecolor": "#EBF0F8",
           "ticks": "",
           "title": {
            "standoff": 15
           },
           "zerolinecolor": "#EBF0F8",
           "zerolinewidth": 2
          }
         }
        },
        "xaxis": {
         "title": {
          "text": "Epoch"
         }
        },
        "yaxis": {
         "title": {
          "text": "WRMSE"
         }
        }
       }
      }
     },
     "metadata": {},
     "output_type": "display_data"
    }
   ],
   "source": [
    "visualize_loss(results, metric='wrmse')"
   ]
  },
  {
   "cell_type": "markdown",
   "metadata": {},
   "source": [
    "### 2.2. Tuning the model hyperparameters <a class=\"anchor\" id=\"section22\"></a>"
   ]
  },
  {
   "cell_type": "code",
   "execution_count": 30,
   "metadata": {},
   "outputs": [],
   "source": [
    "hidden_channels = [16, 32, 64]\n",
    "learning_rates = [0.005, 0.01, 0.05]\n",
    "convs = [GATConv, SAGEConv]"
   ]
  },
  {
   "cell_type": "code",
   "execution_count": 26,
   "metadata": {},
   "outputs": [
    {
     "name": "stdout",
     "output_type": "stream",
     "text": [
      "Sc: 1/18\n",
      "{'hidden_channels': 16, 'learning_rate': 0.005, 'conv': 'GATConv'}\n",
      "success1!\n",
      "success2!\n",
      "output GNNEncoder(\n",
      "  (conv1): GATConv((-1, -1), 16, heads=1)\n",
      "  (conv2): GATConv((-1, -1), 16, heads=1)\n",
      ")\n",
      "Early stopping\n"
     ]
    },
    {
     "data": {
      "text/html": [
       "<div>\n",
       "<style scoped>\n",
       "    .dataframe tbody tr th:only-of-type {\n",
       "        vertical-align: middle;\n",
       "    }\n",
       "\n",
       "    .dataframe tbody tr th {\n",
       "        vertical-align: top;\n",
       "    }\n",
       "\n",
       "    .dataframe thead th {\n",
       "        text-align: right;\n",
       "    }\n",
       "</style>\n",
       "<table border=\"1\" class=\"dataframe\">\n",
       "  <thead>\n",
       "    <tr style=\"text-align: right;\">\n",
       "      <th></th>\n",
       "      <th>loss</th>\n",
       "      <th>train_rmse</th>\n",
       "      <th>val_rmse</th>\n",
       "      <th>test_rmse</th>\n",
       "      <th>train_wrmse</th>\n",
       "      <th>val_wrmse</th>\n",
       "      <th>test_wrmse</th>\n",
       "      <th>time</th>\n",
       "      <th>model</th>\n",
       "      <th>hc</th>\n",
       "      <th>lr</th>\n",
       "    </tr>\n",
       "  </thead>\n",
       "  <tbody>\n",
       "    <tr>\n",
       "      <th>0</th>\n",
       "      <td>2.450284</td>\n",
       "      <td>1.304201</td>\n",
       "      <td>1.348433</td>\n",
       "      <td>1.347838</td>\n",
       "      <td>1.304201</td>\n",
       "      <td>1.348433</td>\n",
       "      <td>1.347838</td>\n",
       "      <td>0.185396</td>\n",
       "      <td>GATConv</td>\n",
       "      <td>16</td>\n",
       "      <td>0.005</td>\n",
       "    </tr>\n",
       "  </tbody>\n",
       "</table>\n",
       "</div>"
      ],
      "text/plain": [
       "       loss  train_rmse  val_rmse  test_rmse  train_wrmse  val_wrmse  \\\n",
       "0  2.450284    1.304201  1.348433   1.347838     1.304201   1.348433   \n",
       "\n",
       "   test_wrmse      time    model  hc     lr  \n",
       "0    1.347838  0.185396  GATConv  16  0.005  "
      ]
     },
     "metadata": {},
     "output_type": "display_data"
    },
    {
     "name": "stdout",
     "output_type": "stream",
     "text": [
      "Sc: 2/18\n",
      "{'hidden_channels': 16, 'learning_rate': 0.005, 'conv': 'SAGEConv'}\n",
      "output GNNEncoder(\n",
      "  (conv1): SAGEConv((-1, -1), 16, aggr=mean)\n",
      "  (conv2): SAGEConv((-1, -1), 16, aggr=mean)\n",
      ")\n",
      "Early stopping\n"
     ]
    },
    {
     "data": {
      "text/html": [
       "<div>\n",
       "<style scoped>\n",
       "    .dataframe tbody tr th:only-of-type {\n",
       "        vertical-align: middle;\n",
       "    }\n",
       "\n",
       "    .dataframe tbody tr th {\n",
       "        vertical-align: top;\n",
       "    }\n",
       "\n",
       "    .dataframe thead th {\n",
       "        text-align: right;\n",
       "    }\n",
       "</style>\n",
       "<table border=\"1\" class=\"dataframe\">\n",
       "  <thead>\n",
       "    <tr style=\"text-align: right;\">\n",
       "      <th></th>\n",
       "      <th>loss</th>\n",
       "      <th>train_rmse</th>\n",
       "      <th>val_rmse</th>\n",
       "      <th>test_rmse</th>\n",
       "      <th>train_wrmse</th>\n",
       "      <th>val_wrmse</th>\n",
       "      <th>test_wrmse</th>\n",
       "      <th>time</th>\n",
       "      <th>model</th>\n",
       "      <th>hc</th>\n",
       "      <th>lr</th>\n",
       "    </tr>\n",
       "  </thead>\n",
       "  <tbody>\n",
       "    <tr>\n",
       "      <th>0</th>\n",
       "      <td>2.450284</td>\n",
       "      <td>1.304201</td>\n",
       "      <td>1.348433</td>\n",
       "      <td>1.347838</td>\n",
       "      <td>1.304201</td>\n",
       "      <td>1.348433</td>\n",
       "      <td>1.347838</td>\n",
       "      <td>0.185396</td>\n",
       "      <td>GATConv</td>\n",
       "      <td>16</td>\n",
       "      <td>0.005</td>\n",
       "    </tr>\n",
       "    <tr>\n",
       "      <th>1</th>\n",
       "      <td>2.199547</td>\n",
       "      <td>1.266163</td>\n",
       "      <td>1.267525</td>\n",
       "      <td>1.275587</td>\n",
       "      <td>1.266163</td>\n",
       "      <td>1.267525</td>\n",
       "      <td>1.275587</td>\n",
       "      <td>0.403496</td>\n",
       "      <td>SAGEConv</td>\n",
       "      <td>16</td>\n",
       "      <td>0.005</td>\n",
       "    </tr>\n",
       "  </tbody>\n",
       "</table>\n",
       "</div>"
      ],
      "text/plain": [
       "       loss  train_rmse  val_rmse  test_rmse  train_wrmse  val_wrmse  \\\n",
       "0  2.450284    1.304201  1.348433   1.347838     1.304201   1.348433   \n",
       "1  2.199547    1.266163  1.267525   1.275587     1.266163   1.267525   \n",
       "\n",
       "   test_wrmse      time     model  hc     lr  \n",
       "0    1.347838  0.185396   GATConv  16  0.005  \n",
       "1    1.275587  0.403496  SAGEConv  16  0.005  "
      ]
     },
     "metadata": {},
     "output_type": "display_data"
    },
    {
     "name": "stdout",
     "output_type": "stream",
     "text": [
      "Sc: 3/18\n",
      "{'hidden_channels': 16, 'learning_rate': 0.01, 'conv': 'GATConv'}\n",
      "success1!\n",
      "success2!\n",
      "output GNNEncoder(\n",
      "  (conv1): GATConv((-1, -1), 16, heads=1)\n",
      "  (conv2): GATConv((-1, -1), 16, heads=1)\n",
      ")\n",
      "Early stopping\n"
     ]
    },
    {
     "data": {
      "text/html": [
       "<div>\n",
       "<style scoped>\n",
       "    .dataframe tbody tr th:only-of-type {\n",
       "        vertical-align: middle;\n",
       "    }\n",
       "\n",
       "    .dataframe tbody tr th {\n",
       "        vertical-align: top;\n",
       "    }\n",
       "\n",
       "    .dataframe thead th {\n",
       "        text-align: right;\n",
       "    }\n",
       "</style>\n",
       "<table border=\"1\" class=\"dataframe\">\n",
       "  <thead>\n",
       "    <tr style=\"text-align: right;\">\n",
       "      <th></th>\n",
       "      <th>loss</th>\n",
       "      <th>train_rmse</th>\n",
       "      <th>val_rmse</th>\n",
       "      <th>test_rmse</th>\n",
       "      <th>train_wrmse</th>\n",
       "      <th>val_wrmse</th>\n",
       "      <th>test_wrmse</th>\n",
       "      <th>time</th>\n",
       "      <th>model</th>\n",
       "      <th>hc</th>\n",
       "      <th>lr</th>\n",
       "    </tr>\n",
       "  </thead>\n",
       "  <tbody>\n",
       "    <tr>\n",
       "      <th>0</th>\n",
       "      <td>2.450284</td>\n",
       "      <td>1.304201</td>\n",
       "      <td>1.348433</td>\n",
       "      <td>1.347838</td>\n",
       "      <td>1.304201</td>\n",
       "      <td>1.348433</td>\n",
       "      <td>1.347838</td>\n",
       "      <td>0.185396</td>\n",
       "      <td>GATConv</td>\n",
       "      <td>16</td>\n",
       "      <td>0.005</td>\n",
       "    </tr>\n",
       "    <tr>\n",
       "      <th>1</th>\n",
       "      <td>2.199547</td>\n",
       "      <td>1.266163</td>\n",
       "      <td>1.267525</td>\n",
       "      <td>1.275587</td>\n",
       "      <td>1.266163</td>\n",
       "      <td>1.267525</td>\n",
       "      <td>1.275587</td>\n",
       "      <td>0.403496</td>\n",
       "      <td>SAGEConv</td>\n",
       "      <td>16</td>\n",
       "      <td>0.005</td>\n",
       "    </tr>\n",
       "    <tr>\n",
       "      <th>2</th>\n",
       "      <td>2.348879</td>\n",
       "      <td>1.280352</td>\n",
       "      <td>1.322590</td>\n",
       "      <td>1.318935</td>\n",
       "      <td>1.280352</td>\n",
       "      <td>1.322590</td>\n",
       "      <td>1.318935</td>\n",
       "      <td>0.176415</td>\n",
       "      <td>GATConv</td>\n",
       "      <td>16</td>\n",
       "      <td>0.010</td>\n",
       "    </tr>\n",
       "  </tbody>\n",
       "</table>\n",
       "</div>"
      ],
      "text/plain": [
       "       loss  train_rmse  val_rmse  test_rmse  train_wrmse  val_wrmse  \\\n",
       "0  2.450284    1.304201  1.348433   1.347838     1.304201   1.348433   \n",
       "1  2.199547    1.266163  1.267525   1.275587     1.266163   1.267525   \n",
       "2  2.348879    1.280352  1.322590   1.318935     1.280352   1.322590   \n",
       "\n",
       "   test_wrmse      time     model  hc     lr  \n",
       "0    1.347838  0.185396   GATConv  16  0.005  \n",
       "1    1.275587  0.403496  SAGEConv  16  0.005  \n",
       "2    1.318935  0.176415   GATConv  16  0.010  "
      ]
     },
     "metadata": {},
     "output_type": "display_data"
    },
    {
     "name": "stdout",
     "output_type": "stream",
     "text": [
      "Sc: 4/18\n",
      "{'hidden_channels': 16, 'learning_rate': 0.01, 'conv': 'SAGEConv'}\n",
      "output GNNEncoder(\n",
      "  (conv1): SAGEConv((-1, -1), 16, aggr=mean)\n",
      "  (conv2): SAGEConv((-1, -1), 16, aggr=mean)\n",
      ")\n",
      "Early stopping\n"
     ]
    },
    {
     "data": {
      "text/html": [
       "<div>\n",
       "<style scoped>\n",
       "    .dataframe tbody tr th:only-of-type {\n",
       "        vertical-align: middle;\n",
       "    }\n",
       "\n",
       "    .dataframe tbody tr th {\n",
       "        vertical-align: top;\n",
       "    }\n",
       "\n",
       "    .dataframe thead th {\n",
       "        text-align: right;\n",
       "    }\n",
       "</style>\n",
       "<table border=\"1\" class=\"dataframe\">\n",
       "  <thead>\n",
       "    <tr style=\"text-align: right;\">\n",
       "      <th></th>\n",
       "      <th>loss</th>\n",
       "      <th>train_rmse</th>\n",
       "      <th>val_rmse</th>\n",
       "      <th>test_rmse</th>\n",
       "      <th>train_wrmse</th>\n",
       "      <th>val_wrmse</th>\n",
       "      <th>test_wrmse</th>\n",
       "      <th>time</th>\n",
       "      <th>model</th>\n",
       "      <th>hc</th>\n",
       "      <th>lr</th>\n",
       "    </tr>\n",
       "  </thead>\n",
       "  <tbody>\n",
       "    <tr>\n",
       "      <th>0</th>\n",
       "      <td>2.450284</td>\n",
       "      <td>1.304201</td>\n",
       "      <td>1.348433</td>\n",
       "      <td>1.347838</td>\n",
       "      <td>1.304201</td>\n",
       "      <td>1.348433</td>\n",
       "      <td>1.347838</td>\n",
       "      <td>0.185396</td>\n",
       "      <td>GATConv</td>\n",
       "      <td>16</td>\n",
       "      <td>0.005</td>\n",
       "    </tr>\n",
       "    <tr>\n",
       "      <th>1</th>\n",
       "      <td>2.199547</td>\n",
       "      <td>1.266163</td>\n",
       "      <td>1.267525</td>\n",
       "      <td>1.275587</td>\n",
       "      <td>1.266163</td>\n",
       "      <td>1.267525</td>\n",
       "      <td>1.275587</td>\n",
       "      <td>0.403496</td>\n",
       "      <td>SAGEConv</td>\n",
       "      <td>16</td>\n",
       "      <td>0.005</td>\n",
       "    </tr>\n",
       "    <tr>\n",
       "      <th>2</th>\n",
       "      <td>2.348879</td>\n",
       "      <td>1.280352</td>\n",
       "      <td>1.322590</td>\n",
       "      <td>1.318935</td>\n",
       "      <td>1.280352</td>\n",
       "      <td>1.322590</td>\n",
       "      <td>1.318935</td>\n",
       "      <td>0.176415</td>\n",
       "      <td>GATConv</td>\n",
       "      <td>16</td>\n",
       "      <td>0.010</td>\n",
       "    </tr>\n",
       "    <tr>\n",
       "      <th>3</th>\n",
       "      <td>1.894977</td>\n",
       "      <td>1.187023</td>\n",
       "      <td>1.185236</td>\n",
       "      <td>1.189817</td>\n",
       "      <td>1.187023</td>\n",
       "      <td>1.185236</td>\n",
       "      <td>1.189817</td>\n",
       "      <td>0.386870</td>\n",
       "      <td>SAGEConv</td>\n",
       "      <td>16</td>\n",
       "      <td>0.010</td>\n",
       "    </tr>\n",
       "  </tbody>\n",
       "</table>\n",
       "</div>"
      ],
      "text/plain": [
       "       loss  train_rmse  val_rmse  test_rmse  train_wrmse  val_wrmse  \\\n",
       "0  2.450284    1.304201  1.348433   1.347838     1.304201   1.348433   \n",
       "1  2.199547    1.266163  1.267525   1.275587     1.266163   1.267525   \n",
       "2  2.348879    1.280352  1.322590   1.318935     1.280352   1.322590   \n",
       "3  1.894977    1.187023  1.185236   1.189817     1.187023   1.185236   \n",
       "\n",
       "   test_wrmse      time     model  hc     lr  \n",
       "0    1.347838  0.185396   GATConv  16  0.005  \n",
       "1    1.275587  0.403496  SAGEConv  16  0.005  \n",
       "2    1.318935  0.176415   GATConv  16  0.010  \n",
       "3    1.189817  0.386870  SAGEConv  16  0.010  "
      ]
     },
     "metadata": {},
     "output_type": "display_data"
    },
    {
     "name": "stdout",
     "output_type": "stream",
     "text": [
      "Sc: 5/18\n",
      "{'hidden_channels': 16, 'learning_rate': 0.05, 'conv': 'GATConv'}\n",
      "success1!\n",
      "success2!\n",
      "output GNNEncoder(\n",
      "  (conv1): GATConv((-1, -1), 16, heads=1)\n",
      "  (conv2): GATConv((-1, -1), 16, heads=1)\n",
      ")\n",
      "Early stopping\n"
     ]
    },
    {
     "data": {
      "text/html": [
       "<div>\n",
       "<style scoped>\n",
       "    .dataframe tbody tr th:only-of-type {\n",
       "        vertical-align: middle;\n",
       "    }\n",
       "\n",
       "    .dataframe tbody tr th {\n",
       "        vertical-align: top;\n",
       "    }\n",
       "\n",
       "    .dataframe thead th {\n",
       "        text-align: right;\n",
       "    }\n",
       "</style>\n",
       "<table border=\"1\" class=\"dataframe\">\n",
       "  <thead>\n",
       "    <tr style=\"text-align: right;\">\n",
       "      <th></th>\n",
       "      <th>loss</th>\n",
       "      <th>train_rmse</th>\n",
       "      <th>val_rmse</th>\n",
       "      <th>test_rmse</th>\n",
       "      <th>train_wrmse</th>\n",
       "      <th>val_wrmse</th>\n",
       "      <th>test_wrmse</th>\n",
       "      <th>time</th>\n",
       "      <th>model</th>\n",
       "      <th>hc</th>\n",
       "      <th>lr</th>\n",
       "    </tr>\n",
       "  </thead>\n",
       "  <tbody>\n",
       "    <tr>\n",
       "      <th>0</th>\n",
       "      <td>2.450284</td>\n",
       "      <td>1.304201</td>\n",
       "      <td>1.348433</td>\n",
       "      <td>1.347838</td>\n",
       "      <td>1.304201</td>\n",
       "      <td>1.348433</td>\n",
       "      <td>1.347838</td>\n",
       "      <td>0.185396</td>\n",
       "      <td>GATConv</td>\n",
       "      <td>16</td>\n",
       "      <td>0.005</td>\n",
       "    </tr>\n",
       "    <tr>\n",
       "      <th>1</th>\n",
       "      <td>2.199547</td>\n",
       "      <td>1.266163</td>\n",
       "      <td>1.267525</td>\n",
       "      <td>1.275587</td>\n",
       "      <td>1.266163</td>\n",
       "      <td>1.267525</td>\n",
       "      <td>1.275587</td>\n",
       "      <td>0.403496</td>\n",
       "      <td>SAGEConv</td>\n",
       "      <td>16</td>\n",
       "      <td>0.005</td>\n",
       "    </tr>\n",
       "    <tr>\n",
       "      <th>2</th>\n",
       "      <td>2.348879</td>\n",
       "      <td>1.280352</td>\n",
       "      <td>1.322590</td>\n",
       "      <td>1.318935</td>\n",
       "      <td>1.280352</td>\n",
       "      <td>1.322590</td>\n",
       "      <td>1.318935</td>\n",
       "      <td>0.176415</td>\n",
       "      <td>GATConv</td>\n",
       "      <td>16</td>\n",
       "      <td>0.010</td>\n",
       "    </tr>\n",
       "    <tr>\n",
       "      <th>3</th>\n",
       "      <td>1.894977</td>\n",
       "      <td>1.187023</td>\n",
       "      <td>1.185236</td>\n",
       "      <td>1.189817</td>\n",
       "      <td>1.187023</td>\n",
       "      <td>1.185236</td>\n",
       "      <td>1.189817</td>\n",
       "      <td>0.386870</td>\n",
       "      <td>SAGEConv</td>\n",
       "      <td>16</td>\n",
       "      <td>0.010</td>\n",
       "    </tr>\n",
       "    <tr>\n",
       "      <th>4</th>\n",
       "      <td>2.072306</td>\n",
       "      <td>1.137587</td>\n",
       "      <td>1.150139</td>\n",
       "      <td>1.127268</td>\n",
       "      <td>1.137587</td>\n",
       "      <td>1.150139</td>\n",
       "      <td>1.127268</td>\n",
       "      <td>0.189843</td>\n",
       "      <td>GATConv</td>\n",
       "      <td>16</td>\n",
       "      <td>0.050</td>\n",
       "    </tr>\n",
       "  </tbody>\n",
       "</table>\n",
       "</div>"
      ],
      "text/plain": [
       "       loss  train_rmse  val_rmse  test_rmse  train_wrmse  val_wrmse  \\\n",
       "0  2.450284    1.304201  1.348433   1.347838     1.304201   1.348433   \n",
       "1  2.199547    1.266163  1.267525   1.275587     1.266163   1.267525   \n",
       "2  2.348879    1.280352  1.322590   1.318935     1.280352   1.322590   \n",
       "3  1.894977    1.187023  1.185236   1.189817     1.187023   1.185236   \n",
       "4  2.072306    1.137587  1.150139   1.127268     1.137587   1.150139   \n",
       "\n",
       "   test_wrmse      time     model  hc     lr  \n",
       "0    1.347838  0.185396   GATConv  16  0.005  \n",
       "1    1.275587  0.403496  SAGEConv  16  0.005  \n",
       "2    1.318935  0.176415   GATConv  16  0.010  \n",
       "3    1.189817  0.386870  SAGEConv  16  0.010  \n",
       "4    1.127268  0.189843   GATConv  16  0.050  "
      ]
     },
     "metadata": {},
     "output_type": "display_data"
    },
    {
     "name": "stdout",
     "output_type": "stream",
     "text": [
      "Sc: 6/18\n",
      "{'hidden_channels': 16, 'learning_rate': 0.05, 'conv': 'SAGEConv'}\n",
      "output GNNEncoder(\n",
      "  (conv1): SAGEConv((-1, -1), 16, aggr=mean)\n",
      "  (conv2): SAGEConv((-1, -1), 16, aggr=mean)\n",
      ")\n",
      "Early stopping\n"
     ]
    },
    {
     "data": {
      "text/html": [
       "<div>\n",
       "<style scoped>\n",
       "    .dataframe tbody tr th:only-of-type {\n",
       "        vertical-align: middle;\n",
       "    }\n",
       "\n",
       "    .dataframe tbody tr th {\n",
       "        vertical-align: top;\n",
       "    }\n",
       "\n",
       "    .dataframe thead th {\n",
       "        text-align: right;\n",
       "    }\n",
       "</style>\n",
       "<table border=\"1\" class=\"dataframe\">\n",
       "  <thead>\n",
       "    <tr style=\"text-align: right;\">\n",
       "      <th></th>\n",
       "      <th>loss</th>\n",
       "      <th>train_rmse</th>\n",
       "      <th>val_rmse</th>\n",
       "      <th>test_rmse</th>\n",
       "      <th>train_wrmse</th>\n",
       "      <th>val_wrmse</th>\n",
       "      <th>test_wrmse</th>\n",
       "      <th>time</th>\n",
       "      <th>model</th>\n",
       "      <th>hc</th>\n",
       "      <th>lr</th>\n",
       "    </tr>\n",
       "  </thead>\n",
       "  <tbody>\n",
       "    <tr>\n",
       "      <th>0</th>\n",
       "      <td>2.450284</td>\n",
       "      <td>1.304201</td>\n",
       "      <td>1.348433</td>\n",
       "      <td>1.347838</td>\n",
       "      <td>1.304201</td>\n",
       "      <td>1.348433</td>\n",
       "      <td>1.347838</td>\n",
       "      <td>0.185396</td>\n",
       "      <td>GATConv</td>\n",
       "      <td>16</td>\n",
       "      <td>0.005</td>\n",
       "    </tr>\n",
       "    <tr>\n",
       "      <th>1</th>\n",
       "      <td>2.199547</td>\n",
       "      <td>1.266163</td>\n",
       "      <td>1.267525</td>\n",
       "      <td>1.275587</td>\n",
       "      <td>1.266163</td>\n",
       "      <td>1.267525</td>\n",
       "      <td>1.275587</td>\n",
       "      <td>0.403496</td>\n",
       "      <td>SAGEConv</td>\n",
       "      <td>16</td>\n",
       "      <td>0.005</td>\n",
       "    </tr>\n",
       "    <tr>\n",
       "      <th>2</th>\n",
       "      <td>2.348879</td>\n",
       "      <td>1.280352</td>\n",
       "      <td>1.322590</td>\n",
       "      <td>1.318935</td>\n",
       "      <td>1.280352</td>\n",
       "      <td>1.322590</td>\n",
       "      <td>1.318935</td>\n",
       "      <td>0.176415</td>\n",
       "      <td>GATConv</td>\n",
       "      <td>16</td>\n",
       "      <td>0.010</td>\n",
       "    </tr>\n",
       "    <tr>\n",
       "      <th>3</th>\n",
       "      <td>1.894977</td>\n",
       "      <td>1.187023</td>\n",
       "      <td>1.185236</td>\n",
       "      <td>1.189817</td>\n",
       "      <td>1.187023</td>\n",
       "      <td>1.185236</td>\n",
       "      <td>1.189817</td>\n",
       "      <td>0.386870</td>\n",
       "      <td>SAGEConv</td>\n",
       "      <td>16</td>\n",
       "      <td>0.010</td>\n",
       "    </tr>\n",
       "    <tr>\n",
       "      <th>4</th>\n",
       "      <td>2.072306</td>\n",
       "      <td>1.137587</td>\n",
       "      <td>1.150139</td>\n",
       "      <td>1.127268</td>\n",
       "      <td>1.137587</td>\n",
       "      <td>1.150139</td>\n",
       "      <td>1.127268</td>\n",
       "      <td>0.189843</td>\n",
       "      <td>GATConv</td>\n",
       "      <td>16</td>\n",
       "      <td>0.050</td>\n",
       "    </tr>\n",
       "    <tr>\n",
       "      <th>5</th>\n",
       "      <td>1.756259</td>\n",
       "      <td>1.095855</td>\n",
       "      <td>1.131961</td>\n",
       "      <td>1.124050</td>\n",
       "      <td>1.095855</td>\n",
       "      <td>1.131961</td>\n",
       "      <td>1.124050</td>\n",
       "      <td>0.368111</td>\n",
       "      <td>SAGEConv</td>\n",
       "      <td>16</td>\n",
       "      <td>0.050</td>\n",
       "    </tr>\n",
       "  </tbody>\n",
       "</table>\n",
       "</div>"
      ],
      "text/plain": [
       "       loss  train_rmse  val_rmse  test_rmse  train_wrmse  val_wrmse  \\\n",
       "0  2.450284    1.304201  1.348433   1.347838     1.304201   1.348433   \n",
       "1  2.199547    1.266163  1.267525   1.275587     1.266163   1.267525   \n",
       "2  2.348879    1.280352  1.322590   1.318935     1.280352   1.322590   \n",
       "3  1.894977    1.187023  1.185236   1.189817     1.187023   1.185236   \n",
       "4  2.072306    1.137587  1.150139   1.127268     1.137587   1.150139   \n",
       "5  1.756259    1.095855  1.131961   1.124050     1.095855   1.131961   \n",
       "\n",
       "   test_wrmse      time     model  hc     lr  \n",
       "0    1.347838  0.185396   GATConv  16  0.005  \n",
       "1    1.275587  0.403496  SAGEConv  16  0.005  \n",
       "2    1.318935  0.176415   GATConv  16  0.010  \n",
       "3    1.189817  0.386870  SAGEConv  16  0.010  \n",
       "4    1.127268  0.189843   GATConv  16  0.050  \n",
       "5    1.124050  0.368111  SAGEConv  16  0.050  "
      ]
     },
     "metadata": {},
     "output_type": "display_data"
    },
    {
     "name": "stdout",
     "output_type": "stream",
     "text": [
      "Sc: 7/18\n",
      "{'hidden_channels': 32, 'learning_rate': 0.005, 'conv': 'GATConv'}\n",
      "success1!\n",
      "success2!\n",
      "output GNNEncoder(\n",
      "  (conv1): GATConv((-1, -1), 32, heads=1)\n",
      "  (conv2): GATConv((-1, -1), 32, heads=1)\n",
      ")\n",
      "Early stopping\n"
     ]
    },
    {
     "data": {
      "text/html": [
       "<div>\n",
       "<style scoped>\n",
       "    .dataframe tbody tr th:only-of-type {\n",
       "        vertical-align: middle;\n",
       "    }\n",
       "\n",
       "    .dataframe tbody tr th {\n",
       "        vertical-align: top;\n",
       "    }\n",
       "\n",
       "    .dataframe thead th {\n",
       "        text-align: right;\n",
       "    }\n",
       "</style>\n",
       "<table border=\"1\" class=\"dataframe\">\n",
       "  <thead>\n",
       "    <tr style=\"text-align: right;\">\n",
       "      <th></th>\n",
       "      <th>loss</th>\n",
       "      <th>train_rmse</th>\n",
       "      <th>val_rmse</th>\n",
       "      <th>test_rmse</th>\n",
       "      <th>train_wrmse</th>\n",
       "      <th>val_wrmse</th>\n",
       "      <th>test_wrmse</th>\n",
       "      <th>time</th>\n",
       "      <th>model</th>\n",
       "      <th>hc</th>\n",
       "      <th>lr</th>\n",
       "    </tr>\n",
       "  </thead>\n",
       "  <tbody>\n",
       "    <tr>\n",
       "      <th>0</th>\n",
       "      <td>2.450284</td>\n",
       "      <td>1.304201</td>\n",
       "      <td>1.348433</td>\n",
       "      <td>1.347838</td>\n",
       "      <td>1.304201</td>\n",
       "      <td>1.348433</td>\n",
       "      <td>1.347838</td>\n",
       "      <td>0.185396</td>\n",
       "      <td>GATConv</td>\n",
       "      <td>16</td>\n",
       "      <td>0.005</td>\n",
       "    </tr>\n",
       "    <tr>\n",
       "      <th>1</th>\n",
       "      <td>2.199547</td>\n",
       "      <td>1.266163</td>\n",
       "      <td>1.267525</td>\n",
       "      <td>1.275587</td>\n",
       "      <td>1.266163</td>\n",
       "      <td>1.267525</td>\n",
       "      <td>1.275587</td>\n",
       "      <td>0.403496</td>\n",
       "      <td>SAGEConv</td>\n",
       "      <td>16</td>\n",
       "      <td>0.005</td>\n",
       "    </tr>\n",
       "    <tr>\n",
       "      <th>2</th>\n",
       "      <td>2.348879</td>\n",
       "      <td>1.280352</td>\n",
       "      <td>1.322590</td>\n",
       "      <td>1.318935</td>\n",
       "      <td>1.280352</td>\n",
       "      <td>1.322590</td>\n",
       "      <td>1.318935</td>\n",
       "      <td>0.176415</td>\n",
       "      <td>GATConv</td>\n",
       "      <td>16</td>\n",
       "      <td>0.010</td>\n",
       "    </tr>\n",
       "    <tr>\n",
       "      <th>3</th>\n",
       "      <td>1.894977</td>\n",
       "      <td>1.187023</td>\n",
       "      <td>1.185236</td>\n",
       "      <td>1.189817</td>\n",
       "      <td>1.187023</td>\n",
       "      <td>1.185236</td>\n",
       "      <td>1.189817</td>\n",
       "      <td>0.386870</td>\n",
       "      <td>SAGEConv</td>\n",
       "      <td>16</td>\n",
       "      <td>0.010</td>\n",
       "    </tr>\n",
       "    <tr>\n",
       "      <th>4</th>\n",
       "      <td>2.072306</td>\n",
       "      <td>1.137587</td>\n",
       "      <td>1.150139</td>\n",
       "      <td>1.127268</td>\n",
       "      <td>1.137587</td>\n",
       "      <td>1.150139</td>\n",
       "      <td>1.127268</td>\n",
       "      <td>0.189843</td>\n",
       "      <td>GATConv</td>\n",
       "      <td>16</td>\n",
       "      <td>0.050</td>\n",
       "    </tr>\n",
       "    <tr>\n",
       "      <th>5</th>\n",
       "      <td>1.756259</td>\n",
       "      <td>1.095855</td>\n",
       "      <td>1.131961</td>\n",
       "      <td>1.124050</td>\n",
       "      <td>1.095855</td>\n",
       "      <td>1.131961</td>\n",
       "      <td>1.124050</td>\n",
       "      <td>0.368111</td>\n",
       "      <td>SAGEConv</td>\n",
       "      <td>16</td>\n",
       "      <td>0.050</td>\n",
       "    </tr>\n",
       "    <tr>\n",
       "      <th>6</th>\n",
       "      <td>2.393313</td>\n",
       "      <td>1.296184</td>\n",
       "      <td>1.333969</td>\n",
       "      <td>1.334517</td>\n",
       "      <td>1.296184</td>\n",
       "      <td>1.333969</td>\n",
       "      <td>1.334517</td>\n",
       "      <td>0.251543</td>\n",
       "      <td>GATConv</td>\n",
       "      <td>32</td>\n",
       "      <td>0.005</td>\n",
       "    </tr>\n",
       "  </tbody>\n",
       "</table>\n",
       "</div>"
      ],
      "text/plain": [
       "       loss  train_rmse  val_rmse  test_rmse  train_wrmse  val_wrmse  \\\n",
       "0  2.450284    1.304201  1.348433   1.347838     1.304201   1.348433   \n",
       "1  2.199547    1.266163  1.267525   1.275587     1.266163   1.267525   \n",
       "2  2.348879    1.280352  1.322590   1.318935     1.280352   1.322590   \n",
       "3  1.894977    1.187023  1.185236   1.189817     1.187023   1.185236   \n",
       "4  2.072306    1.137587  1.150139   1.127268     1.137587   1.150139   \n",
       "5  1.756259    1.095855  1.131961   1.124050     1.095855   1.131961   \n",
       "6  2.393313    1.296184  1.333969   1.334517     1.296184   1.333969   \n",
       "\n",
       "   test_wrmse      time     model  hc     lr  \n",
       "0    1.347838  0.185396   GATConv  16  0.005  \n",
       "1    1.275587  0.403496  SAGEConv  16  0.005  \n",
       "2    1.318935  0.176415   GATConv  16  0.010  \n",
       "3    1.189817  0.386870  SAGEConv  16  0.010  \n",
       "4    1.127268  0.189843   GATConv  16  0.050  \n",
       "5    1.124050  0.368111  SAGEConv  16  0.050  \n",
       "6    1.334517  0.251543   GATConv  32  0.005  "
      ]
     },
     "metadata": {},
     "output_type": "display_data"
    },
    {
     "name": "stdout",
     "output_type": "stream",
     "text": [
      "Sc: 8/18\n",
      "{'hidden_channels': 32, 'learning_rate': 0.005, 'conv': 'SAGEConv'}\n",
      "output GNNEncoder(\n",
      "  (conv1): SAGEConv((-1, -1), 32, aggr=mean)\n",
      "  (conv2): SAGEConv((-1, -1), 32, aggr=mean)\n",
      ")\n",
      "Early stopping\n"
     ]
    },
    {
     "data": {
      "text/html": [
       "<div>\n",
       "<style scoped>\n",
       "    .dataframe tbody tr th:only-of-type {\n",
       "        vertical-align: middle;\n",
       "    }\n",
       "\n",
       "    .dataframe tbody tr th {\n",
       "        vertical-align: top;\n",
       "    }\n",
       "\n",
       "    .dataframe thead th {\n",
       "        text-align: right;\n",
       "    }\n",
       "</style>\n",
       "<table border=\"1\" class=\"dataframe\">\n",
       "  <thead>\n",
       "    <tr style=\"text-align: right;\">\n",
       "      <th></th>\n",
       "      <th>loss</th>\n",
       "      <th>train_rmse</th>\n",
       "      <th>val_rmse</th>\n",
       "      <th>test_rmse</th>\n",
       "      <th>train_wrmse</th>\n",
       "      <th>val_wrmse</th>\n",
       "      <th>test_wrmse</th>\n",
       "      <th>time</th>\n",
       "      <th>model</th>\n",
       "      <th>hc</th>\n",
       "      <th>lr</th>\n",
       "    </tr>\n",
       "  </thead>\n",
       "  <tbody>\n",
       "    <tr>\n",
       "      <th>0</th>\n",
       "      <td>2.450284</td>\n",
       "      <td>1.304201</td>\n",
       "      <td>1.348433</td>\n",
       "      <td>1.347838</td>\n",
       "      <td>1.304201</td>\n",
       "      <td>1.348433</td>\n",
       "      <td>1.347838</td>\n",
       "      <td>0.185396</td>\n",
       "      <td>GATConv</td>\n",
       "      <td>16</td>\n",
       "      <td>0.005</td>\n",
       "    </tr>\n",
       "    <tr>\n",
       "      <th>1</th>\n",
       "      <td>2.199547</td>\n",
       "      <td>1.266163</td>\n",
       "      <td>1.267525</td>\n",
       "      <td>1.275587</td>\n",
       "      <td>1.266163</td>\n",
       "      <td>1.267525</td>\n",
       "      <td>1.275587</td>\n",
       "      <td>0.403496</td>\n",
       "      <td>SAGEConv</td>\n",
       "      <td>16</td>\n",
       "      <td>0.005</td>\n",
       "    </tr>\n",
       "    <tr>\n",
       "      <th>2</th>\n",
       "      <td>2.348879</td>\n",
       "      <td>1.280352</td>\n",
       "      <td>1.322590</td>\n",
       "      <td>1.318935</td>\n",
       "      <td>1.280352</td>\n",
       "      <td>1.322590</td>\n",
       "      <td>1.318935</td>\n",
       "      <td>0.176415</td>\n",
       "      <td>GATConv</td>\n",
       "      <td>16</td>\n",
       "      <td>0.010</td>\n",
       "    </tr>\n",
       "    <tr>\n",
       "      <th>3</th>\n",
       "      <td>1.894977</td>\n",
       "      <td>1.187023</td>\n",
       "      <td>1.185236</td>\n",
       "      <td>1.189817</td>\n",
       "      <td>1.187023</td>\n",
       "      <td>1.185236</td>\n",
       "      <td>1.189817</td>\n",
       "      <td>0.386870</td>\n",
       "      <td>SAGEConv</td>\n",
       "      <td>16</td>\n",
       "      <td>0.010</td>\n",
       "    </tr>\n",
       "    <tr>\n",
       "      <th>4</th>\n",
       "      <td>2.072306</td>\n",
       "      <td>1.137587</td>\n",
       "      <td>1.150139</td>\n",
       "      <td>1.127268</td>\n",
       "      <td>1.137587</td>\n",
       "      <td>1.150139</td>\n",
       "      <td>1.127268</td>\n",
       "      <td>0.189843</td>\n",
       "      <td>GATConv</td>\n",
       "      <td>16</td>\n",
       "      <td>0.050</td>\n",
       "    </tr>\n",
       "    <tr>\n",
       "      <th>5</th>\n",
       "      <td>1.756259</td>\n",
       "      <td>1.095855</td>\n",
       "      <td>1.131961</td>\n",
       "      <td>1.124050</td>\n",
       "      <td>1.095855</td>\n",
       "      <td>1.131961</td>\n",
       "      <td>1.124050</td>\n",
       "      <td>0.368111</td>\n",
       "      <td>SAGEConv</td>\n",
       "      <td>16</td>\n",
       "      <td>0.050</td>\n",
       "    </tr>\n",
       "    <tr>\n",
       "      <th>6</th>\n",
       "      <td>2.393313</td>\n",
       "      <td>1.296184</td>\n",
       "      <td>1.333969</td>\n",
       "      <td>1.334517</td>\n",
       "      <td>1.296184</td>\n",
       "      <td>1.333969</td>\n",
       "      <td>1.334517</td>\n",
       "      <td>0.251543</td>\n",
       "      <td>GATConv</td>\n",
       "      <td>32</td>\n",
       "      <td>0.005</td>\n",
       "    </tr>\n",
       "    <tr>\n",
       "      <th>7</th>\n",
       "      <td>1.952181</td>\n",
       "      <td>1.170570</td>\n",
       "      <td>1.166871</td>\n",
       "      <td>1.173838</td>\n",
       "      <td>1.170570</td>\n",
       "      <td>1.166871</td>\n",
       "      <td>1.173838</td>\n",
       "      <td>0.424624</td>\n",
       "      <td>SAGEConv</td>\n",
       "      <td>32</td>\n",
       "      <td>0.005</td>\n",
       "    </tr>\n",
       "  </tbody>\n",
       "</table>\n",
       "</div>"
      ],
      "text/plain": [
       "       loss  train_rmse  val_rmse  test_rmse  train_wrmse  val_wrmse  \\\n",
       "0  2.450284    1.304201  1.348433   1.347838     1.304201   1.348433   \n",
       "1  2.199547    1.266163  1.267525   1.275587     1.266163   1.267525   \n",
       "2  2.348879    1.280352  1.322590   1.318935     1.280352   1.322590   \n",
       "3  1.894977    1.187023  1.185236   1.189817     1.187023   1.185236   \n",
       "4  2.072306    1.137587  1.150139   1.127268     1.137587   1.150139   \n",
       "5  1.756259    1.095855  1.131961   1.124050     1.095855   1.131961   \n",
       "6  2.393313    1.296184  1.333969   1.334517     1.296184   1.333969   \n",
       "7  1.952181    1.170570  1.166871   1.173838     1.170570   1.166871   \n",
       "\n",
       "   test_wrmse      time     model  hc     lr  \n",
       "0    1.347838  0.185396   GATConv  16  0.005  \n",
       "1    1.275587  0.403496  SAGEConv  16  0.005  \n",
       "2    1.318935  0.176415   GATConv  16  0.010  \n",
       "3    1.189817  0.386870  SAGEConv  16  0.010  \n",
       "4    1.127268  0.189843   GATConv  16  0.050  \n",
       "5    1.124050  0.368111  SAGEConv  16  0.050  \n",
       "6    1.334517  0.251543   GATConv  32  0.005  \n",
       "7    1.173838  0.424624  SAGEConv  32  0.005  "
      ]
     },
     "metadata": {},
     "output_type": "display_data"
    },
    {
     "name": "stdout",
     "output_type": "stream",
     "text": [
      "Sc: 9/18\n",
      "{'hidden_channels': 32, 'learning_rate': 0.01, 'conv': 'GATConv'}\n",
      "success1!\n",
      "success2!\n",
      "output GNNEncoder(\n",
      "  (conv1): GATConv((-1, -1), 32, heads=1)\n",
      "  (conv2): GATConv((-1, -1), 32, heads=1)\n",
      ")\n",
      "Early stopping\n"
     ]
    },
    {
     "data": {
      "text/html": [
       "<div>\n",
       "<style scoped>\n",
       "    .dataframe tbody tr th:only-of-type {\n",
       "        vertical-align: middle;\n",
       "    }\n",
       "\n",
       "    .dataframe tbody tr th {\n",
       "        vertical-align: top;\n",
       "    }\n",
       "\n",
       "    .dataframe thead th {\n",
       "        text-align: right;\n",
       "    }\n",
       "</style>\n",
       "<table border=\"1\" class=\"dataframe\">\n",
       "  <thead>\n",
       "    <tr style=\"text-align: right;\">\n",
       "      <th></th>\n",
       "      <th>loss</th>\n",
       "      <th>train_rmse</th>\n",
       "      <th>val_rmse</th>\n",
       "      <th>test_rmse</th>\n",
       "      <th>train_wrmse</th>\n",
       "      <th>val_wrmse</th>\n",
       "      <th>test_wrmse</th>\n",
       "      <th>time</th>\n",
       "      <th>model</th>\n",
       "      <th>hc</th>\n",
       "      <th>lr</th>\n",
       "    </tr>\n",
       "  </thead>\n",
       "  <tbody>\n",
       "    <tr>\n",
       "      <th>0</th>\n",
       "      <td>2.450284</td>\n",
       "      <td>1.304201</td>\n",
       "      <td>1.348433</td>\n",
       "      <td>1.347838</td>\n",
       "      <td>1.304201</td>\n",
       "      <td>1.348433</td>\n",
       "      <td>1.347838</td>\n",
       "      <td>0.185396</td>\n",
       "      <td>GATConv</td>\n",
       "      <td>16</td>\n",
       "      <td>0.005</td>\n",
       "    </tr>\n",
       "    <tr>\n",
       "      <th>1</th>\n",
       "      <td>2.199547</td>\n",
       "      <td>1.266163</td>\n",
       "      <td>1.267525</td>\n",
       "      <td>1.275587</td>\n",
       "      <td>1.266163</td>\n",
       "      <td>1.267525</td>\n",
       "      <td>1.275587</td>\n",
       "      <td>0.403496</td>\n",
       "      <td>SAGEConv</td>\n",
       "      <td>16</td>\n",
       "      <td>0.005</td>\n",
       "    </tr>\n",
       "    <tr>\n",
       "      <th>2</th>\n",
       "      <td>2.348879</td>\n",
       "      <td>1.280352</td>\n",
       "      <td>1.322590</td>\n",
       "      <td>1.318935</td>\n",
       "      <td>1.280352</td>\n",
       "      <td>1.322590</td>\n",
       "      <td>1.318935</td>\n",
       "      <td>0.176415</td>\n",
       "      <td>GATConv</td>\n",
       "      <td>16</td>\n",
       "      <td>0.010</td>\n",
       "    </tr>\n",
       "    <tr>\n",
       "      <th>3</th>\n",
       "      <td>1.894977</td>\n",
       "      <td>1.187023</td>\n",
       "      <td>1.185236</td>\n",
       "      <td>1.189817</td>\n",
       "      <td>1.187023</td>\n",
       "      <td>1.185236</td>\n",
       "      <td>1.189817</td>\n",
       "      <td>0.386870</td>\n",
       "      <td>SAGEConv</td>\n",
       "      <td>16</td>\n",
       "      <td>0.010</td>\n",
       "    </tr>\n",
       "    <tr>\n",
       "      <th>4</th>\n",
       "      <td>2.072306</td>\n",
       "      <td>1.137587</td>\n",
       "      <td>1.150139</td>\n",
       "      <td>1.127268</td>\n",
       "      <td>1.137587</td>\n",
       "      <td>1.150139</td>\n",
       "      <td>1.127268</td>\n",
       "      <td>0.189843</td>\n",
       "      <td>GATConv</td>\n",
       "      <td>16</td>\n",
       "      <td>0.050</td>\n",
       "    </tr>\n",
       "    <tr>\n",
       "      <th>5</th>\n",
       "      <td>1.756259</td>\n",
       "      <td>1.095855</td>\n",
       "      <td>1.131961</td>\n",
       "      <td>1.124050</td>\n",
       "      <td>1.095855</td>\n",
       "      <td>1.131961</td>\n",
       "      <td>1.124050</td>\n",
       "      <td>0.368111</td>\n",
       "      <td>SAGEConv</td>\n",
       "      <td>16</td>\n",
       "      <td>0.050</td>\n",
       "    </tr>\n",
       "    <tr>\n",
       "      <th>6</th>\n",
       "      <td>2.393313</td>\n",
       "      <td>1.296184</td>\n",
       "      <td>1.333969</td>\n",
       "      <td>1.334517</td>\n",
       "      <td>1.296184</td>\n",
       "      <td>1.333969</td>\n",
       "      <td>1.334517</td>\n",
       "      <td>0.251543</td>\n",
       "      <td>GATConv</td>\n",
       "      <td>32</td>\n",
       "      <td>0.005</td>\n",
       "    </tr>\n",
       "    <tr>\n",
       "      <th>7</th>\n",
       "      <td>1.952181</td>\n",
       "      <td>1.170570</td>\n",
       "      <td>1.166871</td>\n",
       "      <td>1.173838</td>\n",
       "      <td>1.170570</td>\n",
       "      <td>1.166871</td>\n",
       "      <td>1.173838</td>\n",
       "      <td>0.424624</td>\n",
       "      <td>SAGEConv</td>\n",
       "      <td>32</td>\n",
       "      <td>0.005</td>\n",
       "    </tr>\n",
       "    <tr>\n",
       "      <th>8</th>\n",
       "      <td>2.244836</td>\n",
       "      <td>1.309098</td>\n",
       "      <td>1.329747</td>\n",
       "      <td>1.291823</td>\n",
       "      <td>1.309098</td>\n",
       "      <td>1.329747</td>\n",
       "      <td>1.291823</td>\n",
       "      <td>0.241752</td>\n",
       "      <td>GATConv</td>\n",
       "      <td>32</td>\n",
       "      <td>0.010</td>\n",
       "    </tr>\n",
       "  </tbody>\n",
       "</table>\n",
       "</div>"
      ],
      "text/plain": [
       "       loss  train_rmse  val_rmse  test_rmse  train_wrmse  val_wrmse  \\\n",
       "0  2.450284    1.304201  1.348433   1.347838     1.304201   1.348433   \n",
       "1  2.199547    1.266163  1.267525   1.275587     1.266163   1.267525   \n",
       "2  2.348879    1.280352  1.322590   1.318935     1.280352   1.322590   \n",
       "3  1.894977    1.187023  1.185236   1.189817     1.187023   1.185236   \n",
       "4  2.072306    1.137587  1.150139   1.127268     1.137587   1.150139   \n",
       "5  1.756259    1.095855  1.131961   1.124050     1.095855   1.131961   \n",
       "6  2.393313    1.296184  1.333969   1.334517     1.296184   1.333969   \n",
       "7  1.952181    1.170570  1.166871   1.173838     1.170570   1.166871   \n",
       "8  2.244836    1.309098  1.329747   1.291823     1.309098   1.329747   \n",
       "\n",
       "   test_wrmse      time     model  hc     lr  \n",
       "0    1.347838  0.185396   GATConv  16  0.005  \n",
       "1    1.275587  0.403496  SAGEConv  16  0.005  \n",
       "2    1.318935  0.176415   GATConv  16  0.010  \n",
       "3    1.189817  0.386870  SAGEConv  16  0.010  \n",
       "4    1.127268  0.189843   GATConv  16  0.050  \n",
       "5    1.124050  0.368111  SAGEConv  16  0.050  \n",
       "6    1.334517  0.251543   GATConv  32  0.005  \n",
       "7    1.173838  0.424624  SAGEConv  32  0.005  \n",
       "8    1.291823  0.241752   GATConv  32  0.010  "
      ]
     },
     "metadata": {},
     "output_type": "display_data"
    },
    {
     "name": "stdout",
     "output_type": "stream",
     "text": [
      "Sc: 10/18\n",
      "{'hidden_channels': 32, 'learning_rate': 0.01, 'conv': 'SAGEConv'}\n",
      "output GNNEncoder(\n",
      "  (conv1): SAGEConv((-1, -1), 32, aggr=mean)\n",
      "  (conv2): SAGEConv((-1, -1), 32, aggr=mean)\n",
      ")\n",
      "Early stopping\n"
     ]
    },
    {
     "data": {
      "text/html": [
       "<div>\n",
       "<style scoped>\n",
       "    .dataframe tbody tr th:only-of-type {\n",
       "        vertical-align: middle;\n",
       "    }\n",
       "\n",
       "    .dataframe tbody tr th {\n",
       "        vertical-align: top;\n",
       "    }\n",
       "\n",
       "    .dataframe thead th {\n",
       "        text-align: right;\n",
       "    }\n",
       "</style>\n",
       "<table border=\"1\" class=\"dataframe\">\n",
       "  <thead>\n",
       "    <tr style=\"text-align: right;\">\n",
       "      <th></th>\n",
       "      <th>loss</th>\n",
       "      <th>train_rmse</th>\n",
       "      <th>val_rmse</th>\n",
       "      <th>test_rmse</th>\n",
       "      <th>train_wrmse</th>\n",
       "      <th>val_wrmse</th>\n",
       "      <th>test_wrmse</th>\n",
       "      <th>time</th>\n",
       "      <th>model</th>\n",
       "      <th>hc</th>\n",
       "      <th>lr</th>\n",
       "    </tr>\n",
       "  </thead>\n",
       "  <tbody>\n",
       "    <tr>\n",
       "      <th>0</th>\n",
       "      <td>2.450284</td>\n",
       "      <td>1.304201</td>\n",
       "      <td>1.348433</td>\n",
       "      <td>1.347838</td>\n",
       "      <td>1.304201</td>\n",
       "      <td>1.348433</td>\n",
       "      <td>1.347838</td>\n",
       "      <td>0.185396</td>\n",
       "      <td>GATConv</td>\n",
       "      <td>16</td>\n",
       "      <td>0.005</td>\n",
       "    </tr>\n",
       "    <tr>\n",
       "      <th>1</th>\n",
       "      <td>2.199547</td>\n",
       "      <td>1.266163</td>\n",
       "      <td>1.267525</td>\n",
       "      <td>1.275587</td>\n",
       "      <td>1.266163</td>\n",
       "      <td>1.267525</td>\n",
       "      <td>1.275587</td>\n",
       "      <td>0.403496</td>\n",
       "      <td>SAGEConv</td>\n",
       "      <td>16</td>\n",
       "      <td>0.005</td>\n",
       "    </tr>\n",
       "    <tr>\n",
       "      <th>2</th>\n",
       "      <td>2.348879</td>\n",
       "      <td>1.280352</td>\n",
       "      <td>1.322590</td>\n",
       "      <td>1.318935</td>\n",
       "      <td>1.280352</td>\n",
       "      <td>1.322590</td>\n",
       "      <td>1.318935</td>\n",
       "      <td>0.176415</td>\n",
       "      <td>GATConv</td>\n",
       "      <td>16</td>\n",
       "      <td>0.010</td>\n",
       "    </tr>\n",
       "    <tr>\n",
       "      <th>3</th>\n",
       "      <td>1.894977</td>\n",
       "      <td>1.187023</td>\n",
       "      <td>1.185236</td>\n",
       "      <td>1.189817</td>\n",
       "      <td>1.187023</td>\n",
       "      <td>1.185236</td>\n",
       "      <td>1.189817</td>\n",
       "      <td>0.386870</td>\n",
       "      <td>SAGEConv</td>\n",
       "      <td>16</td>\n",
       "      <td>0.010</td>\n",
       "    </tr>\n",
       "    <tr>\n",
       "      <th>4</th>\n",
       "      <td>2.072306</td>\n",
       "      <td>1.137587</td>\n",
       "      <td>1.150139</td>\n",
       "      <td>1.127268</td>\n",
       "      <td>1.137587</td>\n",
       "      <td>1.150139</td>\n",
       "      <td>1.127268</td>\n",
       "      <td>0.189843</td>\n",
       "      <td>GATConv</td>\n",
       "      <td>16</td>\n",
       "      <td>0.050</td>\n",
       "    </tr>\n",
       "    <tr>\n",
       "      <th>5</th>\n",
       "      <td>1.756259</td>\n",
       "      <td>1.095855</td>\n",
       "      <td>1.131961</td>\n",
       "      <td>1.124050</td>\n",
       "      <td>1.095855</td>\n",
       "      <td>1.131961</td>\n",
       "      <td>1.124050</td>\n",
       "      <td>0.368111</td>\n",
       "      <td>SAGEConv</td>\n",
       "      <td>16</td>\n",
       "      <td>0.050</td>\n",
       "    </tr>\n",
       "    <tr>\n",
       "      <th>6</th>\n",
       "      <td>2.393313</td>\n",
       "      <td>1.296184</td>\n",
       "      <td>1.333969</td>\n",
       "      <td>1.334517</td>\n",
       "      <td>1.296184</td>\n",
       "      <td>1.333969</td>\n",
       "      <td>1.334517</td>\n",
       "      <td>0.251543</td>\n",
       "      <td>GATConv</td>\n",
       "      <td>32</td>\n",
       "      <td>0.005</td>\n",
       "    </tr>\n",
       "    <tr>\n",
       "      <th>7</th>\n",
       "      <td>1.952181</td>\n",
       "      <td>1.170570</td>\n",
       "      <td>1.166871</td>\n",
       "      <td>1.173838</td>\n",
       "      <td>1.170570</td>\n",
       "      <td>1.166871</td>\n",
       "      <td>1.173838</td>\n",
       "      <td>0.424624</td>\n",
       "      <td>SAGEConv</td>\n",
       "      <td>32</td>\n",
       "      <td>0.005</td>\n",
       "    </tr>\n",
       "    <tr>\n",
       "      <th>8</th>\n",
       "      <td>2.244836</td>\n",
       "      <td>1.309098</td>\n",
       "      <td>1.329747</td>\n",
       "      <td>1.291823</td>\n",
       "      <td>1.309098</td>\n",
       "      <td>1.329747</td>\n",
       "      <td>1.291823</td>\n",
       "      <td>0.241752</td>\n",
       "      <td>GATConv</td>\n",
       "      <td>32</td>\n",
       "      <td>0.010</td>\n",
       "    </tr>\n",
       "    <tr>\n",
       "      <th>9</th>\n",
       "      <td>1.907324</td>\n",
       "      <td>1.194591</td>\n",
       "      <td>1.192610</td>\n",
       "      <td>1.193682</td>\n",
       "      <td>1.194591</td>\n",
       "      <td>1.192610</td>\n",
       "      <td>1.193682</td>\n",
       "      <td>0.463669</td>\n",
       "      <td>SAGEConv</td>\n",
       "      <td>32</td>\n",
       "      <td>0.010</td>\n",
       "    </tr>\n",
       "  </tbody>\n",
       "</table>\n",
       "</div>"
      ],
      "text/plain": [
       "       loss  train_rmse  val_rmse  test_rmse  train_wrmse  val_wrmse  \\\n",
       "0  2.450284    1.304201  1.348433   1.347838     1.304201   1.348433   \n",
       "1  2.199547    1.266163  1.267525   1.275587     1.266163   1.267525   \n",
       "2  2.348879    1.280352  1.322590   1.318935     1.280352   1.322590   \n",
       "3  1.894977    1.187023  1.185236   1.189817     1.187023   1.185236   \n",
       "4  2.072306    1.137587  1.150139   1.127268     1.137587   1.150139   \n",
       "5  1.756259    1.095855  1.131961   1.124050     1.095855   1.131961   \n",
       "6  2.393313    1.296184  1.333969   1.334517     1.296184   1.333969   \n",
       "7  1.952181    1.170570  1.166871   1.173838     1.170570   1.166871   \n",
       "8  2.244836    1.309098  1.329747   1.291823     1.309098   1.329747   \n",
       "9  1.907324    1.194591  1.192610   1.193682     1.194591   1.192610   \n",
       "\n",
       "   test_wrmse      time     model  hc     lr  \n",
       "0    1.347838  0.185396   GATConv  16  0.005  \n",
       "1    1.275587  0.403496  SAGEConv  16  0.005  \n",
       "2    1.318935  0.176415   GATConv  16  0.010  \n",
       "3    1.189817  0.386870  SAGEConv  16  0.010  \n",
       "4    1.127268  0.189843   GATConv  16  0.050  \n",
       "5    1.124050  0.368111  SAGEConv  16  0.050  \n",
       "6    1.334517  0.251543   GATConv  32  0.005  \n",
       "7    1.173838  0.424624  SAGEConv  32  0.005  \n",
       "8    1.291823  0.241752   GATConv  32  0.010  \n",
       "9    1.193682  0.463669  SAGEConv  32  0.010  "
      ]
     },
     "metadata": {},
     "output_type": "display_data"
    },
    {
     "name": "stdout",
     "output_type": "stream",
     "text": [
      "Sc: 11/18\n",
      "{'hidden_channels': 32, 'learning_rate': 0.05, 'conv': 'GATConv'}\n",
      "success1!\n",
      "success2!\n",
      "output GNNEncoder(\n",
      "  (conv1): GATConv((-1, -1), 32, heads=1)\n",
      "  (conv2): GATConv((-1, -1), 32, heads=1)\n",
      ")\n",
      "Early stopping\n"
     ]
    },
    {
     "data": {
      "text/html": [
       "<div>\n",
       "<style scoped>\n",
       "    .dataframe tbody tr th:only-of-type {\n",
       "        vertical-align: middle;\n",
       "    }\n",
       "\n",
       "    .dataframe tbody tr th {\n",
       "        vertical-align: top;\n",
       "    }\n",
       "\n",
       "    .dataframe thead th {\n",
       "        text-align: right;\n",
       "    }\n",
       "</style>\n",
       "<table border=\"1\" class=\"dataframe\">\n",
       "  <thead>\n",
       "    <tr style=\"text-align: right;\">\n",
       "      <th></th>\n",
       "      <th>loss</th>\n",
       "      <th>train_rmse</th>\n",
       "      <th>val_rmse</th>\n",
       "      <th>test_rmse</th>\n",
       "      <th>train_wrmse</th>\n",
       "      <th>val_wrmse</th>\n",
       "      <th>test_wrmse</th>\n",
       "      <th>time</th>\n",
       "      <th>model</th>\n",
       "      <th>hc</th>\n",
       "      <th>lr</th>\n",
       "    </tr>\n",
       "  </thead>\n",
       "  <tbody>\n",
       "    <tr>\n",
       "      <th>0</th>\n",
       "      <td>2.450284</td>\n",
       "      <td>1.304201</td>\n",
       "      <td>1.348433</td>\n",
       "      <td>1.347838</td>\n",
       "      <td>1.304201</td>\n",
       "      <td>1.348433</td>\n",
       "      <td>1.347838</td>\n",
       "      <td>0.185396</td>\n",
       "      <td>GATConv</td>\n",
       "      <td>16</td>\n",
       "      <td>0.005</td>\n",
       "    </tr>\n",
       "    <tr>\n",
       "      <th>1</th>\n",
       "      <td>2.199547</td>\n",
       "      <td>1.266163</td>\n",
       "      <td>1.267525</td>\n",
       "      <td>1.275587</td>\n",
       "      <td>1.266163</td>\n",
       "      <td>1.267525</td>\n",
       "      <td>1.275587</td>\n",
       "      <td>0.403496</td>\n",
       "      <td>SAGEConv</td>\n",
       "      <td>16</td>\n",
       "      <td>0.005</td>\n",
       "    </tr>\n",
       "    <tr>\n",
       "      <th>2</th>\n",
       "      <td>2.348879</td>\n",
       "      <td>1.280352</td>\n",
       "      <td>1.322590</td>\n",
       "      <td>1.318935</td>\n",
       "      <td>1.280352</td>\n",
       "      <td>1.322590</td>\n",
       "      <td>1.318935</td>\n",
       "      <td>0.176415</td>\n",
       "      <td>GATConv</td>\n",
       "      <td>16</td>\n",
       "      <td>0.010</td>\n",
       "    </tr>\n",
       "    <tr>\n",
       "      <th>3</th>\n",
       "      <td>1.894977</td>\n",
       "      <td>1.187023</td>\n",
       "      <td>1.185236</td>\n",
       "      <td>1.189817</td>\n",
       "      <td>1.187023</td>\n",
       "      <td>1.185236</td>\n",
       "      <td>1.189817</td>\n",
       "      <td>0.386870</td>\n",
       "      <td>SAGEConv</td>\n",
       "      <td>16</td>\n",
       "      <td>0.010</td>\n",
       "    </tr>\n",
       "    <tr>\n",
       "      <th>4</th>\n",
       "      <td>2.072306</td>\n",
       "      <td>1.137587</td>\n",
       "      <td>1.150139</td>\n",
       "      <td>1.127268</td>\n",
       "      <td>1.137587</td>\n",
       "      <td>1.150139</td>\n",
       "      <td>1.127268</td>\n",
       "      <td>0.189843</td>\n",
       "      <td>GATConv</td>\n",
       "      <td>16</td>\n",
       "      <td>0.050</td>\n",
       "    </tr>\n",
       "    <tr>\n",
       "      <th>5</th>\n",
       "      <td>1.756259</td>\n",
       "      <td>1.095855</td>\n",
       "      <td>1.131961</td>\n",
       "      <td>1.124050</td>\n",
       "      <td>1.095855</td>\n",
       "      <td>1.131961</td>\n",
       "      <td>1.124050</td>\n",
       "      <td>0.368111</td>\n",
       "      <td>SAGEConv</td>\n",
       "      <td>16</td>\n",
       "      <td>0.050</td>\n",
       "    </tr>\n",
       "    <tr>\n",
       "      <th>6</th>\n",
       "      <td>2.393313</td>\n",
       "      <td>1.296184</td>\n",
       "      <td>1.333969</td>\n",
       "      <td>1.334517</td>\n",
       "      <td>1.296184</td>\n",
       "      <td>1.333969</td>\n",
       "      <td>1.334517</td>\n",
       "      <td>0.251543</td>\n",
       "      <td>GATConv</td>\n",
       "      <td>32</td>\n",
       "      <td>0.005</td>\n",
       "    </tr>\n",
       "    <tr>\n",
       "      <th>7</th>\n",
       "      <td>1.952181</td>\n",
       "      <td>1.170570</td>\n",
       "      <td>1.166871</td>\n",
       "      <td>1.173838</td>\n",
       "      <td>1.170570</td>\n",
       "      <td>1.166871</td>\n",
       "      <td>1.173838</td>\n",
       "      <td>0.424624</td>\n",
       "      <td>SAGEConv</td>\n",
       "      <td>32</td>\n",
       "      <td>0.005</td>\n",
       "    </tr>\n",
       "    <tr>\n",
       "      <th>8</th>\n",
       "      <td>2.244836</td>\n",
       "      <td>1.309098</td>\n",
       "      <td>1.329747</td>\n",
       "      <td>1.291823</td>\n",
       "      <td>1.309098</td>\n",
       "      <td>1.329747</td>\n",
       "      <td>1.291823</td>\n",
       "      <td>0.241752</td>\n",
       "      <td>GATConv</td>\n",
       "      <td>32</td>\n",
       "      <td>0.010</td>\n",
       "    </tr>\n",
       "    <tr>\n",
       "      <th>9</th>\n",
       "      <td>1.907324</td>\n",
       "      <td>1.194591</td>\n",
       "      <td>1.192610</td>\n",
       "      <td>1.193682</td>\n",
       "      <td>1.194591</td>\n",
       "      <td>1.192610</td>\n",
       "      <td>1.193682</td>\n",
       "      <td>0.463669</td>\n",
       "      <td>SAGEConv</td>\n",
       "      <td>32</td>\n",
       "      <td>0.010</td>\n",
       "    </tr>\n",
       "    <tr>\n",
       "      <th>10</th>\n",
       "      <td>2.143635</td>\n",
       "      <td>1.382311</td>\n",
       "      <td>1.385006</td>\n",
       "      <td>1.417258</td>\n",
       "      <td>1.382311</td>\n",
       "      <td>1.385006</td>\n",
       "      <td>1.417258</td>\n",
       "      <td>0.239894</td>\n",
       "      <td>GATConv</td>\n",
       "      <td>32</td>\n",
       "      <td>0.050</td>\n",
       "    </tr>\n",
       "  </tbody>\n",
       "</table>\n",
       "</div>"
      ],
      "text/plain": [
       "        loss  train_rmse  val_rmse  test_rmse  train_wrmse  val_wrmse  \\\n",
       "0   2.450284    1.304201  1.348433   1.347838     1.304201   1.348433   \n",
       "1   2.199547    1.266163  1.267525   1.275587     1.266163   1.267525   \n",
       "2   2.348879    1.280352  1.322590   1.318935     1.280352   1.322590   \n",
       "3   1.894977    1.187023  1.185236   1.189817     1.187023   1.185236   \n",
       "4   2.072306    1.137587  1.150139   1.127268     1.137587   1.150139   \n",
       "5   1.756259    1.095855  1.131961   1.124050     1.095855   1.131961   \n",
       "6   2.393313    1.296184  1.333969   1.334517     1.296184   1.333969   \n",
       "7   1.952181    1.170570  1.166871   1.173838     1.170570   1.166871   \n",
       "8   2.244836    1.309098  1.329747   1.291823     1.309098   1.329747   \n",
       "9   1.907324    1.194591  1.192610   1.193682     1.194591   1.192610   \n",
       "10  2.143635    1.382311  1.385006   1.417258     1.382311   1.385006   \n",
       "\n",
       "    test_wrmse      time     model  hc     lr  \n",
       "0     1.347838  0.185396   GATConv  16  0.005  \n",
       "1     1.275587  0.403496  SAGEConv  16  0.005  \n",
       "2     1.318935  0.176415   GATConv  16  0.010  \n",
       "3     1.189817  0.386870  SAGEConv  16  0.010  \n",
       "4     1.127268  0.189843   GATConv  16  0.050  \n",
       "5     1.124050  0.368111  SAGEConv  16  0.050  \n",
       "6     1.334517  0.251543   GATConv  32  0.005  \n",
       "7     1.173838  0.424624  SAGEConv  32  0.005  \n",
       "8     1.291823  0.241752   GATConv  32  0.010  \n",
       "9     1.193682  0.463669  SAGEConv  32  0.010  \n",
       "10    1.417258  0.239894   GATConv  32  0.050  "
      ]
     },
     "metadata": {},
     "output_type": "display_data"
    },
    {
     "name": "stdout",
     "output_type": "stream",
     "text": [
      "Sc: 12/18\n",
      "{'hidden_channels': 32, 'learning_rate': 0.05, 'conv': 'SAGEConv'}\n",
      "output GNNEncoder(\n",
      "  (conv1): SAGEConv((-1, -1), 32, aggr=mean)\n",
      "  (conv2): SAGEConv((-1, -1), 32, aggr=mean)\n",
      ")\n",
      "Early stopping\n"
     ]
    },
    {
     "data": {
      "text/html": [
       "<div>\n",
       "<style scoped>\n",
       "    .dataframe tbody tr th:only-of-type {\n",
       "        vertical-align: middle;\n",
       "    }\n",
       "\n",
       "    .dataframe tbody tr th {\n",
       "        vertical-align: top;\n",
       "    }\n",
       "\n",
       "    .dataframe thead th {\n",
       "        text-align: right;\n",
       "    }\n",
       "</style>\n",
       "<table border=\"1\" class=\"dataframe\">\n",
       "  <thead>\n",
       "    <tr style=\"text-align: right;\">\n",
       "      <th></th>\n",
       "      <th>loss</th>\n",
       "      <th>train_rmse</th>\n",
       "      <th>val_rmse</th>\n",
       "      <th>test_rmse</th>\n",
       "      <th>train_wrmse</th>\n",
       "      <th>val_wrmse</th>\n",
       "      <th>test_wrmse</th>\n",
       "      <th>time</th>\n",
       "      <th>model</th>\n",
       "      <th>hc</th>\n",
       "      <th>lr</th>\n",
       "    </tr>\n",
       "  </thead>\n",
       "  <tbody>\n",
       "    <tr>\n",
       "      <th>0</th>\n",
       "      <td>2.450284</td>\n",
       "      <td>1.304201</td>\n",
       "      <td>1.348433</td>\n",
       "      <td>1.347838</td>\n",
       "      <td>1.304201</td>\n",
       "      <td>1.348433</td>\n",
       "      <td>1.347838</td>\n",
       "      <td>0.185396</td>\n",
       "      <td>GATConv</td>\n",
       "      <td>16</td>\n",
       "      <td>0.005</td>\n",
       "    </tr>\n",
       "    <tr>\n",
       "      <th>1</th>\n",
       "      <td>2.199547</td>\n",
       "      <td>1.266163</td>\n",
       "      <td>1.267525</td>\n",
       "      <td>1.275587</td>\n",
       "      <td>1.266163</td>\n",
       "      <td>1.267525</td>\n",
       "      <td>1.275587</td>\n",
       "      <td>0.403496</td>\n",
       "      <td>SAGEConv</td>\n",
       "      <td>16</td>\n",
       "      <td>0.005</td>\n",
       "    </tr>\n",
       "    <tr>\n",
       "      <th>2</th>\n",
       "      <td>2.348879</td>\n",
       "      <td>1.280352</td>\n",
       "      <td>1.322590</td>\n",
       "      <td>1.318935</td>\n",
       "      <td>1.280352</td>\n",
       "      <td>1.322590</td>\n",
       "      <td>1.318935</td>\n",
       "      <td>0.176415</td>\n",
       "      <td>GATConv</td>\n",
       "      <td>16</td>\n",
       "      <td>0.010</td>\n",
       "    </tr>\n",
       "    <tr>\n",
       "      <th>3</th>\n",
       "      <td>1.894977</td>\n",
       "      <td>1.187023</td>\n",
       "      <td>1.185236</td>\n",
       "      <td>1.189817</td>\n",
       "      <td>1.187023</td>\n",
       "      <td>1.185236</td>\n",
       "      <td>1.189817</td>\n",
       "      <td>0.386870</td>\n",
       "      <td>SAGEConv</td>\n",
       "      <td>16</td>\n",
       "      <td>0.010</td>\n",
       "    </tr>\n",
       "    <tr>\n",
       "      <th>4</th>\n",
       "      <td>2.072306</td>\n",
       "      <td>1.137587</td>\n",
       "      <td>1.150139</td>\n",
       "      <td>1.127268</td>\n",
       "      <td>1.137587</td>\n",
       "      <td>1.150139</td>\n",
       "      <td>1.127268</td>\n",
       "      <td>0.189843</td>\n",
       "      <td>GATConv</td>\n",
       "      <td>16</td>\n",
       "      <td>0.050</td>\n",
       "    </tr>\n",
       "    <tr>\n",
       "      <th>5</th>\n",
       "      <td>1.756259</td>\n",
       "      <td>1.095855</td>\n",
       "      <td>1.131961</td>\n",
       "      <td>1.124050</td>\n",
       "      <td>1.095855</td>\n",
       "      <td>1.131961</td>\n",
       "      <td>1.124050</td>\n",
       "      <td>0.368111</td>\n",
       "      <td>SAGEConv</td>\n",
       "      <td>16</td>\n",
       "      <td>0.050</td>\n",
       "    </tr>\n",
       "    <tr>\n",
       "      <th>6</th>\n",
       "      <td>2.393313</td>\n",
       "      <td>1.296184</td>\n",
       "      <td>1.333969</td>\n",
       "      <td>1.334517</td>\n",
       "      <td>1.296184</td>\n",
       "      <td>1.333969</td>\n",
       "      <td>1.334517</td>\n",
       "      <td>0.251543</td>\n",
       "      <td>GATConv</td>\n",
       "      <td>32</td>\n",
       "      <td>0.005</td>\n",
       "    </tr>\n",
       "    <tr>\n",
       "      <th>7</th>\n",
       "      <td>1.952181</td>\n",
       "      <td>1.170570</td>\n",
       "      <td>1.166871</td>\n",
       "      <td>1.173838</td>\n",
       "      <td>1.170570</td>\n",
       "      <td>1.166871</td>\n",
       "      <td>1.173838</td>\n",
       "      <td>0.424624</td>\n",
       "      <td>SAGEConv</td>\n",
       "      <td>32</td>\n",
       "      <td>0.005</td>\n",
       "    </tr>\n",
       "    <tr>\n",
       "      <th>8</th>\n",
       "      <td>2.244836</td>\n",
       "      <td>1.309098</td>\n",
       "      <td>1.329747</td>\n",
       "      <td>1.291823</td>\n",
       "      <td>1.309098</td>\n",
       "      <td>1.329747</td>\n",
       "      <td>1.291823</td>\n",
       "      <td>0.241752</td>\n",
       "      <td>GATConv</td>\n",
       "      <td>32</td>\n",
       "      <td>0.010</td>\n",
       "    </tr>\n",
       "    <tr>\n",
       "      <th>9</th>\n",
       "      <td>1.907324</td>\n",
       "      <td>1.194591</td>\n",
       "      <td>1.192610</td>\n",
       "      <td>1.193682</td>\n",
       "      <td>1.194591</td>\n",
       "      <td>1.192610</td>\n",
       "      <td>1.193682</td>\n",
       "      <td>0.463669</td>\n",
       "      <td>SAGEConv</td>\n",
       "      <td>32</td>\n",
       "      <td>0.010</td>\n",
       "    </tr>\n",
       "    <tr>\n",
       "      <th>10</th>\n",
       "      <td>2.143635</td>\n",
       "      <td>1.382311</td>\n",
       "      <td>1.385006</td>\n",
       "      <td>1.417258</td>\n",
       "      <td>1.382311</td>\n",
       "      <td>1.385006</td>\n",
       "      <td>1.417258</td>\n",
       "      <td>0.239894</td>\n",
       "      <td>GATConv</td>\n",
       "      <td>32</td>\n",
       "      <td>0.050</td>\n",
       "    </tr>\n",
       "    <tr>\n",
       "      <th>11</th>\n",
       "      <td>1.967347</td>\n",
       "      <td>1.185745</td>\n",
       "      <td>1.187492</td>\n",
       "      <td>1.191820</td>\n",
       "      <td>1.185745</td>\n",
       "      <td>1.187492</td>\n",
       "      <td>1.191820</td>\n",
       "      <td>0.481373</td>\n",
       "      <td>SAGEConv</td>\n",
       "      <td>32</td>\n",
       "      <td>0.050</td>\n",
       "    </tr>\n",
       "  </tbody>\n",
       "</table>\n",
       "</div>"
      ],
      "text/plain": [
       "        loss  train_rmse  val_rmse  test_rmse  train_wrmse  val_wrmse  \\\n",
       "0   2.450284    1.304201  1.348433   1.347838     1.304201   1.348433   \n",
       "1   2.199547    1.266163  1.267525   1.275587     1.266163   1.267525   \n",
       "2   2.348879    1.280352  1.322590   1.318935     1.280352   1.322590   \n",
       "3   1.894977    1.187023  1.185236   1.189817     1.187023   1.185236   \n",
       "4   2.072306    1.137587  1.150139   1.127268     1.137587   1.150139   \n",
       "5   1.756259    1.095855  1.131961   1.124050     1.095855   1.131961   \n",
       "6   2.393313    1.296184  1.333969   1.334517     1.296184   1.333969   \n",
       "7   1.952181    1.170570  1.166871   1.173838     1.170570   1.166871   \n",
       "8   2.244836    1.309098  1.329747   1.291823     1.309098   1.329747   \n",
       "9   1.907324    1.194591  1.192610   1.193682     1.194591   1.192610   \n",
       "10  2.143635    1.382311  1.385006   1.417258     1.382311   1.385006   \n",
       "11  1.967347    1.185745  1.187492   1.191820     1.185745   1.187492   \n",
       "\n",
       "    test_wrmse      time     model  hc     lr  \n",
       "0     1.347838  0.185396   GATConv  16  0.005  \n",
       "1     1.275587  0.403496  SAGEConv  16  0.005  \n",
       "2     1.318935  0.176415   GATConv  16  0.010  \n",
       "3     1.189817  0.386870  SAGEConv  16  0.010  \n",
       "4     1.127268  0.189843   GATConv  16  0.050  \n",
       "5     1.124050  0.368111  SAGEConv  16  0.050  \n",
       "6     1.334517  0.251543   GATConv  32  0.005  \n",
       "7     1.173838  0.424624  SAGEConv  32  0.005  \n",
       "8     1.291823  0.241752   GATConv  32  0.010  \n",
       "9     1.193682  0.463669  SAGEConv  32  0.010  \n",
       "10    1.417258  0.239894   GATConv  32  0.050  \n",
       "11    1.191820  0.481373  SAGEConv  32  0.050  "
      ]
     },
     "metadata": {},
     "output_type": "display_data"
    },
    {
     "name": "stdout",
     "output_type": "stream",
     "text": [
      "Sc: 13/18\n",
      "{'hidden_channels': 64, 'learning_rate': 0.005, 'conv': 'GATConv'}\n",
      "success1!\n",
      "success2!\n",
      "output GNNEncoder(\n",
      "  (conv1): GATConv((-1, -1), 64, heads=1)\n",
      "  (conv2): GATConv((-1, -1), 64, heads=1)\n",
      ")\n",
      "Early stopping\n"
     ]
    },
    {
     "data": {
      "text/html": [
       "<div>\n",
       "<style scoped>\n",
       "    .dataframe tbody tr th:only-of-type {\n",
       "        vertical-align: middle;\n",
       "    }\n",
       "\n",
       "    .dataframe tbody tr th {\n",
       "        vertical-align: top;\n",
       "    }\n",
       "\n",
       "    .dataframe thead th {\n",
       "        text-align: right;\n",
       "    }\n",
       "</style>\n",
       "<table border=\"1\" class=\"dataframe\">\n",
       "  <thead>\n",
       "    <tr style=\"text-align: right;\">\n",
       "      <th></th>\n",
       "      <th>loss</th>\n",
       "      <th>train_rmse</th>\n",
       "      <th>val_rmse</th>\n",
       "      <th>test_rmse</th>\n",
       "      <th>train_wrmse</th>\n",
       "      <th>val_wrmse</th>\n",
       "      <th>test_wrmse</th>\n",
       "      <th>time</th>\n",
       "      <th>model</th>\n",
       "      <th>hc</th>\n",
       "      <th>lr</th>\n",
       "    </tr>\n",
       "  </thead>\n",
       "  <tbody>\n",
       "    <tr>\n",
       "      <th>0</th>\n",
       "      <td>2.450284</td>\n",
       "      <td>1.304201</td>\n",
       "      <td>1.348433</td>\n",
       "      <td>1.347838</td>\n",
       "      <td>1.304201</td>\n",
       "      <td>1.348433</td>\n",
       "      <td>1.347838</td>\n",
       "      <td>0.185396</td>\n",
       "      <td>GATConv</td>\n",
       "      <td>16</td>\n",
       "      <td>0.005</td>\n",
       "    </tr>\n",
       "    <tr>\n",
       "      <th>1</th>\n",
       "      <td>2.199547</td>\n",
       "      <td>1.266163</td>\n",
       "      <td>1.267525</td>\n",
       "      <td>1.275587</td>\n",
       "      <td>1.266163</td>\n",
       "      <td>1.267525</td>\n",
       "      <td>1.275587</td>\n",
       "      <td>0.403496</td>\n",
       "      <td>SAGEConv</td>\n",
       "      <td>16</td>\n",
       "      <td>0.005</td>\n",
       "    </tr>\n",
       "    <tr>\n",
       "      <th>2</th>\n",
       "      <td>2.348879</td>\n",
       "      <td>1.280352</td>\n",
       "      <td>1.322590</td>\n",
       "      <td>1.318935</td>\n",
       "      <td>1.280352</td>\n",
       "      <td>1.322590</td>\n",
       "      <td>1.318935</td>\n",
       "      <td>0.176415</td>\n",
       "      <td>GATConv</td>\n",
       "      <td>16</td>\n",
       "      <td>0.010</td>\n",
       "    </tr>\n",
       "    <tr>\n",
       "      <th>3</th>\n",
       "      <td>1.894977</td>\n",
       "      <td>1.187023</td>\n",
       "      <td>1.185236</td>\n",
       "      <td>1.189817</td>\n",
       "      <td>1.187023</td>\n",
       "      <td>1.185236</td>\n",
       "      <td>1.189817</td>\n",
       "      <td>0.386870</td>\n",
       "      <td>SAGEConv</td>\n",
       "      <td>16</td>\n",
       "      <td>0.010</td>\n",
       "    </tr>\n",
       "    <tr>\n",
       "      <th>4</th>\n",
       "      <td>2.072306</td>\n",
       "      <td>1.137587</td>\n",
       "      <td>1.150139</td>\n",
       "      <td>1.127268</td>\n",
       "      <td>1.137587</td>\n",
       "      <td>1.150139</td>\n",
       "      <td>1.127268</td>\n",
       "      <td>0.189843</td>\n",
       "      <td>GATConv</td>\n",
       "      <td>16</td>\n",
       "      <td>0.050</td>\n",
       "    </tr>\n",
       "    <tr>\n",
       "      <th>5</th>\n",
       "      <td>1.756259</td>\n",
       "      <td>1.095855</td>\n",
       "      <td>1.131961</td>\n",
       "      <td>1.124050</td>\n",
       "      <td>1.095855</td>\n",
       "      <td>1.131961</td>\n",
       "      <td>1.124050</td>\n",
       "      <td>0.368111</td>\n",
       "      <td>SAGEConv</td>\n",
       "      <td>16</td>\n",
       "      <td>0.050</td>\n",
       "    </tr>\n",
       "    <tr>\n",
       "      <th>6</th>\n",
       "      <td>2.393313</td>\n",
       "      <td>1.296184</td>\n",
       "      <td>1.333969</td>\n",
       "      <td>1.334517</td>\n",
       "      <td>1.296184</td>\n",
       "      <td>1.333969</td>\n",
       "      <td>1.334517</td>\n",
       "      <td>0.251543</td>\n",
       "      <td>GATConv</td>\n",
       "      <td>32</td>\n",
       "      <td>0.005</td>\n",
       "    </tr>\n",
       "    <tr>\n",
       "      <th>7</th>\n",
       "      <td>1.952181</td>\n",
       "      <td>1.170570</td>\n",
       "      <td>1.166871</td>\n",
       "      <td>1.173838</td>\n",
       "      <td>1.170570</td>\n",
       "      <td>1.166871</td>\n",
       "      <td>1.173838</td>\n",
       "      <td>0.424624</td>\n",
       "      <td>SAGEConv</td>\n",
       "      <td>32</td>\n",
       "      <td>0.005</td>\n",
       "    </tr>\n",
       "    <tr>\n",
       "      <th>8</th>\n",
       "      <td>2.244836</td>\n",
       "      <td>1.309098</td>\n",
       "      <td>1.329747</td>\n",
       "      <td>1.291823</td>\n",
       "      <td>1.309098</td>\n",
       "      <td>1.329747</td>\n",
       "      <td>1.291823</td>\n",
       "      <td>0.241752</td>\n",
       "      <td>GATConv</td>\n",
       "      <td>32</td>\n",
       "      <td>0.010</td>\n",
       "    </tr>\n",
       "    <tr>\n",
       "      <th>9</th>\n",
       "      <td>1.907324</td>\n",
       "      <td>1.194591</td>\n",
       "      <td>1.192610</td>\n",
       "      <td>1.193682</td>\n",
       "      <td>1.194591</td>\n",
       "      <td>1.192610</td>\n",
       "      <td>1.193682</td>\n",
       "      <td>0.463669</td>\n",
       "      <td>SAGEConv</td>\n",
       "      <td>32</td>\n",
       "      <td>0.010</td>\n",
       "    </tr>\n",
       "    <tr>\n",
       "      <th>10</th>\n",
       "      <td>2.143635</td>\n",
       "      <td>1.382311</td>\n",
       "      <td>1.385006</td>\n",
       "      <td>1.417258</td>\n",
       "      <td>1.382311</td>\n",
       "      <td>1.385006</td>\n",
       "      <td>1.417258</td>\n",
       "      <td>0.239894</td>\n",
       "      <td>GATConv</td>\n",
       "      <td>32</td>\n",
       "      <td>0.050</td>\n",
       "    </tr>\n",
       "    <tr>\n",
       "      <th>11</th>\n",
       "      <td>1.967347</td>\n",
       "      <td>1.185745</td>\n",
       "      <td>1.187492</td>\n",
       "      <td>1.191820</td>\n",
       "      <td>1.185745</td>\n",
       "      <td>1.187492</td>\n",
       "      <td>1.191820</td>\n",
       "      <td>0.481373</td>\n",
       "      <td>SAGEConv</td>\n",
       "      <td>32</td>\n",
       "      <td>0.050</td>\n",
       "    </tr>\n",
       "    <tr>\n",
       "      <th>12</th>\n",
       "      <td>2.347088</td>\n",
       "      <td>1.287252</td>\n",
       "      <td>1.319679</td>\n",
       "      <td>1.326226</td>\n",
       "      <td>1.287252</td>\n",
       "      <td>1.319679</td>\n",
       "      <td>1.326226</td>\n",
       "      <td>0.412187</td>\n",
       "      <td>GATConv</td>\n",
       "      <td>64</td>\n",
       "      <td>0.005</td>\n",
       "    </tr>\n",
       "  </tbody>\n",
       "</table>\n",
       "</div>"
      ],
      "text/plain": [
       "        loss  train_rmse  val_rmse  test_rmse  train_wrmse  val_wrmse  \\\n",
       "0   2.450284    1.304201  1.348433   1.347838     1.304201   1.348433   \n",
       "1   2.199547    1.266163  1.267525   1.275587     1.266163   1.267525   \n",
       "2   2.348879    1.280352  1.322590   1.318935     1.280352   1.322590   \n",
       "3   1.894977    1.187023  1.185236   1.189817     1.187023   1.185236   \n",
       "4   2.072306    1.137587  1.150139   1.127268     1.137587   1.150139   \n",
       "5   1.756259    1.095855  1.131961   1.124050     1.095855   1.131961   \n",
       "6   2.393313    1.296184  1.333969   1.334517     1.296184   1.333969   \n",
       "7   1.952181    1.170570  1.166871   1.173838     1.170570   1.166871   \n",
       "8   2.244836    1.309098  1.329747   1.291823     1.309098   1.329747   \n",
       "9   1.907324    1.194591  1.192610   1.193682     1.194591   1.192610   \n",
       "10  2.143635    1.382311  1.385006   1.417258     1.382311   1.385006   \n",
       "11  1.967347    1.185745  1.187492   1.191820     1.185745   1.187492   \n",
       "12  2.347088    1.287252  1.319679   1.326226     1.287252   1.319679   \n",
       "\n",
       "    test_wrmse      time     model  hc     lr  \n",
       "0     1.347838  0.185396   GATConv  16  0.005  \n",
       "1     1.275587  0.403496  SAGEConv  16  0.005  \n",
       "2     1.318935  0.176415   GATConv  16  0.010  \n",
       "3     1.189817  0.386870  SAGEConv  16  0.010  \n",
       "4     1.127268  0.189843   GATConv  16  0.050  \n",
       "5     1.124050  0.368111  SAGEConv  16  0.050  \n",
       "6     1.334517  0.251543   GATConv  32  0.005  \n",
       "7     1.173838  0.424624  SAGEConv  32  0.005  \n",
       "8     1.291823  0.241752   GATConv  32  0.010  \n",
       "9     1.193682  0.463669  SAGEConv  32  0.010  \n",
       "10    1.417258  0.239894   GATConv  32  0.050  \n",
       "11    1.191820  0.481373  SAGEConv  32  0.050  \n",
       "12    1.326226  0.412187   GATConv  64  0.005  "
      ]
     },
     "metadata": {},
     "output_type": "display_data"
    },
    {
     "name": "stdout",
     "output_type": "stream",
     "text": [
      "Sc: 14/18\n",
      "{'hidden_channels': 64, 'learning_rate': 0.005, 'conv': 'SAGEConv'}\n",
      "output GNNEncoder(\n",
      "  (conv1): SAGEConv((-1, -1), 64, aggr=mean)\n",
      "  (conv2): SAGEConv((-1, -1), 64, aggr=mean)\n",
      ")\n",
      "Early stopping\n"
     ]
    },
    {
     "data": {
      "text/html": [
       "<div>\n",
       "<style scoped>\n",
       "    .dataframe tbody tr th:only-of-type {\n",
       "        vertical-align: middle;\n",
       "    }\n",
       "\n",
       "    .dataframe tbody tr th {\n",
       "        vertical-align: top;\n",
       "    }\n",
       "\n",
       "    .dataframe thead th {\n",
       "        text-align: right;\n",
       "    }\n",
       "</style>\n",
       "<table border=\"1\" class=\"dataframe\">\n",
       "  <thead>\n",
       "    <tr style=\"text-align: right;\">\n",
       "      <th></th>\n",
       "      <th>loss</th>\n",
       "      <th>train_rmse</th>\n",
       "      <th>val_rmse</th>\n",
       "      <th>test_rmse</th>\n",
       "      <th>train_wrmse</th>\n",
       "      <th>val_wrmse</th>\n",
       "      <th>test_wrmse</th>\n",
       "      <th>time</th>\n",
       "      <th>model</th>\n",
       "      <th>hc</th>\n",
       "      <th>lr</th>\n",
       "    </tr>\n",
       "  </thead>\n",
       "  <tbody>\n",
       "    <tr>\n",
       "      <th>0</th>\n",
       "      <td>2.450284</td>\n",
       "      <td>1.304201</td>\n",
       "      <td>1.348433</td>\n",
       "      <td>1.347838</td>\n",
       "      <td>1.304201</td>\n",
       "      <td>1.348433</td>\n",
       "      <td>1.347838</td>\n",
       "      <td>0.185396</td>\n",
       "      <td>GATConv</td>\n",
       "      <td>16</td>\n",
       "      <td>0.005</td>\n",
       "    </tr>\n",
       "    <tr>\n",
       "      <th>1</th>\n",
       "      <td>2.199547</td>\n",
       "      <td>1.266163</td>\n",
       "      <td>1.267525</td>\n",
       "      <td>1.275587</td>\n",
       "      <td>1.266163</td>\n",
       "      <td>1.267525</td>\n",
       "      <td>1.275587</td>\n",
       "      <td>0.403496</td>\n",
       "      <td>SAGEConv</td>\n",
       "      <td>16</td>\n",
       "      <td>0.005</td>\n",
       "    </tr>\n",
       "    <tr>\n",
       "      <th>2</th>\n",
       "      <td>2.348879</td>\n",
       "      <td>1.280352</td>\n",
       "      <td>1.322590</td>\n",
       "      <td>1.318935</td>\n",
       "      <td>1.280352</td>\n",
       "      <td>1.322590</td>\n",
       "      <td>1.318935</td>\n",
       "      <td>0.176415</td>\n",
       "      <td>GATConv</td>\n",
       "      <td>16</td>\n",
       "      <td>0.010</td>\n",
       "    </tr>\n",
       "    <tr>\n",
       "      <th>3</th>\n",
       "      <td>1.894977</td>\n",
       "      <td>1.187023</td>\n",
       "      <td>1.185236</td>\n",
       "      <td>1.189817</td>\n",
       "      <td>1.187023</td>\n",
       "      <td>1.185236</td>\n",
       "      <td>1.189817</td>\n",
       "      <td>0.386870</td>\n",
       "      <td>SAGEConv</td>\n",
       "      <td>16</td>\n",
       "      <td>0.010</td>\n",
       "    </tr>\n",
       "    <tr>\n",
       "      <th>4</th>\n",
       "      <td>2.072306</td>\n",
       "      <td>1.137587</td>\n",
       "      <td>1.150139</td>\n",
       "      <td>1.127268</td>\n",
       "      <td>1.137587</td>\n",
       "      <td>1.150139</td>\n",
       "      <td>1.127268</td>\n",
       "      <td>0.189843</td>\n",
       "      <td>GATConv</td>\n",
       "      <td>16</td>\n",
       "      <td>0.050</td>\n",
       "    </tr>\n",
       "    <tr>\n",
       "      <th>5</th>\n",
       "      <td>1.756259</td>\n",
       "      <td>1.095855</td>\n",
       "      <td>1.131961</td>\n",
       "      <td>1.124050</td>\n",
       "      <td>1.095855</td>\n",
       "      <td>1.131961</td>\n",
       "      <td>1.124050</td>\n",
       "      <td>0.368111</td>\n",
       "      <td>SAGEConv</td>\n",
       "      <td>16</td>\n",
       "      <td>0.050</td>\n",
       "    </tr>\n",
       "    <tr>\n",
       "      <th>6</th>\n",
       "      <td>2.393313</td>\n",
       "      <td>1.296184</td>\n",
       "      <td>1.333969</td>\n",
       "      <td>1.334517</td>\n",
       "      <td>1.296184</td>\n",
       "      <td>1.333969</td>\n",
       "      <td>1.334517</td>\n",
       "      <td>0.251543</td>\n",
       "      <td>GATConv</td>\n",
       "      <td>32</td>\n",
       "      <td>0.005</td>\n",
       "    </tr>\n",
       "    <tr>\n",
       "      <th>7</th>\n",
       "      <td>1.952181</td>\n",
       "      <td>1.170570</td>\n",
       "      <td>1.166871</td>\n",
       "      <td>1.173838</td>\n",
       "      <td>1.170570</td>\n",
       "      <td>1.166871</td>\n",
       "      <td>1.173838</td>\n",
       "      <td>0.424624</td>\n",
       "      <td>SAGEConv</td>\n",
       "      <td>32</td>\n",
       "      <td>0.005</td>\n",
       "    </tr>\n",
       "    <tr>\n",
       "      <th>8</th>\n",
       "      <td>2.244836</td>\n",
       "      <td>1.309098</td>\n",
       "      <td>1.329747</td>\n",
       "      <td>1.291823</td>\n",
       "      <td>1.309098</td>\n",
       "      <td>1.329747</td>\n",
       "      <td>1.291823</td>\n",
       "      <td>0.241752</td>\n",
       "      <td>GATConv</td>\n",
       "      <td>32</td>\n",
       "      <td>0.010</td>\n",
       "    </tr>\n",
       "    <tr>\n",
       "      <th>9</th>\n",
       "      <td>1.907324</td>\n",
       "      <td>1.194591</td>\n",
       "      <td>1.192610</td>\n",
       "      <td>1.193682</td>\n",
       "      <td>1.194591</td>\n",
       "      <td>1.192610</td>\n",
       "      <td>1.193682</td>\n",
       "      <td>0.463669</td>\n",
       "      <td>SAGEConv</td>\n",
       "      <td>32</td>\n",
       "      <td>0.010</td>\n",
       "    </tr>\n",
       "    <tr>\n",
       "      <th>10</th>\n",
       "      <td>2.143635</td>\n",
       "      <td>1.382311</td>\n",
       "      <td>1.385006</td>\n",
       "      <td>1.417258</td>\n",
       "      <td>1.382311</td>\n",
       "      <td>1.385006</td>\n",
       "      <td>1.417258</td>\n",
       "      <td>0.239894</td>\n",
       "      <td>GATConv</td>\n",
       "      <td>32</td>\n",
       "      <td>0.050</td>\n",
       "    </tr>\n",
       "    <tr>\n",
       "      <th>11</th>\n",
       "      <td>1.967347</td>\n",
       "      <td>1.185745</td>\n",
       "      <td>1.187492</td>\n",
       "      <td>1.191820</td>\n",
       "      <td>1.185745</td>\n",
       "      <td>1.187492</td>\n",
       "      <td>1.191820</td>\n",
       "      <td>0.481373</td>\n",
       "      <td>SAGEConv</td>\n",
       "      <td>32</td>\n",
       "      <td>0.050</td>\n",
       "    </tr>\n",
       "    <tr>\n",
       "      <th>12</th>\n",
       "      <td>2.347088</td>\n",
       "      <td>1.287252</td>\n",
       "      <td>1.319679</td>\n",
       "      <td>1.326226</td>\n",
       "      <td>1.287252</td>\n",
       "      <td>1.319679</td>\n",
       "      <td>1.326226</td>\n",
       "      <td>0.412187</td>\n",
       "      <td>GATConv</td>\n",
       "      <td>64</td>\n",
       "      <td>0.005</td>\n",
       "    </tr>\n",
       "    <tr>\n",
       "      <th>13</th>\n",
       "      <td>1.907050</td>\n",
       "      <td>1.184614</td>\n",
       "      <td>1.184296</td>\n",
       "      <td>1.185819</td>\n",
       "      <td>1.184614</td>\n",
       "      <td>1.184296</td>\n",
       "      <td>1.185819</td>\n",
       "      <td>0.486634</td>\n",
       "      <td>SAGEConv</td>\n",
       "      <td>64</td>\n",
       "      <td>0.005</td>\n",
       "    </tr>\n",
       "  </tbody>\n",
       "</table>\n",
       "</div>"
      ],
      "text/plain": [
       "        loss  train_rmse  val_rmse  test_rmse  train_wrmse  val_wrmse  \\\n",
       "0   2.450284    1.304201  1.348433   1.347838     1.304201   1.348433   \n",
       "1   2.199547    1.266163  1.267525   1.275587     1.266163   1.267525   \n",
       "2   2.348879    1.280352  1.322590   1.318935     1.280352   1.322590   \n",
       "3   1.894977    1.187023  1.185236   1.189817     1.187023   1.185236   \n",
       "4   2.072306    1.137587  1.150139   1.127268     1.137587   1.150139   \n",
       "5   1.756259    1.095855  1.131961   1.124050     1.095855   1.131961   \n",
       "6   2.393313    1.296184  1.333969   1.334517     1.296184   1.333969   \n",
       "7   1.952181    1.170570  1.166871   1.173838     1.170570   1.166871   \n",
       "8   2.244836    1.309098  1.329747   1.291823     1.309098   1.329747   \n",
       "9   1.907324    1.194591  1.192610   1.193682     1.194591   1.192610   \n",
       "10  2.143635    1.382311  1.385006   1.417258     1.382311   1.385006   \n",
       "11  1.967347    1.185745  1.187492   1.191820     1.185745   1.187492   \n",
       "12  2.347088    1.287252  1.319679   1.326226     1.287252   1.319679   \n",
       "13  1.907050    1.184614  1.184296   1.185819     1.184614   1.184296   \n",
       "\n",
       "    test_wrmse      time     model  hc     lr  \n",
       "0     1.347838  0.185396   GATConv  16  0.005  \n",
       "1     1.275587  0.403496  SAGEConv  16  0.005  \n",
       "2     1.318935  0.176415   GATConv  16  0.010  \n",
       "3     1.189817  0.386870  SAGEConv  16  0.010  \n",
       "4     1.127268  0.189843   GATConv  16  0.050  \n",
       "5     1.124050  0.368111  SAGEConv  16  0.050  \n",
       "6     1.334517  0.251543   GATConv  32  0.005  \n",
       "7     1.173838  0.424624  SAGEConv  32  0.005  \n",
       "8     1.291823  0.241752   GATConv  32  0.010  \n",
       "9     1.193682  0.463669  SAGEConv  32  0.010  \n",
       "10    1.417258  0.239894   GATConv  32  0.050  \n",
       "11    1.191820  0.481373  SAGEConv  32  0.050  \n",
       "12    1.326226  0.412187   GATConv  64  0.005  \n",
       "13    1.185819  0.486634  SAGEConv  64  0.005  "
      ]
     },
     "metadata": {},
     "output_type": "display_data"
    },
    {
     "name": "stdout",
     "output_type": "stream",
     "text": [
      "Sc: 15/18\n",
      "{'hidden_channels': 64, 'learning_rate': 0.01, 'conv': 'GATConv'}\n",
      "success1!\n",
      "success2!\n",
      "output GNNEncoder(\n",
      "  (conv1): GATConv((-1, -1), 64, heads=1)\n",
      "  (conv2): GATConv((-1, -1), 64, heads=1)\n",
      ")\n",
      "Early stopping\n"
     ]
    },
    {
     "data": {
      "text/html": [
       "<div>\n",
       "<style scoped>\n",
       "    .dataframe tbody tr th:only-of-type {\n",
       "        vertical-align: middle;\n",
       "    }\n",
       "\n",
       "    .dataframe tbody tr th {\n",
       "        vertical-align: top;\n",
       "    }\n",
       "\n",
       "    .dataframe thead th {\n",
       "        text-align: right;\n",
       "    }\n",
       "</style>\n",
       "<table border=\"1\" class=\"dataframe\">\n",
       "  <thead>\n",
       "    <tr style=\"text-align: right;\">\n",
       "      <th></th>\n",
       "      <th>loss</th>\n",
       "      <th>train_rmse</th>\n",
       "      <th>val_rmse</th>\n",
       "      <th>test_rmse</th>\n",
       "      <th>train_wrmse</th>\n",
       "      <th>val_wrmse</th>\n",
       "      <th>test_wrmse</th>\n",
       "      <th>time</th>\n",
       "      <th>model</th>\n",
       "      <th>hc</th>\n",
       "      <th>lr</th>\n",
       "    </tr>\n",
       "  </thead>\n",
       "  <tbody>\n",
       "    <tr>\n",
       "      <th>0</th>\n",
       "      <td>2.450284</td>\n",
       "      <td>1.304201</td>\n",
       "      <td>1.348433</td>\n",
       "      <td>1.347838</td>\n",
       "      <td>1.304201</td>\n",
       "      <td>1.348433</td>\n",
       "      <td>1.347838</td>\n",
       "      <td>0.185396</td>\n",
       "      <td>GATConv</td>\n",
       "      <td>16</td>\n",
       "      <td>0.005</td>\n",
       "    </tr>\n",
       "    <tr>\n",
       "      <th>1</th>\n",
       "      <td>2.199547</td>\n",
       "      <td>1.266163</td>\n",
       "      <td>1.267525</td>\n",
       "      <td>1.275587</td>\n",
       "      <td>1.266163</td>\n",
       "      <td>1.267525</td>\n",
       "      <td>1.275587</td>\n",
       "      <td>0.403496</td>\n",
       "      <td>SAGEConv</td>\n",
       "      <td>16</td>\n",
       "      <td>0.005</td>\n",
       "    </tr>\n",
       "    <tr>\n",
       "      <th>2</th>\n",
       "      <td>2.348879</td>\n",
       "      <td>1.280352</td>\n",
       "      <td>1.322590</td>\n",
       "      <td>1.318935</td>\n",
       "      <td>1.280352</td>\n",
       "      <td>1.322590</td>\n",
       "      <td>1.318935</td>\n",
       "      <td>0.176415</td>\n",
       "      <td>GATConv</td>\n",
       "      <td>16</td>\n",
       "      <td>0.010</td>\n",
       "    </tr>\n",
       "    <tr>\n",
       "      <th>3</th>\n",
       "      <td>1.894977</td>\n",
       "      <td>1.187023</td>\n",
       "      <td>1.185236</td>\n",
       "      <td>1.189817</td>\n",
       "      <td>1.187023</td>\n",
       "      <td>1.185236</td>\n",
       "      <td>1.189817</td>\n",
       "      <td>0.386870</td>\n",
       "      <td>SAGEConv</td>\n",
       "      <td>16</td>\n",
       "      <td>0.010</td>\n",
       "    </tr>\n",
       "    <tr>\n",
       "      <th>4</th>\n",
       "      <td>2.072306</td>\n",
       "      <td>1.137587</td>\n",
       "      <td>1.150139</td>\n",
       "      <td>1.127268</td>\n",
       "      <td>1.137587</td>\n",
       "      <td>1.150139</td>\n",
       "      <td>1.127268</td>\n",
       "      <td>0.189843</td>\n",
       "      <td>GATConv</td>\n",
       "      <td>16</td>\n",
       "      <td>0.050</td>\n",
       "    </tr>\n",
       "    <tr>\n",
       "      <th>5</th>\n",
       "      <td>1.756259</td>\n",
       "      <td>1.095855</td>\n",
       "      <td>1.131961</td>\n",
       "      <td>1.124050</td>\n",
       "      <td>1.095855</td>\n",
       "      <td>1.131961</td>\n",
       "      <td>1.124050</td>\n",
       "      <td>0.368111</td>\n",
       "      <td>SAGEConv</td>\n",
       "      <td>16</td>\n",
       "      <td>0.050</td>\n",
       "    </tr>\n",
       "    <tr>\n",
       "      <th>6</th>\n",
       "      <td>2.393313</td>\n",
       "      <td>1.296184</td>\n",
       "      <td>1.333969</td>\n",
       "      <td>1.334517</td>\n",
       "      <td>1.296184</td>\n",
       "      <td>1.333969</td>\n",
       "      <td>1.334517</td>\n",
       "      <td>0.251543</td>\n",
       "      <td>GATConv</td>\n",
       "      <td>32</td>\n",
       "      <td>0.005</td>\n",
       "    </tr>\n",
       "    <tr>\n",
       "      <th>7</th>\n",
       "      <td>1.952181</td>\n",
       "      <td>1.170570</td>\n",
       "      <td>1.166871</td>\n",
       "      <td>1.173838</td>\n",
       "      <td>1.170570</td>\n",
       "      <td>1.166871</td>\n",
       "      <td>1.173838</td>\n",
       "      <td>0.424624</td>\n",
       "      <td>SAGEConv</td>\n",
       "      <td>32</td>\n",
       "      <td>0.005</td>\n",
       "    </tr>\n",
       "    <tr>\n",
       "      <th>8</th>\n",
       "      <td>2.244836</td>\n",
       "      <td>1.309098</td>\n",
       "      <td>1.329747</td>\n",
       "      <td>1.291823</td>\n",
       "      <td>1.309098</td>\n",
       "      <td>1.329747</td>\n",
       "      <td>1.291823</td>\n",
       "      <td>0.241752</td>\n",
       "      <td>GATConv</td>\n",
       "      <td>32</td>\n",
       "      <td>0.010</td>\n",
       "    </tr>\n",
       "    <tr>\n",
       "      <th>9</th>\n",
       "      <td>1.907324</td>\n",
       "      <td>1.194591</td>\n",
       "      <td>1.192610</td>\n",
       "      <td>1.193682</td>\n",
       "      <td>1.194591</td>\n",
       "      <td>1.192610</td>\n",
       "      <td>1.193682</td>\n",
       "      <td>0.463669</td>\n",
       "      <td>SAGEConv</td>\n",
       "      <td>32</td>\n",
       "      <td>0.010</td>\n",
       "    </tr>\n",
       "    <tr>\n",
       "      <th>10</th>\n",
       "      <td>2.143635</td>\n",
       "      <td>1.382311</td>\n",
       "      <td>1.385006</td>\n",
       "      <td>1.417258</td>\n",
       "      <td>1.382311</td>\n",
       "      <td>1.385006</td>\n",
       "      <td>1.417258</td>\n",
       "      <td>0.239894</td>\n",
       "      <td>GATConv</td>\n",
       "      <td>32</td>\n",
       "      <td>0.050</td>\n",
       "    </tr>\n",
       "    <tr>\n",
       "      <th>11</th>\n",
       "      <td>1.967347</td>\n",
       "      <td>1.185745</td>\n",
       "      <td>1.187492</td>\n",
       "      <td>1.191820</td>\n",
       "      <td>1.185745</td>\n",
       "      <td>1.187492</td>\n",
       "      <td>1.191820</td>\n",
       "      <td>0.481373</td>\n",
       "      <td>SAGEConv</td>\n",
       "      <td>32</td>\n",
       "      <td>0.050</td>\n",
       "    </tr>\n",
       "    <tr>\n",
       "      <th>12</th>\n",
       "      <td>2.347088</td>\n",
       "      <td>1.287252</td>\n",
       "      <td>1.319679</td>\n",
       "      <td>1.326226</td>\n",
       "      <td>1.287252</td>\n",
       "      <td>1.319679</td>\n",
       "      <td>1.326226</td>\n",
       "      <td>0.412187</td>\n",
       "      <td>GATConv</td>\n",
       "      <td>64</td>\n",
       "      <td>0.005</td>\n",
       "    </tr>\n",
       "    <tr>\n",
       "      <th>13</th>\n",
       "      <td>1.907050</td>\n",
       "      <td>1.184614</td>\n",
       "      <td>1.184296</td>\n",
       "      <td>1.185819</td>\n",
       "      <td>1.184614</td>\n",
       "      <td>1.184296</td>\n",
       "      <td>1.185819</td>\n",
       "      <td>0.486634</td>\n",
       "      <td>SAGEConv</td>\n",
       "      <td>64</td>\n",
       "      <td>0.005</td>\n",
       "    </tr>\n",
       "    <tr>\n",
       "      <th>14</th>\n",
       "      <td>2.088756</td>\n",
       "      <td>1.270734</td>\n",
       "      <td>1.263481</td>\n",
       "      <td>1.355736</td>\n",
       "      <td>1.270734</td>\n",
       "      <td>1.263481</td>\n",
       "      <td>1.355736</td>\n",
       "      <td>0.438668</td>\n",
       "      <td>GATConv</td>\n",
       "      <td>64</td>\n",
       "      <td>0.010</td>\n",
       "    </tr>\n",
       "  </tbody>\n",
       "</table>\n",
       "</div>"
      ],
      "text/plain": [
       "        loss  train_rmse  val_rmse  test_rmse  train_wrmse  val_wrmse  \\\n",
       "0   2.450284    1.304201  1.348433   1.347838     1.304201   1.348433   \n",
       "1   2.199547    1.266163  1.267525   1.275587     1.266163   1.267525   \n",
       "2   2.348879    1.280352  1.322590   1.318935     1.280352   1.322590   \n",
       "3   1.894977    1.187023  1.185236   1.189817     1.187023   1.185236   \n",
       "4   2.072306    1.137587  1.150139   1.127268     1.137587   1.150139   \n",
       "5   1.756259    1.095855  1.131961   1.124050     1.095855   1.131961   \n",
       "6   2.393313    1.296184  1.333969   1.334517     1.296184   1.333969   \n",
       "7   1.952181    1.170570  1.166871   1.173838     1.170570   1.166871   \n",
       "8   2.244836    1.309098  1.329747   1.291823     1.309098   1.329747   \n",
       "9   1.907324    1.194591  1.192610   1.193682     1.194591   1.192610   \n",
       "10  2.143635    1.382311  1.385006   1.417258     1.382311   1.385006   \n",
       "11  1.967347    1.185745  1.187492   1.191820     1.185745   1.187492   \n",
       "12  2.347088    1.287252  1.319679   1.326226     1.287252   1.319679   \n",
       "13  1.907050    1.184614  1.184296   1.185819     1.184614   1.184296   \n",
       "14  2.088756    1.270734  1.263481   1.355736     1.270734   1.263481   \n",
       "\n",
       "    test_wrmse      time     model  hc     lr  \n",
       "0     1.347838  0.185396   GATConv  16  0.005  \n",
       "1     1.275587  0.403496  SAGEConv  16  0.005  \n",
       "2     1.318935  0.176415   GATConv  16  0.010  \n",
       "3     1.189817  0.386870  SAGEConv  16  0.010  \n",
       "4     1.127268  0.189843   GATConv  16  0.050  \n",
       "5     1.124050  0.368111  SAGEConv  16  0.050  \n",
       "6     1.334517  0.251543   GATConv  32  0.005  \n",
       "7     1.173838  0.424624  SAGEConv  32  0.005  \n",
       "8     1.291823  0.241752   GATConv  32  0.010  \n",
       "9     1.193682  0.463669  SAGEConv  32  0.010  \n",
       "10    1.417258  0.239894   GATConv  32  0.050  \n",
       "11    1.191820  0.481373  SAGEConv  32  0.050  \n",
       "12    1.326226  0.412187   GATConv  64  0.005  \n",
       "13    1.185819  0.486634  SAGEConv  64  0.005  \n",
       "14    1.355736  0.438668   GATConv  64  0.010  "
      ]
     },
     "metadata": {},
     "output_type": "display_data"
    },
    {
     "name": "stdout",
     "output_type": "stream",
     "text": [
      "Sc: 16/18\n",
      "{'hidden_channels': 64, 'learning_rate': 0.01, 'conv': 'SAGEConv'}\n",
      "output GNNEncoder(\n",
      "  (conv1): SAGEConv((-1, -1), 64, aggr=mean)\n",
      "  (conv2): SAGEConv((-1, -1), 64, aggr=mean)\n",
      ")\n",
      "Early stopping\n"
     ]
    },
    {
     "data": {
      "text/html": [
       "<div>\n",
       "<style scoped>\n",
       "    .dataframe tbody tr th:only-of-type {\n",
       "        vertical-align: middle;\n",
       "    }\n",
       "\n",
       "    .dataframe tbody tr th {\n",
       "        vertical-align: top;\n",
       "    }\n",
       "\n",
       "    .dataframe thead th {\n",
       "        text-align: right;\n",
       "    }\n",
       "</style>\n",
       "<table border=\"1\" class=\"dataframe\">\n",
       "  <thead>\n",
       "    <tr style=\"text-align: right;\">\n",
       "      <th></th>\n",
       "      <th>loss</th>\n",
       "      <th>train_rmse</th>\n",
       "      <th>val_rmse</th>\n",
       "      <th>test_rmse</th>\n",
       "      <th>train_wrmse</th>\n",
       "      <th>val_wrmse</th>\n",
       "      <th>test_wrmse</th>\n",
       "      <th>time</th>\n",
       "      <th>model</th>\n",
       "      <th>hc</th>\n",
       "      <th>lr</th>\n",
       "    </tr>\n",
       "  </thead>\n",
       "  <tbody>\n",
       "    <tr>\n",
       "      <th>0</th>\n",
       "      <td>2.450284</td>\n",
       "      <td>1.304201</td>\n",
       "      <td>1.348433</td>\n",
       "      <td>1.347838</td>\n",
       "      <td>1.304201</td>\n",
       "      <td>1.348433</td>\n",
       "      <td>1.347838</td>\n",
       "      <td>0.185396</td>\n",
       "      <td>GATConv</td>\n",
       "      <td>16</td>\n",
       "      <td>0.005</td>\n",
       "    </tr>\n",
       "    <tr>\n",
       "      <th>1</th>\n",
       "      <td>2.199547</td>\n",
       "      <td>1.266163</td>\n",
       "      <td>1.267525</td>\n",
       "      <td>1.275587</td>\n",
       "      <td>1.266163</td>\n",
       "      <td>1.267525</td>\n",
       "      <td>1.275587</td>\n",
       "      <td>0.403496</td>\n",
       "      <td>SAGEConv</td>\n",
       "      <td>16</td>\n",
       "      <td>0.005</td>\n",
       "    </tr>\n",
       "    <tr>\n",
       "      <th>2</th>\n",
       "      <td>2.348879</td>\n",
       "      <td>1.280352</td>\n",
       "      <td>1.322590</td>\n",
       "      <td>1.318935</td>\n",
       "      <td>1.280352</td>\n",
       "      <td>1.322590</td>\n",
       "      <td>1.318935</td>\n",
       "      <td>0.176415</td>\n",
       "      <td>GATConv</td>\n",
       "      <td>16</td>\n",
       "      <td>0.010</td>\n",
       "    </tr>\n",
       "    <tr>\n",
       "      <th>3</th>\n",
       "      <td>1.894977</td>\n",
       "      <td>1.187023</td>\n",
       "      <td>1.185236</td>\n",
       "      <td>1.189817</td>\n",
       "      <td>1.187023</td>\n",
       "      <td>1.185236</td>\n",
       "      <td>1.189817</td>\n",
       "      <td>0.386870</td>\n",
       "      <td>SAGEConv</td>\n",
       "      <td>16</td>\n",
       "      <td>0.010</td>\n",
       "    </tr>\n",
       "    <tr>\n",
       "      <th>4</th>\n",
       "      <td>2.072306</td>\n",
       "      <td>1.137587</td>\n",
       "      <td>1.150139</td>\n",
       "      <td>1.127268</td>\n",
       "      <td>1.137587</td>\n",
       "      <td>1.150139</td>\n",
       "      <td>1.127268</td>\n",
       "      <td>0.189843</td>\n",
       "      <td>GATConv</td>\n",
       "      <td>16</td>\n",
       "      <td>0.050</td>\n",
       "    </tr>\n",
       "    <tr>\n",
       "      <th>5</th>\n",
       "      <td>1.756259</td>\n",
       "      <td>1.095855</td>\n",
       "      <td>1.131961</td>\n",
       "      <td>1.124050</td>\n",
       "      <td>1.095855</td>\n",
       "      <td>1.131961</td>\n",
       "      <td>1.124050</td>\n",
       "      <td>0.368111</td>\n",
       "      <td>SAGEConv</td>\n",
       "      <td>16</td>\n",
       "      <td>0.050</td>\n",
       "    </tr>\n",
       "    <tr>\n",
       "      <th>6</th>\n",
       "      <td>2.393313</td>\n",
       "      <td>1.296184</td>\n",
       "      <td>1.333969</td>\n",
       "      <td>1.334517</td>\n",
       "      <td>1.296184</td>\n",
       "      <td>1.333969</td>\n",
       "      <td>1.334517</td>\n",
       "      <td>0.251543</td>\n",
       "      <td>GATConv</td>\n",
       "      <td>32</td>\n",
       "      <td>0.005</td>\n",
       "    </tr>\n",
       "    <tr>\n",
       "      <th>7</th>\n",
       "      <td>1.952181</td>\n",
       "      <td>1.170570</td>\n",
       "      <td>1.166871</td>\n",
       "      <td>1.173838</td>\n",
       "      <td>1.170570</td>\n",
       "      <td>1.166871</td>\n",
       "      <td>1.173838</td>\n",
       "      <td>0.424624</td>\n",
       "      <td>SAGEConv</td>\n",
       "      <td>32</td>\n",
       "      <td>0.005</td>\n",
       "    </tr>\n",
       "    <tr>\n",
       "      <th>8</th>\n",
       "      <td>2.244836</td>\n",
       "      <td>1.309098</td>\n",
       "      <td>1.329747</td>\n",
       "      <td>1.291823</td>\n",
       "      <td>1.309098</td>\n",
       "      <td>1.329747</td>\n",
       "      <td>1.291823</td>\n",
       "      <td>0.241752</td>\n",
       "      <td>GATConv</td>\n",
       "      <td>32</td>\n",
       "      <td>0.010</td>\n",
       "    </tr>\n",
       "    <tr>\n",
       "      <th>9</th>\n",
       "      <td>1.907324</td>\n",
       "      <td>1.194591</td>\n",
       "      <td>1.192610</td>\n",
       "      <td>1.193682</td>\n",
       "      <td>1.194591</td>\n",
       "      <td>1.192610</td>\n",
       "      <td>1.193682</td>\n",
       "      <td>0.463669</td>\n",
       "      <td>SAGEConv</td>\n",
       "      <td>32</td>\n",
       "      <td>0.010</td>\n",
       "    </tr>\n",
       "    <tr>\n",
       "      <th>10</th>\n",
       "      <td>2.143635</td>\n",
       "      <td>1.382311</td>\n",
       "      <td>1.385006</td>\n",
       "      <td>1.417258</td>\n",
       "      <td>1.382311</td>\n",
       "      <td>1.385006</td>\n",
       "      <td>1.417258</td>\n",
       "      <td>0.239894</td>\n",
       "      <td>GATConv</td>\n",
       "      <td>32</td>\n",
       "      <td>0.050</td>\n",
       "    </tr>\n",
       "    <tr>\n",
       "      <th>11</th>\n",
       "      <td>1.967347</td>\n",
       "      <td>1.185745</td>\n",
       "      <td>1.187492</td>\n",
       "      <td>1.191820</td>\n",
       "      <td>1.185745</td>\n",
       "      <td>1.187492</td>\n",
       "      <td>1.191820</td>\n",
       "      <td>0.481373</td>\n",
       "      <td>SAGEConv</td>\n",
       "      <td>32</td>\n",
       "      <td>0.050</td>\n",
       "    </tr>\n",
       "    <tr>\n",
       "      <th>12</th>\n",
       "      <td>2.347088</td>\n",
       "      <td>1.287252</td>\n",
       "      <td>1.319679</td>\n",
       "      <td>1.326226</td>\n",
       "      <td>1.287252</td>\n",
       "      <td>1.319679</td>\n",
       "      <td>1.326226</td>\n",
       "      <td>0.412187</td>\n",
       "      <td>GATConv</td>\n",
       "      <td>64</td>\n",
       "      <td>0.005</td>\n",
       "    </tr>\n",
       "    <tr>\n",
       "      <th>13</th>\n",
       "      <td>1.907050</td>\n",
       "      <td>1.184614</td>\n",
       "      <td>1.184296</td>\n",
       "      <td>1.185819</td>\n",
       "      <td>1.184614</td>\n",
       "      <td>1.184296</td>\n",
       "      <td>1.185819</td>\n",
       "      <td>0.486634</td>\n",
       "      <td>SAGEConv</td>\n",
       "      <td>64</td>\n",
       "      <td>0.005</td>\n",
       "    </tr>\n",
       "    <tr>\n",
       "      <th>14</th>\n",
       "      <td>2.088756</td>\n",
       "      <td>1.270734</td>\n",
       "      <td>1.263481</td>\n",
       "      <td>1.355736</td>\n",
       "      <td>1.270734</td>\n",
       "      <td>1.263481</td>\n",
       "      <td>1.355736</td>\n",
       "      <td>0.438668</td>\n",
       "      <td>GATConv</td>\n",
       "      <td>64</td>\n",
       "      <td>0.010</td>\n",
       "    </tr>\n",
       "    <tr>\n",
       "      <th>15</th>\n",
       "      <td>1.852770</td>\n",
       "      <td>1.142838</td>\n",
       "      <td>1.148923</td>\n",
       "      <td>1.150611</td>\n",
       "      <td>1.142838</td>\n",
       "      <td>1.148923</td>\n",
       "      <td>1.150611</td>\n",
       "      <td>0.577445</td>\n",
       "      <td>SAGEConv</td>\n",
       "      <td>64</td>\n",
       "      <td>0.010</td>\n",
       "    </tr>\n",
       "  </tbody>\n",
       "</table>\n",
       "</div>"
      ],
      "text/plain": [
       "        loss  train_rmse  val_rmse  test_rmse  train_wrmse  val_wrmse  \\\n",
       "0   2.450284    1.304201  1.348433   1.347838     1.304201   1.348433   \n",
       "1   2.199547    1.266163  1.267525   1.275587     1.266163   1.267525   \n",
       "2   2.348879    1.280352  1.322590   1.318935     1.280352   1.322590   \n",
       "3   1.894977    1.187023  1.185236   1.189817     1.187023   1.185236   \n",
       "4   2.072306    1.137587  1.150139   1.127268     1.137587   1.150139   \n",
       "5   1.756259    1.095855  1.131961   1.124050     1.095855   1.131961   \n",
       "6   2.393313    1.296184  1.333969   1.334517     1.296184   1.333969   \n",
       "7   1.952181    1.170570  1.166871   1.173838     1.170570   1.166871   \n",
       "8   2.244836    1.309098  1.329747   1.291823     1.309098   1.329747   \n",
       "9   1.907324    1.194591  1.192610   1.193682     1.194591   1.192610   \n",
       "10  2.143635    1.382311  1.385006   1.417258     1.382311   1.385006   \n",
       "11  1.967347    1.185745  1.187492   1.191820     1.185745   1.187492   \n",
       "12  2.347088    1.287252  1.319679   1.326226     1.287252   1.319679   \n",
       "13  1.907050    1.184614  1.184296   1.185819     1.184614   1.184296   \n",
       "14  2.088756    1.270734  1.263481   1.355736     1.270734   1.263481   \n",
       "15  1.852770    1.142838  1.148923   1.150611     1.142838   1.148923   \n",
       "\n",
       "    test_wrmse      time     model  hc     lr  \n",
       "0     1.347838  0.185396   GATConv  16  0.005  \n",
       "1     1.275587  0.403496  SAGEConv  16  0.005  \n",
       "2     1.318935  0.176415   GATConv  16  0.010  \n",
       "3     1.189817  0.386870  SAGEConv  16  0.010  \n",
       "4     1.127268  0.189843   GATConv  16  0.050  \n",
       "5     1.124050  0.368111  SAGEConv  16  0.050  \n",
       "6     1.334517  0.251543   GATConv  32  0.005  \n",
       "7     1.173838  0.424624  SAGEConv  32  0.005  \n",
       "8     1.291823  0.241752   GATConv  32  0.010  \n",
       "9     1.193682  0.463669  SAGEConv  32  0.010  \n",
       "10    1.417258  0.239894   GATConv  32  0.050  \n",
       "11    1.191820  0.481373  SAGEConv  32  0.050  \n",
       "12    1.326226  0.412187   GATConv  64  0.005  \n",
       "13    1.185819  0.486634  SAGEConv  64  0.005  \n",
       "14    1.355736  0.438668   GATConv  64  0.010  \n",
       "15    1.150611  0.577445  SAGEConv  64  0.010  "
      ]
     },
     "metadata": {},
     "output_type": "display_data"
    },
    {
     "name": "stdout",
     "output_type": "stream",
     "text": [
      "Sc: 17/18\n",
      "{'hidden_channels': 64, 'learning_rate': 0.05, 'conv': 'GATConv'}\n",
      "success1!\n",
      "success2!\n",
      "output GNNEncoder(\n",
      "  (conv1): GATConv((-1, -1), 64, heads=1)\n",
      "  (conv2): GATConv((-1, -1), 64, heads=1)\n",
      ")\n",
      "Early stopping\n"
     ]
    },
    {
     "data": {
      "text/html": [
       "<div>\n",
       "<style scoped>\n",
       "    .dataframe tbody tr th:only-of-type {\n",
       "        vertical-align: middle;\n",
       "    }\n",
       "\n",
       "    .dataframe tbody tr th {\n",
       "        vertical-align: top;\n",
       "    }\n",
       "\n",
       "    .dataframe thead th {\n",
       "        text-align: right;\n",
       "    }\n",
       "</style>\n",
       "<table border=\"1\" class=\"dataframe\">\n",
       "  <thead>\n",
       "    <tr style=\"text-align: right;\">\n",
       "      <th></th>\n",
       "      <th>loss</th>\n",
       "      <th>train_rmse</th>\n",
       "      <th>val_rmse</th>\n",
       "      <th>test_rmse</th>\n",
       "      <th>train_wrmse</th>\n",
       "      <th>val_wrmse</th>\n",
       "      <th>test_wrmse</th>\n",
       "      <th>time</th>\n",
       "      <th>model</th>\n",
       "      <th>hc</th>\n",
       "      <th>lr</th>\n",
       "    </tr>\n",
       "  </thead>\n",
       "  <tbody>\n",
       "    <tr>\n",
       "      <th>0</th>\n",
       "      <td>2.450284</td>\n",
       "      <td>1.304201</td>\n",
       "      <td>1.348433</td>\n",
       "      <td>1.347838</td>\n",
       "      <td>1.304201</td>\n",
       "      <td>1.348433</td>\n",
       "      <td>1.347838</td>\n",
       "      <td>0.185396</td>\n",
       "      <td>GATConv</td>\n",
       "      <td>16</td>\n",
       "      <td>0.005</td>\n",
       "    </tr>\n",
       "    <tr>\n",
       "      <th>1</th>\n",
       "      <td>2.199547</td>\n",
       "      <td>1.266163</td>\n",
       "      <td>1.267525</td>\n",
       "      <td>1.275587</td>\n",
       "      <td>1.266163</td>\n",
       "      <td>1.267525</td>\n",
       "      <td>1.275587</td>\n",
       "      <td>0.403496</td>\n",
       "      <td>SAGEConv</td>\n",
       "      <td>16</td>\n",
       "      <td>0.005</td>\n",
       "    </tr>\n",
       "    <tr>\n",
       "      <th>2</th>\n",
       "      <td>2.348879</td>\n",
       "      <td>1.280352</td>\n",
       "      <td>1.322590</td>\n",
       "      <td>1.318935</td>\n",
       "      <td>1.280352</td>\n",
       "      <td>1.322590</td>\n",
       "      <td>1.318935</td>\n",
       "      <td>0.176415</td>\n",
       "      <td>GATConv</td>\n",
       "      <td>16</td>\n",
       "      <td>0.010</td>\n",
       "    </tr>\n",
       "    <tr>\n",
       "      <th>3</th>\n",
       "      <td>1.894977</td>\n",
       "      <td>1.187023</td>\n",
       "      <td>1.185236</td>\n",
       "      <td>1.189817</td>\n",
       "      <td>1.187023</td>\n",
       "      <td>1.185236</td>\n",
       "      <td>1.189817</td>\n",
       "      <td>0.386870</td>\n",
       "      <td>SAGEConv</td>\n",
       "      <td>16</td>\n",
       "      <td>0.010</td>\n",
       "    </tr>\n",
       "    <tr>\n",
       "      <th>4</th>\n",
       "      <td>2.072306</td>\n",
       "      <td>1.137587</td>\n",
       "      <td>1.150139</td>\n",
       "      <td>1.127268</td>\n",
       "      <td>1.137587</td>\n",
       "      <td>1.150139</td>\n",
       "      <td>1.127268</td>\n",
       "      <td>0.189843</td>\n",
       "      <td>GATConv</td>\n",
       "      <td>16</td>\n",
       "      <td>0.050</td>\n",
       "    </tr>\n",
       "    <tr>\n",
       "      <th>5</th>\n",
       "      <td>1.756259</td>\n",
       "      <td>1.095855</td>\n",
       "      <td>1.131961</td>\n",
       "      <td>1.124050</td>\n",
       "      <td>1.095855</td>\n",
       "      <td>1.131961</td>\n",
       "      <td>1.124050</td>\n",
       "      <td>0.368111</td>\n",
       "      <td>SAGEConv</td>\n",
       "      <td>16</td>\n",
       "      <td>0.050</td>\n",
       "    </tr>\n",
       "    <tr>\n",
       "      <th>6</th>\n",
       "      <td>2.393313</td>\n",
       "      <td>1.296184</td>\n",
       "      <td>1.333969</td>\n",
       "      <td>1.334517</td>\n",
       "      <td>1.296184</td>\n",
       "      <td>1.333969</td>\n",
       "      <td>1.334517</td>\n",
       "      <td>0.251543</td>\n",
       "      <td>GATConv</td>\n",
       "      <td>32</td>\n",
       "      <td>0.005</td>\n",
       "    </tr>\n",
       "    <tr>\n",
       "      <th>7</th>\n",
       "      <td>1.952181</td>\n",
       "      <td>1.170570</td>\n",
       "      <td>1.166871</td>\n",
       "      <td>1.173838</td>\n",
       "      <td>1.170570</td>\n",
       "      <td>1.166871</td>\n",
       "      <td>1.173838</td>\n",
       "      <td>0.424624</td>\n",
       "      <td>SAGEConv</td>\n",
       "      <td>32</td>\n",
       "      <td>0.005</td>\n",
       "    </tr>\n",
       "    <tr>\n",
       "      <th>8</th>\n",
       "      <td>2.244836</td>\n",
       "      <td>1.309098</td>\n",
       "      <td>1.329747</td>\n",
       "      <td>1.291823</td>\n",
       "      <td>1.309098</td>\n",
       "      <td>1.329747</td>\n",
       "      <td>1.291823</td>\n",
       "      <td>0.241752</td>\n",
       "      <td>GATConv</td>\n",
       "      <td>32</td>\n",
       "      <td>0.010</td>\n",
       "    </tr>\n",
       "    <tr>\n",
       "      <th>9</th>\n",
       "      <td>1.907324</td>\n",
       "      <td>1.194591</td>\n",
       "      <td>1.192610</td>\n",
       "      <td>1.193682</td>\n",
       "      <td>1.194591</td>\n",
       "      <td>1.192610</td>\n",
       "      <td>1.193682</td>\n",
       "      <td>0.463669</td>\n",
       "      <td>SAGEConv</td>\n",
       "      <td>32</td>\n",
       "      <td>0.010</td>\n",
       "    </tr>\n",
       "    <tr>\n",
       "      <th>10</th>\n",
       "      <td>2.143635</td>\n",
       "      <td>1.382311</td>\n",
       "      <td>1.385006</td>\n",
       "      <td>1.417258</td>\n",
       "      <td>1.382311</td>\n",
       "      <td>1.385006</td>\n",
       "      <td>1.417258</td>\n",
       "      <td>0.239894</td>\n",
       "      <td>GATConv</td>\n",
       "      <td>32</td>\n",
       "      <td>0.050</td>\n",
       "    </tr>\n",
       "    <tr>\n",
       "      <th>11</th>\n",
       "      <td>1.967347</td>\n",
       "      <td>1.185745</td>\n",
       "      <td>1.187492</td>\n",
       "      <td>1.191820</td>\n",
       "      <td>1.185745</td>\n",
       "      <td>1.187492</td>\n",
       "      <td>1.191820</td>\n",
       "      <td>0.481373</td>\n",
       "      <td>SAGEConv</td>\n",
       "      <td>32</td>\n",
       "      <td>0.050</td>\n",
       "    </tr>\n",
       "    <tr>\n",
       "      <th>12</th>\n",
       "      <td>2.347088</td>\n",
       "      <td>1.287252</td>\n",
       "      <td>1.319679</td>\n",
       "      <td>1.326226</td>\n",
       "      <td>1.287252</td>\n",
       "      <td>1.319679</td>\n",
       "      <td>1.326226</td>\n",
       "      <td>0.412187</td>\n",
       "      <td>GATConv</td>\n",
       "      <td>64</td>\n",
       "      <td>0.005</td>\n",
       "    </tr>\n",
       "    <tr>\n",
       "      <th>13</th>\n",
       "      <td>1.907050</td>\n",
       "      <td>1.184614</td>\n",
       "      <td>1.184296</td>\n",
       "      <td>1.185819</td>\n",
       "      <td>1.184614</td>\n",
       "      <td>1.184296</td>\n",
       "      <td>1.185819</td>\n",
       "      <td>0.486634</td>\n",
       "      <td>SAGEConv</td>\n",
       "      <td>64</td>\n",
       "      <td>0.005</td>\n",
       "    </tr>\n",
       "    <tr>\n",
       "      <th>14</th>\n",
       "      <td>2.088756</td>\n",
       "      <td>1.270734</td>\n",
       "      <td>1.263481</td>\n",
       "      <td>1.355736</td>\n",
       "      <td>1.270734</td>\n",
       "      <td>1.263481</td>\n",
       "      <td>1.355736</td>\n",
       "      <td>0.438668</td>\n",
       "      <td>GATConv</td>\n",
       "      <td>64</td>\n",
       "      <td>0.010</td>\n",
       "    </tr>\n",
       "    <tr>\n",
       "      <th>15</th>\n",
       "      <td>1.852770</td>\n",
       "      <td>1.142838</td>\n",
       "      <td>1.148923</td>\n",
       "      <td>1.150611</td>\n",
       "      <td>1.142838</td>\n",
       "      <td>1.148923</td>\n",
       "      <td>1.150611</td>\n",
       "      <td>0.577445</td>\n",
       "      <td>SAGEConv</td>\n",
       "      <td>64</td>\n",
       "      <td>0.010</td>\n",
       "    </tr>\n",
       "    <tr>\n",
       "      <th>16</th>\n",
       "      <td>2.039817</td>\n",
       "      <td>1.085559</td>\n",
       "      <td>1.191846</td>\n",
       "      <td>1.197255</td>\n",
       "      <td>1.085559</td>\n",
       "      <td>1.191846</td>\n",
       "      <td>1.197255</td>\n",
       "      <td>0.413250</td>\n",
       "      <td>GATConv</td>\n",
       "      <td>64</td>\n",
       "      <td>0.050</td>\n",
       "    </tr>\n",
       "  </tbody>\n",
       "</table>\n",
       "</div>"
      ],
      "text/plain": [
       "        loss  train_rmse  val_rmse  test_rmse  train_wrmse  val_wrmse  \\\n",
       "0   2.450284    1.304201  1.348433   1.347838     1.304201   1.348433   \n",
       "1   2.199547    1.266163  1.267525   1.275587     1.266163   1.267525   \n",
       "2   2.348879    1.280352  1.322590   1.318935     1.280352   1.322590   \n",
       "3   1.894977    1.187023  1.185236   1.189817     1.187023   1.185236   \n",
       "4   2.072306    1.137587  1.150139   1.127268     1.137587   1.150139   \n",
       "5   1.756259    1.095855  1.131961   1.124050     1.095855   1.131961   \n",
       "6   2.393313    1.296184  1.333969   1.334517     1.296184   1.333969   \n",
       "7   1.952181    1.170570  1.166871   1.173838     1.170570   1.166871   \n",
       "8   2.244836    1.309098  1.329747   1.291823     1.309098   1.329747   \n",
       "9   1.907324    1.194591  1.192610   1.193682     1.194591   1.192610   \n",
       "10  2.143635    1.382311  1.385006   1.417258     1.382311   1.385006   \n",
       "11  1.967347    1.185745  1.187492   1.191820     1.185745   1.187492   \n",
       "12  2.347088    1.287252  1.319679   1.326226     1.287252   1.319679   \n",
       "13  1.907050    1.184614  1.184296   1.185819     1.184614   1.184296   \n",
       "14  2.088756    1.270734  1.263481   1.355736     1.270734   1.263481   \n",
       "15  1.852770    1.142838  1.148923   1.150611     1.142838   1.148923   \n",
       "16  2.039817    1.085559  1.191846   1.197255     1.085559   1.191846   \n",
       "\n",
       "    test_wrmse      time     model  hc     lr  \n",
       "0     1.347838  0.185396   GATConv  16  0.005  \n",
       "1     1.275587  0.403496  SAGEConv  16  0.005  \n",
       "2     1.318935  0.176415   GATConv  16  0.010  \n",
       "3     1.189817  0.386870  SAGEConv  16  0.010  \n",
       "4     1.127268  0.189843   GATConv  16  0.050  \n",
       "5     1.124050  0.368111  SAGEConv  16  0.050  \n",
       "6     1.334517  0.251543   GATConv  32  0.005  \n",
       "7     1.173838  0.424624  SAGEConv  32  0.005  \n",
       "8     1.291823  0.241752   GATConv  32  0.010  \n",
       "9     1.193682  0.463669  SAGEConv  32  0.010  \n",
       "10    1.417258  0.239894   GATConv  32  0.050  \n",
       "11    1.191820  0.481373  SAGEConv  32  0.050  \n",
       "12    1.326226  0.412187   GATConv  64  0.005  \n",
       "13    1.185819  0.486634  SAGEConv  64  0.005  \n",
       "14    1.355736  0.438668   GATConv  64  0.010  \n",
       "15    1.150611  0.577445  SAGEConv  64  0.010  \n",
       "16    1.197255  0.413250   GATConv  64  0.050  "
      ]
     },
     "metadata": {},
     "output_type": "display_data"
    },
    {
     "name": "stdout",
     "output_type": "stream",
     "text": [
      "Sc: 18/18\n",
      "{'hidden_channels': 64, 'learning_rate': 0.05, 'conv': 'SAGEConv'}\n",
      "output GNNEncoder(\n",
      "  (conv1): SAGEConv((-1, -1), 64, aggr=mean)\n",
      "  (conv2): SAGEConv((-1, -1), 64, aggr=mean)\n",
      ")\n",
      "Early stopping\n"
     ]
    },
    {
     "data": {
      "text/html": [
       "<div>\n",
       "<style scoped>\n",
       "    .dataframe tbody tr th:only-of-type {\n",
       "        vertical-align: middle;\n",
       "    }\n",
       "\n",
       "    .dataframe tbody tr th {\n",
       "        vertical-align: top;\n",
       "    }\n",
       "\n",
       "    .dataframe thead th {\n",
       "        text-align: right;\n",
       "    }\n",
       "</style>\n",
       "<table border=\"1\" class=\"dataframe\">\n",
       "  <thead>\n",
       "    <tr style=\"text-align: right;\">\n",
       "      <th></th>\n",
       "      <th>loss</th>\n",
       "      <th>train_rmse</th>\n",
       "      <th>val_rmse</th>\n",
       "      <th>test_rmse</th>\n",
       "      <th>train_wrmse</th>\n",
       "      <th>val_wrmse</th>\n",
       "      <th>test_wrmse</th>\n",
       "      <th>time</th>\n",
       "      <th>model</th>\n",
       "      <th>hc</th>\n",
       "      <th>lr</th>\n",
       "    </tr>\n",
       "  </thead>\n",
       "  <tbody>\n",
       "    <tr>\n",
       "      <th>0</th>\n",
       "      <td>2.450284</td>\n",
       "      <td>1.304201</td>\n",
       "      <td>1.348433</td>\n",
       "      <td>1.347838</td>\n",
       "      <td>1.304201</td>\n",
       "      <td>1.348433</td>\n",
       "      <td>1.347838</td>\n",
       "      <td>0.185396</td>\n",
       "      <td>GATConv</td>\n",
       "      <td>16</td>\n",
       "      <td>0.005</td>\n",
       "    </tr>\n",
       "    <tr>\n",
       "      <th>1</th>\n",
       "      <td>2.199547</td>\n",
       "      <td>1.266163</td>\n",
       "      <td>1.267525</td>\n",
       "      <td>1.275587</td>\n",
       "      <td>1.266163</td>\n",
       "      <td>1.267525</td>\n",
       "      <td>1.275587</td>\n",
       "      <td>0.403496</td>\n",
       "      <td>SAGEConv</td>\n",
       "      <td>16</td>\n",
       "      <td>0.005</td>\n",
       "    </tr>\n",
       "    <tr>\n",
       "      <th>2</th>\n",
       "      <td>2.348879</td>\n",
       "      <td>1.280352</td>\n",
       "      <td>1.322590</td>\n",
       "      <td>1.318935</td>\n",
       "      <td>1.280352</td>\n",
       "      <td>1.322590</td>\n",
       "      <td>1.318935</td>\n",
       "      <td>0.176415</td>\n",
       "      <td>GATConv</td>\n",
       "      <td>16</td>\n",
       "      <td>0.010</td>\n",
       "    </tr>\n",
       "    <tr>\n",
       "      <th>3</th>\n",
       "      <td>1.894977</td>\n",
       "      <td>1.187023</td>\n",
       "      <td>1.185236</td>\n",
       "      <td>1.189817</td>\n",
       "      <td>1.187023</td>\n",
       "      <td>1.185236</td>\n",
       "      <td>1.189817</td>\n",
       "      <td>0.386870</td>\n",
       "      <td>SAGEConv</td>\n",
       "      <td>16</td>\n",
       "      <td>0.010</td>\n",
       "    </tr>\n",
       "    <tr>\n",
       "      <th>4</th>\n",
       "      <td>2.072306</td>\n",
       "      <td>1.137587</td>\n",
       "      <td>1.150139</td>\n",
       "      <td>1.127268</td>\n",
       "      <td>1.137587</td>\n",
       "      <td>1.150139</td>\n",
       "      <td>1.127268</td>\n",
       "      <td>0.189843</td>\n",
       "      <td>GATConv</td>\n",
       "      <td>16</td>\n",
       "      <td>0.050</td>\n",
       "    </tr>\n",
       "    <tr>\n",
       "      <th>5</th>\n",
       "      <td>1.756259</td>\n",
       "      <td>1.095855</td>\n",
       "      <td>1.131961</td>\n",
       "      <td>1.124050</td>\n",
       "      <td>1.095855</td>\n",
       "      <td>1.131961</td>\n",
       "      <td>1.124050</td>\n",
       "      <td>0.368111</td>\n",
       "      <td>SAGEConv</td>\n",
       "      <td>16</td>\n",
       "      <td>0.050</td>\n",
       "    </tr>\n",
       "    <tr>\n",
       "      <th>6</th>\n",
       "      <td>2.393313</td>\n",
       "      <td>1.296184</td>\n",
       "      <td>1.333969</td>\n",
       "      <td>1.334517</td>\n",
       "      <td>1.296184</td>\n",
       "      <td>1.333969</td>\n",
       "      <td>1.334517</td>\n",
       "      <td>0.251543</td>\n",
       "      <td>GATConv</td>\n",
       "      <td>32</td>\n",
       "      <td>0.005</td>\n",
       "    </tr>\n",
       "    <tr>\n",
       "      <th>7</th>\n",
       "      <td>1.952181</td>\n",
       "      <td>1.170570</td>\n",
       "      <td>1.166871</td>\n",
       "      <td>1.173838</td>\n",
       "      <td>1.170570</td>\n",
       "      <td>1.166871</td>\n",
       "      <td>1.173838</td>\n",
       "      <td>0.424624</td>\n",
       "      <td>SAGEConv</td>\n",
       "      <td>32</td>\n",
       "      <td>0.005</td>\n",
       "    </tr>\n",
       "    <tr>\n",
       "      <th>8</th>\n",
       "      <td>2.244836</td>\n",
       "      <td>1.309098</td>\n",
       "      <td>1.329747</td>\n",
       "      <td>1.291823</td>\n",
       "      <td>1.309098</td>\n",
       "      <td>1.329747</td>\n",
       "      <td>1.291823</td>\n",
       "      <td>0.241752</td>\n",
       "      <td>GATConv</td>\n",
       "      <td>32</td>\n",
       "      <td>0.010</td>\n",
       "    </tr>\n",
       "    <tr>\n",
       "      <th>9</th>\n",
       "      <td>1.907324</td>\n",
       "      <td>1.194591</td>\n",
       "      <td>1.192610</td>\n",
       "      <td>1.193682</td>\n",
       "      <td>1.194591</td>\n",
       "      <td>1.192610</td>\n",
       "      <td>1.193682</td>\n",
       "      <td>0.463669</td>\n",
       "      <td>SAGEConv</td>\n",
       "      <td>32</td>\n",
       "      <td>0.010</td>\n",
       "    </tr>\n",
       "    <tr>\n",
       "      <th>10</th>\n",
       "      <td>2.143635</td>\n",
       "      <td>1.382311</td>\n",
       "      <td>1.385006</td>\n",
       "      <td>1.417258</td>\n",
       "      <td>1.382311</td>\n",
       "      <td>1.385006</td>\n",
       "      <td>1.417258</td>\n",
       "      <td>0.239894</td>\n",
       "      <td>GATConv</td>\n",
       "      <td>32</td>\n",
       "      <td>0.050</td>\n",
       "    </tr>\n",
       "    <tr>\n",
       "      <th>11</th>\n",
       "      <td>1.967347</td>\n",
       "      <td>1.185745</td>\n",
       "      <td>1.187492</td>\n",
       "      <td>1.191820</td>\n",
       "      <td>1.185745</td>\n",
       "      <td>1.187492</td>\n",
       "      <td>1.191820</td>\n",
       "      <td>0.481373</td>\n",
       "      <td>SAGEConv</td>\n",
       "      <td>32</td>\n",
       "      <td>0.050</td>\n",
       "    </tr>\n",
       "    <tr>\n",
       "      <th>12</th>\n",
       "      <td>2.347088</td>\n",
       "      <td>1.287252</td>\n",
       "      <td>1.319679</td>\n",
       "      <td>1.326226</td>\n",
       "      <td>1.287252</td>\n",
       "      <td>1.319679</td>\n",
       "      <td>1.326226</td>\n",
       "      <td>0.412187</td>\n",
       "      <td>GATConv</td>\n",
       "      <td>64</td>\n",
       "      <td>0.005</td>\n",
       "    </tr>\n",
       "    <tr>\n",
       "      <th>13</th>\n",
       "      <td>1.907050</td>\n",
       "      <td>1.184614</td>\n",
       "      <td>1.184296</td>\n",
       "      <td>1.185819</td>\n",
       "      <td>1.184614</td>\n",
       "      <td>1.184296</td>\n",
       "      <td>1.185819</td>\n",
       "      <td>0.486634</td>\n",
       "      <td>SAGEConv</td>\n",
       "      <td>64</td>\n",
       "      <td>0.005</td>\n",
       "    </tr>\n",
       "    <tr>\n",
       "      <th>14</th>\n",
       "      <td>2.088756</td>\n",
       "      <td>1.270734</td>\n",
       "      <td>1.263481</td>\n",
       "      <td>1.355736</td>\n",
       "      <td>1.270734</td>\n",
       "      <td>1.263481</td>\n",
       "      <td>1.355736</td>\n",
       "      <td>0.438668</td>\n",
       "      <td>GATConv</td>\n",
       "      <td>64</td>\n",
       "      <td>0.010</td>\n",
       "    </tr>\n",
       "    <tr>\n",
       "      <th>15</th>\n",
       "      <td>1.852770</td>\n",
       "      <td>1.142838</td>\n",
       "      <td>1.148923</td>\n",
       "      <td>1.150611</td>\n",
       "      <td>1.142838</td>\n",
       "      <td>1.148923</td>\n",
       "      <td>1.150611</td>\n",
       "      <td>0.577445</td>\n",
       "      <td>SAGEConv</td>\n",
       "      <td>64</td>\n",
       "      <td>0.010</td>\n",
       "    </tr>\n",
       "    <tr>\n",
       "      <th>16</th>\n",
       "      <td>2.039817</td>\n",
       "      <td>1.085559</td>\n",
       "      <td>1.191846</td>\n",
       "      <td>1.197255</td>\n",
       "      <td>1.085559</td>\n",
       "      <td>1.191846</td>\n",
       "      <td>1.197255</td>\n",
       "      <td>0.413250</td>\n",
       "      <td>GATConv</td>\n",
       "      <td>64</td>\n",
       "      <td>0.050</td>\n",
       "    </tr>\n",
       "    <tr>\n",
       "      <th>17</th>\n",
       "      <td>2.486381</td>\n",
       "      <td>1.382491</td>\n",
       "      <td>1.371847</td>\n",
       "      <td>1.376897</td>\n",
       "      <td>1.382491</td>\n",
       "      <td>1.371847</td>\n",
       "      <td>1.376897</td>\n",
       "      <td>0.587888</td>\n",
       "      <td>SAGEConv</td>\n",
       "      <td>64</td>\n",
       "      <td>0.050</td>\n",
       "    </tr>\n",
       "  </tbody>\n",
       "</table>\n",
       "</div>"
      ],
      "text/plain": [
       "        loss  train_rmse  val_rmse  test_rmse  train_wrmse  val_wrmse  \\\n",
       "0   2.450284    1.304201  1.348433   1.347838     1.304201   1.348433   \n",
       "1   2.199547    1.266163  1.267525   1.275587     1.266163   1.267525   \n",
       "2   2.348879    1.280352  1.322590   1.318935     1.280352   1.322590   \n",
       "3   1.894977    1.187023  1.185236   1.189817     1.187023   1.185236   \n",
       "4   2.072306    1.137587  1.150139   1.127268     1.137587   1.150139   \n",
       "5   1.756259    1.095855  1.131961   1.124050     1.095855   1.131961   \n",
       "6   2.393313    1.296184  1.333969   1.334517     1.296184   1.333969   \n",
       "7   1.952181    1.170570  1.166871   1.173838     1.170570   1.166871   \n",
       "8   2.244836    1.309098  1.329747   1.291823     1.309098   1.329747   \n",
       "9   1.907324    1.194591  1.192610   1.193682     1.194591   1.192610   \n",
       "10  2.143635    1.382311  1.385006   1.417258     1.382311   1.385006   \n",
       "11  1.967347    1.185745  1.187492   1.191820     1.185745   1.187492   \n",
       "12  2.347088    1.287252  1.319679   1.326226     1.287252   1.319679   \n",
       "13  1.907050    1.184614  1.184296   1.185819     1.184614   1.184296   \n",
       "14  2.088756    1.270734  1.263481   1.355736     1.270734   1.263481   \n",
       "15  1.852770    1.142838  1.148923   1.150611     1.142838   1.148923   \n",
       "16  2.039817    1.085559  1.191846   1.197255     1.085559   1.191846   \n",
       "17  2.486381    1.382491  1.371847   1.376897     1.382491   1.371847   \n",
       "\n",
       "    test_wrmse      time     model  hc     lr  \n",
       "0     1.347838  0.185396   GATConv  16  0.005  \n",
       "1     1.275587  0.403496  SAGEConv  16  0.005  \n",
       "2     1.318935  0.176415   GATConv  16  0.010  \n",
       "3     1.189817  0.386870  SAGEConv  16  0.010  \n",
       "4     1.127268  0.189843   GATConv  16  0.050  \n",
       "5     1.124050  0.368111  SAGEConv  16  0.050  \n",
       "6     1.334517  0.251543   GATConv  32  0.005  \n",
       "7     1.173838  0.424624  SAGEConv  32  0.005  \n",
       "8     1.291823  0.241752   GATConv  32  0.010  \n",
       "9     1.193682  0.463669  SAGEConv  32  0.010  \n",
       "10    1.417258  0.239894   GATConv  32  0.050  \n",
       "11    1.191820  0.481373  SAGEConv  32  0.050  \n",
       "12    1.326226  0.412187   GATConv  64  0.005  \n",
       "13    1.185819  0.486634  SAGEConv  64  0.005  \n",
       "14    1.355736  0.438668   GATConv  64  0.010  \n",
       "15    1.150611  0.577445  SAGEConv  64  0.010  \n",
       "16    1.197255  0.413250   GATConv  64  0.050  \n",
       "17    1.376897  0.587888  SAGEConv  64  0.050  "
      ]
     },
     "metadata": {},
     "output_type": "display_data"
    }
   ],
   "source": [
    "i=0\n",
    "\n",
    "for hc, lr, c in product(hidden_channels, learning_rates, convs):\n",
    "    print('Sc: {}/{}'.format(i+1, len(hidden_channels)*len(learning_rates)*len(convs)))\n",
    "    name_conv = str(c).split('.')[-1].replace('\\'>', \"\")\n",
    "    print({'hidden_channels':hc, 'learning_rate': lr, 'conv':name_conv})\n",
    "\n",
    "    model_params = {'hidden_channels':hc, 'conv':c}\n",
    "    results = train_test(\n",
    "        Model, model_params, learning_rate=lr, e_patience = E_PATIENCE)\n",
    "\n",
    "    results['model'] = name_conv\n",
    "    results['hc'] = hc\n",
    "    results['lr'] = lr\n",
    "\n",
    "    results_gnn = results.iloc[-1:] if i==0 else pd.concat([results_gnn, results.iloc[-1:]], axis=0)\n",
    "    results_gnn.reset_index(drop=True, inplace=True)\n",
    "\n",
    "    display(results_gnn)\n",
    "\n",
    "    i+=1\n",
    "\n",
    "cols = ['model', 'hc', 'lr']\n",
    "results_gnn = results_gnn[\n",
    "    cols+[c for c in results_gnn.columns if c not in cols]\n",
    "].sort_values(by='test_wrmse')"
   ]
  },
  {
   "cell_type": "code",
   "execution_count": 31,
   "metadata": {},
   "outputs": [
    {
     "data": {
      "text/html": [
       "<div>\n",
       "<style scoped>\n",
       "    .dataframe tbody tr th:only-of-type {\n",
       "        vertical-align: middle;\n",
       "    }\n",
       "\n",
       "    .dataframe tbody tr th {\n",
       "        vertical-align: top;\n",
       "    }\n",
       "\n",
       "    .dataframe thead th {\n",
       "        text-align: right;\n",
       "    }\n",
       "</style>\n",
       "<table border=\"1\" class=\"dataframe\">\n",
       "  <thead>\n",
       "    <tr style=\"text-align: right;\">\n",
       "      <th></th>\n",
       "      <th>model</th>\n",
       "      <th>hc</th>\n",
       "      <th>lr</th>\n",
       "      <th>loss</th>\n",
       "      <th>train_rmse</th>\n",
       "      <th>val_rmse</th>\n",
       "      <th>test_rmse</th>\n",
       "      <th>train_wrmse</th>\n",
       "      <th>val_wrmse</th>\n",
       "      <th>test_wrmse</th>\n",
       "      <th>time</th>\n",
       "    </tr>\n",
       "  </thead>\n",
       "  <tbody>\n",
       "    <tr>\n",
       "      <th>5</th>\n",
       "      <td>SAGEConv</td>\n",
       "      <td>16</td>\n",
       "      <td>0.050</td>\n",
       "      <td>1.756259</td>\n",
       "      <td>1.095855</td>\n",
       "      <td>1.131961</td>\n",
       "      <td>1.124050</td>\n",
       "      <td>1.095855</td>\n",
       "      <td>1.131961</td>\n",
       "      <td>1.124050</td>\n",
       "      <td>0.368111</td>\n",
       "    </tr>\n",
       "    <tr>\n",
       "      <th>4</th>\n",
       "      <td>GATConv</td>\n",
       "      <td>16</td>\n",
       "      <td>0.050</td>\n",
       "      <td>2.072306</td>\n",
       "      <td>1.137587</td>\n",
       "      <td>1.150139</td>\n",
       "      <td>1.127268</td>\n",
       "      <td>1.137587</td>\n",
       "      <td>1.150139</td>\n",
       "      <td>1.127268</td>\n",
       "      <td>0.189843</td>\n",
       "    </tr>\n",
       "    <tr>\n",
       "      <th>15</th>\n",
       "      <td>SAGEConv</td>\n",
       "      <td>64</td>\n",
       "      <td>0.010</td>\n",
       "      <td>1.852770</td>\n",
       "      <td>1.142838</td>\n",
       "      <td>1.148923</td>\n",
       "      <td>1.150611</td>\n",
       "      <td>1.142838</td>\n",
       "      <td>1.148923</td>\n",
       "      <td>1.150611</td>\n",
       "      <td>0.577445</td>\n",
       "    </tr>\n",
       "    <tr>\n",
       "      <th>7</th>\n",
       "      <td>SAGEConv</td>\n",
       "      <td>32</td>\n",
       "      <td>0.005</td>\n",
       "      <td>1.952181</td>\n",
       "      <td>1.170570</td>\n",
       "      <td>1.166871</td>\n",
       "      <td>1.173838</td>\n",
       "      <td>1.170570</td>\n",
       "      <td>1.166871</td>\n",
       "      <td>1.173838</td>\n",
       "      <td>0.424624</td>\n",
       "    </tr>\n",
       "    <tr>\n",
       "      <th>13</th>\n",
       "      <td>SAGEConv</td>\n",
       "      <td>64</td>\n",
       "      <td>0.005</td>\n",
       "      <td>1.907050</td>\n",
       "      <td>1.184614</td>\n",
       "      <td>1.184296</td>\n",
       "      <td>1.185819</td>\n",
       "      <td>1.184614</td>\n",
       "      <td>1.184296</td>\n",
       "      <td>1.185819</td>\n",
       "      <td>0.486634</td>\n",
       "    </tr>\n",
       "    <tr>\n",
       "      <th>3</th>\n",
       "      <td>SAGEConv</td>\n",
       "      <td>16</td>\n",
       "      <td>0.010</td>\n",
       "      <td>1.894977</td>\n",
       "      <td>1.187023</td>\n",
       "      <td>1.185236</td>\n",
       "      <td>1.189817</td>\n",
       "      <td>1.187023</td>\n",
       "      <td>1.185236</td>\n",
       "      <td>1.189817</td>\n",
       "      <td>0.386870</td>\n",
       "    </tr>\n",
       "    <tr>\n",
       "      <th>11</th>\n",
       "      <td>SAGEConv</td>\n",
       "      <td>32</td>\n",
       "      <td>0.050</td>\n",
       "      <td>1.967347</td>\n",
       "      <td>1.185745</td>\n",
       "      <td>1.187492</td>\n",
       "      <td>1.191820</td>\n",
       "      <td>1.185745</td>\n",
       "      <td>1.187492</td>\n",
       "      <td>1.191820</td>\n",
       "      <td>0.481373</td>\n",
       "    </tr>\n",
       "    <tr>\n",
       "      <th>9</th>\n",
       "      <td>SAGEConv</td>\n",
       "      <td>32</td>\n",
       "      <td>0.010</td>\n",
       "      <td>1.907324</td>\n",
       "      <td>1.194591</td>\n",
       "      <td>1.192610</td>\n",
       "      <td>1.193682</td>\n",
       "      <td>1.194591</td>\n",
       "      <td>1.192610</td>\n",
       "      <td>1.193682</td>\n",
       "      <td>0.463669</td>\n",
       "    </tr>\n",
       "    <tr>\n",
       "      <th>16</th>\n",
       "      <td>GATConv</td>\n",
       "      <td>64</td>\n",
       "      <td>0.050</td>\n",
       "      <td>2.039817</td>\n",
       "      <td>1.085559</td>\n",
       "      <td>1.191846</td>\n",
       "      <td>1.197255</td>\n",
       "      <td>1.085559</td>\n",
       "      <td>1.191846</td>\n",
       "      <td>1.197255</td>\n",
       "      <td>0.413250</td>\n",
       "    </tr>\n",
       "    <tr>\n",
       "      <th>1</th>\n",
       "      <td>SAGEConv</td>\n",
       "      <td>16</td>\n",
       "      <td>0.005</td>\n",
       "      <td>2.199547</td>\n",
       "      <td>1.266163</td>\n",
       "      <td>1.267525</td>\n",
       "      <td>1.275587</td>\n",
       "      <td>1.266163</td>\n",
       "      <td>1.267525</td>\n",
       "      <td>1.275587</td>\n",
       "      <td>0.403496</td>\n",
       "    </tr>\n",
       "    <tr>\n",
       "      <th>8</th>\n",
       "      <td>GATConv</td>\n",
       "      <td>32</td>\n",
       "      <td>0.010</td>\n",
       "      <td>2.244836</td>\n",
       "      <td>1.309098</td>\n",
       "      <td>1.329747</td>\n",
       "      <td>1.291823</td>\n",
       "      <td>1.309098</td>\n",
       "      <td>1.329747</td>\n",
       "      <td>1.291823</td>\n",
       "      <td>0.241752</td>\n",
       "    </tr>\n",
       "    <tr>\n",
       "      <th>2</th>\n",
       "      <td>GATConv</td>\n",
       "      <td>16</td>\n",
       "      <td>0.010</td>\n",
       "      <td>2.348879</td>\n",
       "      <td>1.280352</td>\n",
       "      <td>1.322590</td>\n",
       "      <td>1.318935</td>\n",
       "      <td>1.280352</td>\n",
       "      <td>1.322590</td>\n",
       "      <td>1.318935</td>\n",
       "      <td>0.176415</td>\n",
       "    </tr>\n",
       "    <tr>\n",
       "      <th>12</th>\n",
       "      <td>GATConv</td>\n",
       "      <td>64</td>\n",
       "      <td>0.005</td>\n",
       "      <td>2.347088</td>\n",
       "      <td>1.287252</td>\n",
       "      <td>1.319679</td>\n",
       "      <td>1.326226</td>\n",
       "      <td>1.287252</td>\n",
       "      <td>1.319679</td>\n",
       "      <td>1.326226</td>\n",
       "      <td>0.412187</td>\n",
       "    </tr>\n",
       "    <tr>\n",
       "      <th>6</th>\n",
       "      <td>GATConv</td>\n",
       "      <td>32</td>\n",
       "      <td>0.005</td>\n",
       "      <td>2.393313</td>\n",
       "      <td>1.296184</td>\n",
       "      <td>1.333969</td>\n",
       "      <td>1.334517</td>\n",
       "      <td>1.296184</td>\n",
       "      <td>1.333969</td>\n",
       "      <td>1.334517</td>\n",
       "      <td>0.251543</td>\n",
       "    </tr>\n",
       "    <tr>\n",
       "      <th>0</th>\n",
       "      <td>GATConv</td>\n",
       "      <td>16</td>\n",
       "      <td>0.005</td>\n",
       "      <td>2.450284</td>\n",
       "      <td>1.304201</td>\n",
       "      <td>1.348433</td>\n",
       "      <td>1.347838</td>\n",
       "      <td>1.304201</td>\n",
       "      <td>1.348433</td>\n",
       "      <td>1.347838</td>\n",
       "      <td>0.185396</td>\n",
       "    </tr>\n",
       "    <tr>\n",
       "      <th>14</th>\n",
       "      <td>GATConv</td>\n",
       "      <td>64</td>\n",
       "      <td>0.010</td>\n",
       "      <td>2.088756</td>\n",
       "      <td>1.270734</td>\n",
       "      <td>1.263481</td>\n",
       "      <td>1.355736</td>\n",
       "      <td>1.270734</td>\n",
       "      <td>1.263481</td>\n",
       "      <td>1.355736</td>\n",
       "      <td>0.438668</td>\n",
       "    </tr>\n",
       "    <tr>\n",
       "      <th>17</th>\n",
       "      <td>SAGEConv</td>\n",
       "      <td>64</td>\n",
       "      <td>0.050</td>\n",
       "      <td>2.486381</td>\n",
       "      <td>1.382491</td>\n",
       "      <td>1.371847</td>\n",
       "      <td>1.376897</td>\n",
       "      <td>1.382491</td>\n",
       "      <td>1.371847</td>\n",
       "      <td>1.376897</td>\n",
       "      <td>0.587888</td>\n",
       "    </tr>\n",
       "    <tr>\n",
       "      <th>10</th>\n",
       "      <td>GATConv</td>\n",
       "      <td>32</td>\n",
       "      <td>0.050</td>\n",
       "      <td>2.143635</td>\n",
       "      <td>1.382311</td>\n",
       "      <td>1.385006</td>\n",
       "      <td>1.417258</td>\n",
       "      <td>1.382311</td>\n",
       "      <td>1.385006</td>\n",
       "      <td>1.417258</td>\n",
       "      <td>0.239894</td>\n",
       "    </tr>\n",
       "  </tbody>\n",
       "</table>\n",
       "</div>"
      ],
      "text/plain": [
       "       model  hc     lr      loss  train_rmse  val_rmse  test_rmse  \\\n",
       "5   SAGEConv  16  0.050  1.756259    1.095855  1.131961   1.124050   \n",
       "4    GATConv  16  0.050  2.072306    1.137587  1.150139   1.127268   \n",
       "15  SAGEConv  64  0.010  1.852770    1.142838  1.148923   1.150611   \n",
       "7   SAGEConv  32  0.005  1.952181    1.170570  1.166871   1.173838   \n",
       "13  SAGEConv  64  0.005  1.907050    1.184614  1.184296   1.185819   \n",
       "3   SAGEConv  16  0.010  1.894977    1.187023  1.185236   1.189817   \n",
       "11  SAGEConv  32  0.050  1.967347    1.185745  1.187492   1.191820   \n",
       "9   SAGEConv  32  0.010  1.907324    1.194591  1.192610   1.193682   \n",
       "16   GATConv  64  0.050  2.039817    1.085559  1.191846   1.197255   \n",
       "1   SAGEConv  16  0.005  2.199547    1.266163  1.267525   1.275587   \n",
       "8    GATConv  32  0.010  2.244836    1.309098  1.329747   1.291823   \n",
       "2    GATConv  16  0.010  2.348879    1.280352  1.322590   1.318935   \n",
       "12   GATConv  64  0.005  2.347088    1.287252  1.319679   1.326226   \n",
       "6    GATConv  32  0.005  2.393313    1.296184  1.333969   1.334517   \n",
       "0    GATConv  16  0.005  2.450284    1.304201  1.348433   1.347838   \n",
       "14   GATConv  64  0.010  2.088756    1.270734  1.263481   1.355736   \n",
       "17  SAGEConv  64  0.050  2.486381    1.382491  1.371847   1.376897   \n",
       "10   GATConv  32  0.050  2.143635    1.382311  1.385006   1.417258   \n",
       "\n",
       "    train_wrmse  val_wrmse  test_wrmse      time  \n",
       "5      1.095855   1.131961    1.124050  0.368111  \n",
       "4      1.137587   1.150139    1.127268  0.189843  \n",
       "15     1.142838   1.148923    1.150611  0.577445  \n",
       "7      1.170570   1.166871    1.173838  0.424624  \n",
       "13     1.184614   1.184296    1.185819  0.486634  \n",
       "3      1.187023   1.185236    1.189817  0.386870  \n",
       "11     1.185745   1.187492    1.191820  0.481373  \n",
       "9      1.194591   1.192610    1.193682  0.463669  \n",
       "16     1.085559   1.191846    1.197255  0.413250  \n",
       "1      1.266163   1.267525    1.275587  0.403496  \n",
       "8      1.309098   1.329747    1.291823  0.241752  \n",
       "2      1.280352   1.322590    1.318935  0.176415  \n",
       "12     1.287252   1.319679    1.326226  0.412187  \n",
       "6      1.296184   1.333969    1.334517  0.251543  \n",
       "0      1.304201   1.348433    1.347838  0.185396  \n",
       "14     1.270734   1.263481    1.355736  0.438668  \n",
       "17     1.382491   1.371847    1.376897  0.587888  \n",
       "10     1.382311   1.385006    1.417258  0.239894  "
      ]
     },
     "execution_count": 31,
     "metadata": {},
     "output_type": "execute_result"
    }
   ],
   "source": [
    "results_gnn"
   ]
  },
  {
   "cell_type": "code",
   "execution_count": 32,
   "metadata": {},
   "outputs": [
    {
     "data": {
      "application/vnd.plotly.v1+json": {
       "config": {
        "plotlyServerURL": "https://plot.ly"
       },
       "data": [
        {
         "marker": {
          "color": "#404B69"
         },
         "name": "GATConv",
         "text": [
          "1.138",
          "1.127",
          "1.15"
         ],
         "textposition": "outside",
         "type": "bar",
         "x": [
          "train",
          "test",
          "val"
         ],
         "y": [
          1.1375871896743774,
          1.1272680759429932,
          1.1501387357711792
         ]
        },
        {
         "marker": {
          "color": "#F73859"
         },
         "name": "SAGEConv",
         "text": [
          "1.096",
          "1.124",
          "1.132"
         ],
         "textposition": "outside",
         "type": "bar",
         "x": [
          "train",
          "test",
          "val"
         ],
         "y": [
          1.0958549976348877,
          1.1240501403808594,
          1.1319612264633179
         ]
        }
       ],
       "layout": {
        "barmode": "group",
        "height": 400,
        "legend": {
         "orientation": "h",
         "x": 1,
         "xanchor": "right",
         "y": 1.02,
         "yanchor": "bottom"
        },
        "template": {
         "data": {
          "bar": [
           {
            "error_x": {
             "color": "#2a3f5f"
            },
            "error_y": {
             "color": "#2a3f5f"
            },
            "marker": {
             "line": {
              "color": "white",
              "width": 0.5
             },
             "pattern": {
              "fillmode": "overlay",
              "size": 10,
              "solidity": 0.2
             }
            },
            "type": "bar"
           }
          ],
          "barpolar": [
           {
            "marker": {
             "line": {
              "color": "white",
              "width": 0.5
             },
             "pattern": {
              "fillmode": "overlay",
              "size": 10,
              "solidity": 0.2
             }
            },
            "type": "barpolar"
           }
          ],
          "carpet": [
           {
            "aaxis": {
             "endlinecolor": "#2a3f5f",
             "gridcolor": "#C8D4E3",
             "linecolor": "#C8D4E3",
             "minorgridcolor": "#C8D4E3",
             "startlinecolor": "#2a3f5f"
            },
            "baxis": {
             "endlinecolor": "#2a3f5f",
             "gridcolor": "#C8D4E3",
             "linecolor": "#C8D4E3",
             "minorgridcolor": "#C8D4E3",
             "startlinecolor": "#2a3f5f"
            },
            "type": "carpet"
           }
          ],
          "choropleth": [
           {
            "colorbar": {
             "outlinewidth": 0,
             "ticks": ""
            },
            "type": "choropleth"
           }
          ],
          "contour": [
           {
            "colorbar": {
             "outlinewidth": 0,
             "ticks": ""
            },
            "colorscale": [
             [
              0,
              "#0d0887"
             ],
             [
              0.1111111111111111,
              "#46039f"
             ],
             [
              0.2222222222222222,
              "#7201a8"
             ],
             [
              0.3333333333333333,
              "#9c179e"
             ],
             [
              0.4444444444444444,
              "#bd3786"
             ],
             [
              0.5555555555555556,
              "#d8576b"
             ],
             [
              0.6666666666666666,
              "#ed7953"
             ],
             [
              0.7777777777777778,
              "#fb9f3a"
             ],
             [
              0.8888888888888888,
              "#fdca26"
             ],
             [
              1,
              "#f0f921"
             ]
            ],
            "type": "contour"
           }
          ],
          "contourcarpet": [
           {
            "colorbar": {
             "outlinewidth": 0,
             "ticks": ""
            },
            "type": "contourcarpet"
           }
          ],
          "heatmap": [
           {
            "colorbar": {
             "outlinewidth": 0,
             "ticks": ""
            },
            "colorscale": [
             [
              0,
              "#0d0887"
             ],
             [
              0.1111111111111111,
              "#46039f"
             ],
             [
              0.2222222222222222,
              "#7201a8"
             ],
             [
              0.3333333333333333,
              "#9c179e"
             ],
             [
              0.4444444444444444,
              "#bd3786"
             ],
             [
              0.5555555555555556,
              "#d8576b"
             ],
             [
              0.6666666666666666,
              "#ed7953"
             ],
             [
              0.7777777777777778,
              "#fb9f3a"
             ],
             [
              0.8888888888888888,
              "#fdca26"
             ],
             [
              1,
              "#f0f921"
             ]
            ],
            "type": "heatmap"
           }
          ],
          "heatmapgl": [
           {
            "colorbar": {
             "outlinewidth": 0,
             "ticks": ""
            },
            "colorscale": [
             [
              0,
              "#0d0887"
             ],
             [
              0.1111111111111111,
              "#46039f"
             ],
             [
              0.2222222222222222,
              "#7201a8"
             ],
             [
              0.3333333333333333,
              "#9c179e"
             ],
             [
              0.4444444444444444,
              "#bd3786"
             ],
             [
              0.5555555555555556,
              "#d8576b"
             ],
             [
              0.6666666666666666,
              "#ed7953"
             ],
             [
              0.7777777777777778,
              "#fb9f3a"
             ],
             [
              0.8888888888888888,
              "#fdca26"
             ],
             [
              1,
              "#f0f921"
             ]
            ],
            "type": "heatmapgl"
           }
          ],
          "histogram": [
           {
            "marker": {
             "pattern": {
              "fillmode": "overlay",
              "size": 10,
              "solidity": 0.2
             }
            },
            "type": "histogram"
           }
          ],
          "histogram2d": [
           {
            "colorbar": {
             "outlinewidth": 0,
             "ticks": ""
            },
            "colorscale": [
             [
              0,
              "#0d0887"
             ],
             [
              0.1111111111111111,
              "#46039f"
             ],
             [
              0.2222222222222222,
              "#7201a8"
             ],
             [
              0.3333333333333333,
              "#9c179e"
             ],
             [
              0.4444444444444444,
              "#bd3786"
             ],
             [
              0.5555555555555556,
              "#d8576b"
             ],
             [
              0.6666666666666666,
              "#ed7953"
             ],
             [
              0.7777777777777778,
              "#fb9f3a"
             ],
             [
              0.8888888888888888,
              "#fdca26"
             ],
             [
              1,
              "#f0f921"
             ]
            ],
            "type": "histogram2d"
           }
          ],
          "histogram2dcontour": [
           {
            "colorbar": {
             "outlinewidth": 0,
             "ticks": ""
            },
            "colorscale": [
             [
              0,
              "#0d0887"
             ],
             [
              0.1111111111111111,
              "#46039f"
             ],
             [
              0.2222222222222222,
              "#7201a8"
             ],
             [
              0.3333333333333333,
              "#9c179e"
             ],
             [
              0.4444444444444444,
              "#bd3786"
             ],
             [
              0.5555555555555556,
              "#d8576b"
             ],
             [
              0.6666666666666666,
              "#ed7953"
             ],
             [
              0.7777777777777778,
              "#fb9f3a"
             ],
             [
              0.8888888888888888,
              "#fdca26"
             ],
             [
              1,
              "#f0f921"
             ]
            ],
            "type": "histogram2dcontour"
           }
          ],
          "mesh3d": [
           {
            "colorbar": {
             "outlinewidth": 0,
             "ticks": ""
            },
            "type": "mesh3d"
           }
          ],
          "parcoords": [
           {
            "line": {
             "colorbar": {
              "outlinewidth": 0,
              "ticks": ""
             }
            },
            "type": "parcoords"
           }
          ],
          "pie": [
           {
            "automargin": true,
            "type": "pie"
           }
          ],
          "scatter": [
           {
            "fillpattern": {
             "fillmode": "overlay",
             "size": 10,
             "solidity": 0.2
            },
            "type": "scatter"
           }
          ],
          "scatter3d": [
           {
            "line": {
             "colorbar": {
              "outlinewidth": 0,
              "ticks": ""
             }
            },
            "marker": {
             "colorbar": {
              "outlinewidth": 0,
              "ticks": ""
             }
            },
            "type": "scatter3d"
           }
          ],
          "scattercarpet": [
           {
            "marker": {
             "colorbar": {
              "outlinewidth": 0,
              "ticks": ""
             }
            },
            "type": "scattercarpet"
           }
          ],
          "scattergeo": [
           {
            "marker": {
             "colorbar": {
              "outlinewidth": 0,
              "ticks": ""
             }
            },
            "type": "scattergeo"
           }
          ],
          "scattergl": [
           {
            "marker": {
             "colorbar": {
              "outlinewidth": 0,
              "ticks": ""
             }
            },
            "type": "scattergl"
           }
          ],
          "scattermapbox": [
           {
            "marker": {
             "colorbar": {
              "outlinewidth": 0,
              "ticks": ""
             }
            },
            "type": "scattermapbox"
           }
          ],
          "scatterpolar": [
           {
            "marker": {
             "colorbar": {
              "outlinewidth": 0,
              "ticks": ""
             }
            },
            "type": "scatterpolar"
           }
          ],
          "scatterpolargl": [
           {
            "marker": {
             "colorbar": {
              "outlinewidth": 0,
              "ticks": ""
             }
            },
            "type": "scatterpolargl"
           }
          ],
          "scatterternary": [
           {
            "marker": {
             "colorbar": {
              "outlinewidth": 0,
              "ticks": ""
             }
            },
            "type": "scatterternary"
           }
          ],
          "surface": [
           {
            "colorbar": {
             "outlinewidth": 0,
             "ticks": ""
            },
            "colorscale": [
             [
              0,
              "#0d0887"
             ],
             [
              0.1111111111111111,
              "#46039f"
             ],
             [
              0.2222222222222222,
              "#7201a8"
             ],
             [
              0.3333333333333333,
              "#9c179e"
             ],
             [
              0.4444444444444444,
              "#bd3786"
             ],
             [
              0.5555555555555556,
              "#d8576b"
             ],
             [
              0.6666666666666666,
              "#ed7953"
             ],
             [
              0.7777777777777778,
              "#fb9f3a"
             ],
             [
              0.8888888888888888,
              "#fdca26"
             ],
             [
              1,
              "#f0f921"
             ]
            ],
            "type": "surface"
           }
          ],
          "table": [
           {
            "cells": {
             "fill": {
              "color": "#EBF0F8"
             },
             "line": {
              "color": "white"
             }
            },
            "header": {
             "fill": {
              "color": "#C8D4E3"
             },
             "line": {
              "color": "white"
             }
            },
            "type": "table"
           }
          ]
         },
         "layout": {
          "annotationdefaults": {
           "arrowcolor": "#2a3f5f",
           "arrowhead": 0,
           "arrowwidth": 1
          },
          "autotypenumbers": "strict",
          "coloraxis": {
           "colorbar": {
            "outlinewidth": 0,
            "ticks": ""
           }
          },
          "colorscale": {
           "diverging": [
            [
             0,
             "#8e0152"
            ],
            [
             0.1,
             "#c51b7d"
            ],
            [
             0.2,
             "#de77ae"
            ],
            [
             0.3,
             "#f1b6da"
            ],
            [
             0.4,
             "#fde0ef"
            ],
            [
             0.5,
             "#f7f7f7"
            ],
            [
             0.6,
             "#e6f5d0"
            ],
            [
             0.7,
             "#b8e186"
            ],
            [
             0.8,
             "#7fbc41"
            ],
            [
             0.9,
             "#4d9221"
            ],
            [
             1,
             "#276419"
            ]
           ],
           "sequential": [
            [
             0,
             "#0d0887"
            ],
            [
             0.1111111111111111,
             "#46039f"
            ],
            [
             0.2222222222222222,
             "#7201a8"
            ],
            [
             0.3333333333333333,
             "#9c179e"
            ],
            [
             0.4444444444444444,
             "#bd3786"
            ],
            [
             0.5555555555555556,
             "#d8576b"
            ],
            [
             0.6666666666666666,
             "#ed7953"
            ],
            [
             0.7777777777777778,
             "#fb9f3a"
            ],
            [
             0.8888888888888888,
             "#fdca26"
            ],
            [
             1,
             "#f0f921"
            ]
           ],
           "sequentialminus": [
            [
             0,
             "#0d0887"
            ],
            [
             0.1111111111111111,
             "#46039f"
            ],
            [
             0.2222222222222222,
             "#7201a8"
            ],
            [
             0.3333333333333333,
             "#9c179e"
            ],
            [
             0.4444444444444444,
             "#bd3786"
            ],
            [
             0.5555555555555556,
             "#d8576b"
            ],
            [
             0.6666666666666666,
             "#ed7953"
            ],
            [
             0.7777777777777778,
             "#fb9f3a"
            ],
            [
             0.8888888888888888,
             "#fdca26"
            ],
            [
             1,
             "#f0f921"
            ]
           ]
          },
          "colorway": [
           "#636efa",
           "#EF553B",
           "#00cc96",
           "#ab63fa",
           "#FFA15A",
           "#19d3f3",
           "#FF6692",
           "#B6E880",
           "#FF97FF",
           "#FECB52"
          ],
          "font": {
           "color": "#2a3f5f"
          },
          "geo": {
           "bgcolor": "white",
           "lakecolor": "white",
           "landcolor": "white",
           "showlakes": true,
           "showland": true,
           "subunitcolor": "#C8D4E3"
          },
          "hoverlabel": {
           "align": "left"
          },
          "hovermode": "closest",
          "mapbox": {
           "style": "light"
          },
          "paper_bgcolor": "white",
          "plot_bgcolor": "white",
          "polar": {
           "angularaxis": {
            "gridcolor": "#EBF0F8",
            "linecolor": "#EBF0F8",
            "ticks": ""
           },
           "bgcolor": "white",
           "radialaxis": {
            "gridcolor": "#EBF0F8",
            "linecolor": "#EBF0F8",
            "ticks": ""
           }
          },
          "scene": {
           "xaxis": {
            "backgroundcolor": "white",
            "gridcolor": "#DFE8F3",
            "gridwidth": 2,
            "linecolor": "#EBF0F8",
            "showbackground": true,
            "ticks": "",
            "zerolinecolor": "#EBF0F8"
           },
           "yaxis": {
            "backgroundcolor": "white",
            "gridcolor": "#DFE8F3",
            "gridwidth": 2,
            "linecolor": "#EBF0F8",
            "showbackground": true,
            "ticks": "",
            "zerolinecolor": "#EBF0F8"
           },
           "zaxis": {
            "backgroundcolor": "white",
            "gridcolor": "#DFE8F3",
            "gridwidth": 2,
            "linecolor": "#EBF0F8",
            "showbackground": true,
            "ticks": "",
            "zerolinecolor": "#EBF0F8"
           }
          },
          "shapedefaults": {
           "line": {
            "color": "#2a3f5f"
           }
          },
          "ternary": {
           "aaxis": {
            "gridcolor": "#DFE8F3",
            "linecolor": "#A2B1C6",
            "ticks": ""
           },
           "baxis": {
            "gridcolor": "#DFE8F3",
            "linecolor": "#A2B1C6",
            "ticks": ""
           },
           "bgcolor": "white",
           "caxis": {
            "gridcolor": "#DFE8F3",
            "linecolor": "#A2B1C6",
            "ticks": ""
           }
          },
          "title": {
           "x": 0.05
          },
          "xaxis": {
           "automargin": true,
           "gridcolor": "#EBF0F8",
           "linecolor": "#EBF0F8",
           "ticks": "",
           "title": {
            "standoff": 15
           },
           "zerolinecolor": "#EBF0F8",
           "zerolinewidth": 2
          },
          "yaxis": {
           "automargin": true,
           "gridcolor": "#EBF0F8",
           "linecolor": "#EBF0F8",
           "ticks": "",
           "title": {
            "standoff": 15
           },
           "zerolinecolor": "#EBF0F8",
           "zerolinewidth": 2
          }
         }
        },
        "width": 800,
        "yaxis": {
         "range": [
          0,
          1.5
         ]
        }
       }
      }
     },
     "metadata": {},
     "output_type": "display_data"
    }
   ],
   "source": [
    "metric='wrmse'\n",
    "cols = ['train', 'test', 'val']\n",
    "\n",
    "table = results_gnn.groupby(['model'],as_index=False).agg(\n",
    "    {c+'_'+metric:'first' for c in cols})\n",
    "\n",
    "colors = ['#404B69', '#F73859', '#666d9b', '#ddddff', '#DBEDF3']\n",
    "\n",
    "r_colors = {m: colors[i] for i, m in enumerate(table.model.unique())}\n",
    "\n",
    "fig = go.Figure(data=[\n",
    "    go.Bar(\n",
    "        name=m, x=cols, y=[table[table.model==m][c+'_'+metric].iloc[0] for c in cols],\n",
    "        textposition='outside',\n",
    "        text=['{}'.format(round(a,3)) for a in [table[table.model==m][c+'_'+metric].iloc[0] for c in cols]],\n",
    "        marker_color= r_colors[m]\n",
    "    )\n",
    "    for m in table.model.unique()])\n",
    "\n",
    "fig.update_layout(barmode='group', width=800, height=400)\n",
    "fig.update_yaxes(range=[0, 1.5])\n",
    "fig.update_layout(legend=dict(\n",
    "    orientation=\"h\",\n",
    "    yanchor=\"bottom\",\n",
    "    y=1.02,\n",
    "    xanchor=\"right\",\n",
    "    x=1\n",
    "))\n",
    "fig.show()"
   ]
  },
  {
   "cell_type": "code",
   "execution_count": 33,
   "metadata": {},
   "outputs": [],
   "source": [
    "param_names = ['hc', 'lr']\n",
    "\n",
    "best_params = results_gnn.groupby(['model'],as_index=False).agg(\n",
    "    {p:'first' for p in param_names})\n",
    "best_params.index= best_params.model\n",
    "best_params.drop('model', axis=1, inplace=True)\n",
    "best_params = best_params.to_dict(orient='index')"
   ]
  },
  {
   "cell_type": "code",
   "execution_count": 34,
   "metadata": {},
   "outputs": [
    {
     "data": {
      "text/plain": [
       "{'GATConv': {'hc': 16, 'lr': 0.05}, 'SAGEConv': {'hc': 16, 'lr': 0.05}}"
      ]
     },
     "execution_count": 34,
     "metadata": {},
     "output_type": "execute_result"
    }
   ],
   "source": [
    "best_params"
   ]
  }
 ],
 "metadata": {
  "kernelspec": {
   "display_name": "pytorch",
   "language": "python",
   "name": "python3"
  },
  "language_info": {
   "codemirror_mode": {
    "name": "ipython",
    "version": 3
   },
   "file_extension": ".py",
   "mimetype": "text/x-python",
   "name": "python",
   "nbconvert_exporter": "python",
   "pygments_lexer": "ipython3",
   "version": "3.11.9"
  }
 },
 "nbformat": 4,
 "nbformat_minor": 2
}
